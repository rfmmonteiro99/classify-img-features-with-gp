{
 "cells": [
  {
   "cell_type": "markdown",
   "id": "1d493329",
   "metadata": {},
   "source": [
    "### This file needs to be run on an WSL2 env with ellyn (windows)!"
   ]
  },
  {
   "cell_type": "code",
   "execution_count": 1,
   "id": "715a6c91",
   "metadata": {},
   "outputs": [],
   "source": [
    "from sklearn.datasets import load_wine # load_breast_cancer\n",
    "from sklearn.preprocessing import LabelEncoder\n",
    "import numpy as np"
   ]
  },
  {
   "cell_type": "code",
   "execution_count": 2,
   "id": "7e721a98",
   "metadata": {},
   "outputs": [],
   "source": [
    "data = load_wine()\n",
    "X = data.data\n",
    "y = data.target"
   ]
  },
  {
   "cell_type": "code",
   "execution_count": 3,
   "id": "c1711ce4",
   "metadata": {},
   "outputs": [
    {
     "name": "stdout",
     "output_type": "stream",
     "text": [
      "y unique: [0 1 2] \n",
      "\n",
      "x: [[1.423e+01 1.710e+00 2.430e+00 ... 1.040e+00 3.920e+00 1.065e+03]\n",
      " [1.320e+01 1.780e+00 2.140e+00 ... 1.050e+00 3.400e+00 1.050e+03]\n",
      " [1.316e+01 2.360e+00 2.670e+00 ... 1.030e+00 3.170e+00 1.185e+03]\n",
      " ...\n",
      " [1.327e+01 4.280e+00 2.260e+00 ... 5.900e-01 1.560e+00 8.350e+02]\n",
      " [1.317e+01 2.590e+00 2.370e+00 ... 6.000e-01 1.620e+00 8.400e+02]\n",
      " [1.413e+01 4.100e+00 2.740e+00 ... 6.100e-01 1.600e+00 5.600e+02]]\n"
     ]
    }
   ],
   "source": [
    "print('y unique:', np.unique(y), '\\n')\n",
    "\n",
    "print('x:', X)"
   ]
  },
  {
   "cell_type": "code",
   "execution_count": 4,
   "id": "199bab75",
   "metadata": {},
   "outputs": [
    {
     "name": "stdout",
     "output_type": "stream",
     "text": [
      "yle unique: [0 1 2]\n"
     ]
    }
   ],
   "source": [
    "le = LabelEncoder()\n",
    "y_le = le.fit_transform(y)\n",
    "print('yle unique:', np.unique(y_le))"
   ]
  },
  {
   "cell_type": "code",
   "execution_count": null,
   "id": "a9d26da2",
   "metadata": {},
   "outputs": [],
   "source": []
  },
  {
   "cell_type": "code",
   "execution_count": 5,
   "id": "2253db64",
   "metadata": {},
   "outputs": [],
   "source": [
    "from sklearn.model_selection import train_test_split\n",
    "from sklearn.metrics import accuracy_score\n",
    "\n",
    "from ellyn import ellyn"
   ]
  },
  {
   "cell_type": "code",
   "execution_count": 6,
   "id": "d157354e",
   "metadata": {},
   "outputs": [],
   "source": [
    "X_train, X_test, y_train, y_test = train_test_split(X, y,\n",
    "                                                    test_size=0.2, random_state=42)"
   ]
  },
  {
   "cell_type": "code",
   "execution_count": 19,
   "id": "2ed05e32",
   "metadata": {},
   "outputs": [],
   "source": [
    "# Check all parameters here:\n",
    "# https://github.com/cavalab/ellyn/blob/03ebdf07f0bfdca30da1a9a0a0da2989e9b1153c/src/ellyn.py#L42\n",
    "\n",
    "e = ellyn(\n",
    "    #g=200, \n",
    "    #popsize=50,\n",
    "    verbosity=1,\n",
    "    class_m4gp=True,\n",
    "    op_list=['n','v','+','-','*','/', 'sin', 'cos', 'exp', 'log', 'sqrt'],\n",
    "    #selection='lexicase',\n",
    "    #fit_type='F1'\n",
    ")"
   ]
  },
  {
   "cell_type": "code",
   "execution_count": 20,
   "id": "31701fdd",
   "metadata": {
    "scrolled": false
   },
   "outputs": [
    {
     "name": "stdout",
     "output_type": "stream",
     "text": [
      "ellen_params: {'AR': False, 'AR_lookahead': False, 'AR_na': 1, 'AR_nb': 1, 'AR_nka': 1, 'AR_nkb': 0, 'ERC': True, 'ERCints': False, 'EstimateFitness': False, 'FE_ind_size': 0, 'FE_pop_size': 0, 'FE_rank': False, 'FE_train_gens': 0, 'FE_train_size': 0, 'G_sel': 1, 'G_shuffle': False, 'PS_sel': 1, 'SGD': False, 'align_dev': False, 'class_bool': False, 'class_m4gp': False, 'class_prune': False, 'classification': False, 'complex_measure': 1, 'cross': 3, 'cross_ar': 0.025, 'eHC_init': 0.5, 'eHC_its': 1, 'eHC_mut': False, 'eHC_on': False, 'eHC_prob': 0.1, 'eHC_slim': False, 'elitism': False, 'estimate_generality': False, 'fit_type': 'MSE', 'g': 100, 'init_trees': True, 'init_validate_on': False, 'island_gens': 100, 'islands': True, 'learning_rate': 1.0, 'lex_class': False, 'lex_eps_dynamic': False, 'lex_eps_dynamic_madcap': False, 'lex_eps_dynamic_rand': False, 'lex_eps_error': False, 'lex_eps_error_mad': False, 'lex_eps_global': False, 'lex_eps_std': False, 'lex_eps_target': False, 'lex_eps_target_mad': False, 'lex_epsilon': 0.1, 'lexage': False, 'lexpool': 1.0, 'limit_evals': False, 'lineHC_its': 0, 'lineHC_on': False, 'maxERC': 1, 'max_evals': 0, 'max_fit': 1e+20, 'max_len': 20, 'max_len_init': 0, 'minERC': -1, 'min_fit': 1e-20, 'min_len': 3, 'mut_ar': 0.025, 'mutate': 1, 'norm_error': False, 'nt': 1, 'numERC': 1, 'num_islands': 0, 'num_log_pts': 0, 'op_list': ['n', 'v', '+', '-', '*', '/', 'sin', 'cos', 'exp', 'log', 'sqrt'], 'pHC_gauss': 0, 'pHC_its': 1, 'pHC_on': False, 'pop_restart': False, 'pop_restart_path': '', 'popsize': 500, 'print_archive': False, 'print_best_ind': False, 'print_data': False, 'print_db': False, 'print_epigenome': False, 'print_every_pop': False, 'print_genome': False, 'print_homology': False, 'print_init_pop': False, 'print_last_pop': False, 'print_log': False, 'print_novelty': False, 'print_protected_operators': False, 'prto_arch_on': False, 'prto_arch_size': 1, 'prto_sel_on': False, 'resultspath': './', 'return_pop': False, 'rt_cross': 0.6, 'rt_mut': 0.4, 'rt_rep': 0, 'savename': '', 'selection': 'tournament', 'shuffle_data': False, 'stop_condition': True, 'stop_threshold': 1e-06, 'test_at_end': False, 'tourn_size': 2, 'train': False, 'train_pct': 0.5, 'verbosity': 1, 'weight_error': False, 'sel': 1}\n",
      "Storing DistanceClassifier...\n",
      "final model(s):\n",
      "best model: ['x_4', 'x_11', 'sqrt(|x_6|)', 'x_6', '(sqrt(|(cos((cos(sin(x_10))-cos(x_6)))/0.591)|)/x_10)']\n"
     ]
    },
    {
     "data": {
      "text/plain": [
       "ellyn(class_m4gp=True,\n",
       "      op_list=['n', 'v', '+', '-', '*', '/', 'sin', 'cos', 'exp', 'log',\n",
       "               'sqrt'],\n",
       "      verbosity=1)"
      ]
     },
     "execution_count": 20,
     "metadata": {},
     "output_type": "execute_result"
    }
   ],
   "source": [
    "e.fit(X_train, y_train)"
   ]
  },
  {
   "cell_type": "code",
   "execution_count": 21,
   "id": "cb258f50",
   "metadata": {},
   "outputs": [
    {
     "name": "stdout",
     "output_type": "stream",
     "text": [
      "[0 0 2 0 1 0 1 2 1 2 1 2 1 1 0 1 1 1 1 1 1 1 1 2 2 2 1 1 1 0 1 1 2 0 1 0]\n"
     ]
    }
   ],
   "source": [
    "predictions = e.predict(X_test)\n",
    "\n",
    "print(predictions)"
   ]
  },
  {
   "cell_type": "code",
   "execution_count": 22,
   "id": "f6f9e49f",
   "metadata": {},
   "outputs": [
    {
     "name": "stdout",
     "output_type": "stream",
     "text": [
      "M4GP: 0.8333333333333334\n"
     ]
    }
   ],
   "source": [
    "# for ix, class_ in enumerate(predictions):\n",
    "#     if class_ > 2:\n",
    "#         predictions[ix]=2\n",
    "\n",
    "print('M4GP:', accuracy_score(y_test, predictions))"
   ]
  },
  {
   "cell_type": "code",
   "execution_count": null,
   "id": "368a18c5",
   "metadata": {},
   "outputs": [],
   "source": []
  },
  {
   "cell_type": "code",
   "execution_count": 23,
   "id": "10e43178",
   "metadata": {},
   "outputs": [
    {
     "data": {
      "text/plain": [
       "KNeighborsClassifier()"
      ]
     },
     "execution_count": 23,
     "metadata": {},
     "output_type": "execute_result"
    }
   ],
   "source": [
    "from sklearn.neighbors import KNeighborsClassifier\n",
    "knn = KNeighborsClassifier()\n",
    "\n",
    "knn.fit(X_train, y_train)"
   ]
  },
  {
   "cell_type": "code",
   "execution_count": 24,
   "id": "6662dae9",
   "metadata": {},
   "outputs": [
    {
     "name": "stdout",
     "output_type": "stream",
     "text": [
      "KNN: 0.7222222222222222\n"
     ]
    }
   ],
   "source": [
    "print('KNN:', accuracy_score(y_test, knn.predict(X_test)))"
   ]
  },
  {
   "cell_type": "code",
   "execution_count": null,
   "id": "48d5c0fc",
   "metadata": {},
   "outputs": [],
   "source": []
  }
 ],
 "metadata": {
  "kernelspec": {
   "display_name": "Python 3 (ipykernel)",
   "language": "python",
   "name": "python3"
  },
  "language_info": {
   "codemirror_mode": {
    "name": "ipython",
    "version": 3
   },
   "file_extension": ".py",
   "mimetype": "text/x-python",
   "name": "python",
   "nbconvert_exporter": "python",
   "pygments_lexer": "ipython3",
   "version": "3.9.9"
  }
 },
 "nbformat": 4,
 "nbformat_minor": 5
}
