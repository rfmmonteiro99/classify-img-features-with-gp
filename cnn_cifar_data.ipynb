{
  "cells": [
    {
      "cell_type": "markdown",
      "id": "e8aebb21",
      "metadata": {
        "id": "e8aebb21"
      },
      "source": [
        "# Create intermediate datasets: CIFAR-10 and CIFAR-100\n",
        "\n",
        "**Rui Filipe Martins Monteiro (R20170796) | MSc in Data Science and Advanced Analytics**\n",
        "\n",
        "<br>\n",
        "\n",
        "This notebook creates the intermediate datasets for CIFAR-10 and CIFAR-100. This means training a CNN on a dataset, removing the fully-connected layers and producing the (flattened) output from the last convolutional layers. This output is then referred to as the intermediate dataset and saved for future reuse.\n",
        "\n",
        "The intermediate datasets from this notebook are created imported images. In this case, either CIFAR-10 or CIFAR-100 is used.\n",
        "\n",
        "<br>\n",
        "\n",
        "This code is heavily inspired by: Jonathan Janke (https://github.com/novajon/classy-conv-features)\n",
        "\n",
        "Code changed and improved by: Rui Monteiro"
      ]
    },
    {
      "cell_type": "code",
      "source": [
        "!pip install ann_visualizer"
      ],
      "metadata": {
        "colab": {
          "base_uri": "https://localhost:8080/"
        },
        "id": "Li26TqDfAzKQ",
        "outputId": "efdec528-4d35-4a2d-a131-70a311232eb6"
      },
      "id": "Li26TqDfAzKQ",
      "execution_count": 1,
      "outputs": [
        {
          "output_type": "stream",
          "name": "stdout",
          "text": [
            "Collecting ann_visualizer\n",
            "  Downloading ann_visualizer-2.5.tar.gz (4.7 kB)\n",
            "Building wheels for collected packages: ann-visualizer\n",
            "  Building wheel for ann-visualizer (setup.py) ... \u001b[?25l\u001b[?25hdone\n",
            "  Created wheel for ann-visualizer: filename=ann_visualizer-2.5-py3-none-any.whl size=4168 sha256=b5e89c1d0934c4ed3b76bdfd83fec698ac7341f8aabc1aef858fa1ea252c54dd\n",
            "  Stored in directory: /root/.cache/pip/wheels/1b/fc/58/2ab1c3b30350105929308becddda4fb59b1358e54f985e1f4a\n",
            "Successfully built ann-visualizer\n",
            "Installing collected packages: ann-visualizer\n",
            "Successfully installed ann-visualizer-2.5\n"
          ]
        }
      ]
    },
    {
      "cell_type": "code",
      "execution_count": 2,
      "id": "981b77ae",
      "metadata": {
        "id": "981b77ae"
      },
      "outputs": [],
      "source": [
        "# Imports\n",
        "import json\n",
        "import pandas as pd\n",
        "import numpy as np\n",
        "\n",
        "import os\n",
        "import datetime\n",
        "from tensorflow.keras.preprocessing.image import load_img\n",
        "from tensorflow.keras.preprocessing.image import img_to_array\n",
        "from tensorflow.keras.applications.imagenet_utils import decode_predictions\n",
        "import matplotlib.pyplot as plt\n",
        "from PIL import Image\n",
        "\n",
        "from sklearn.model_selection import train_test_split\n",
        "from tensorflow.keras.utils import to_categorical\n",
        "\n",
        "import tensorflow as tf\n",
        "import tensorflow.keras as keras\n",
        "from tensorflow.keras.models import Sequential\n",
        "from tensorflow.keras.layers import Dense, Dropout, Flatten, Activation, InputLayer, Conv2D, MaxPooling2D\n",
        "from tensorflow.keras.layers import BatchNormalization\n",
        "from keras.layers.advanced_activations import LeakyReLU\n",
        "from tensorflow.keras.initializers import glorot_normal, RandomNormal, Zeros\n",
        "\n",
        "import math\n",
        "from tensorflow.keras.datasets import cifar10, cifar100\n",
        "from scipy.cluster.vq import whiten\n",
        "\n",
        "import glob\n",
        "\n",
        "from tensorflow.keras.applications import InceptionV3, Xception, InceptionResNetV2\n",
        "from tensorflow.keras import Model\n",
        "\n",
        "from ann_visualizer.visualize import ann_viz\n",
        "\n",
        "from keras.utils.vis_utils import plot_model\n",
        "\n",
        "import warnings\n",
        "warnings.filterwarnings(\"ignore\")"
      ]
    },
    {
      "cell_type": "markdown",
      "id": "fca807e2",
      "metadata": {
        "id": "fca807e2"
      },
      "source": [
        "## Functions"
      ]
    },
    {
      "cell_type": "code",
      "execution_count": 3,
      "id": "f4347e68",
      "metadata": {
        "id": "f4347e68"
      },
      "outputs": [],
      "source": [
        "def show_image_classes(images, classes, prefix, suffix=\"\"):\n",
        "    \"\"\"Save input images in folder structure and output them\n",
        "\n",
        "    Parameters\n",
        "    ----------\n",
        "    images : array, e.g. numpy array\n",
        "        images to show\n",
        "\n",
        "    classes : list\n",
        "        [not used]\n",
        "\n",
        "    prefix : string\n",
        "        prefix to add to output name\n",
        "\n",
        "    suffix : string\n",
        "        suffix to add to output name\n",
        "    \"\"\"\n",
        "    for cl in np.unique(y_train):\n",
        "        for ind, el in enumerate(y_train):\n",
        "            if el == cl:\n",
        "                class_pos = ind\n",
        "                break\n",
        "        plt.figure()\n",
        "        plt.imshow(np.uint8(x_train[class_pos]))\n",
        "        plt.axis('off')\n",
        "        path = \"sample_images/\" + prefix + \"/\"\n",
        "        if not os.path.exists(path):\n",
        "            os.makedirs(path)\n",
        "        plt.savefig(path + input_path.split(\"/\")[1].split(\"_\")[0] + \"_\" + str(cl) + \"_sample_image_\" + suffix)"
      ]
    },
    {
      "cell_type": "code",
      "execution_count": 4,
      "id": "e832b301",
      "metadata": {
        "id": "e832b301"
      },
      "outputs": [],
      "source": [
        "def normalize_production(x, cifar_version):\n",
        "    \"\"\"This function is used to normalize instances in production according to saved training set statistics\n",
        "    (from https://github.com/geifmany/cifar-vgg)\n",
        "\n",
        "    Parameters\n",
        "    ----------\n",
        "    X_train : array, e.g., numpy array\n",
        "        training data set\n",
        "\n",
        "    X_test : array, e.g., numpy array\n",
        "        test data set\n",
        "    \n",
        "    cifar_version : string\n",
        "        the version of CIFAR that's being used - either 'cifar10' or 'cifar100'\n",
        "\n",
        "    Returns: normalized training set and test set according to preset constants.\n",
        "    \"\"\"\n",
        "    # These values are produced during first training and are general for the standard CIFAR training set normalization\n",
        "    if cifar_version == 'cifar10':\n",
        "        mean = 120.707\n",
        "        std = 64.15\n",
        "        return (x-mean)/(std+1e-7)\n",
        "\n",
        "    if cifar_version == 'cifar100':\n",
        "        mean = 121.936\n",
        "        std = 68.389\n",
        "        return (x-mean)/(std+1e-7)"
      ]
    },
    {
      "cell_type": "code",
      "execution_count": 5,
      "id": "8f86fdf4",
      "metadata": {
        "id": "8f86fdf4"
      },
      "outputs": [],
      "source": [
        "def normalize_data(x_train, x_test, cifar_version):\n",
        "    \"\"\"Format the input data by normalizing it\n",
        "\n",
        "    Parameters\n",
        "    ----------\n",
        "    x_train : array, e.g., numpy array\n",
        "        training data to transform\n",
        "        \n",
        "    x_test : array, e.g., numpy array\n",
        "        test data to transform\n",
        "        \n",
        "    cifar_version : string\n",
        "        the version of CIFAR that's being used - either 'cifar10' or 'cifar100'\n",
        "    \"\"\"\n",
        "    x_train = x_train.astype('float32')\n",
        "    x_test = x_test.astype('float32')\n",
        "    x_train = normalize_production(x_train, cifar_version)\n",
        "    x_test = normalize_production(x_test, cifar_version)\n",
        "    \n",
        "    return x_train, x_test"
      ]
    },
    {
      "cell_type": "code",
      "execution_count": 6,
      "id": "2e3471a2",
      "metadata": {
        "id": "2e3471a2"
      },
      "outputs": [],
      "source": [
        "def create_MLP_1(input_shape):\n",
        "    \"\"\"Create multi-layer perceptron with predefined structure.\n",
        "    This CNN was manually designed by: Jonathan Janke (from https://github.com/novajon/classy-conv-features)\n",
        "\n",
        "    Parameters\n",
        "    ----------\n",
        "    input_shape : tuple\n",
        "        shape of the input data\n",
        "    \"\"\"\n",
        "    model = Sequential()\n",
        "    model.add(Conv2D(128, (3, 3), padding='same',\n",
        "            input_shape=x_train.shape[1:]))\n",
        "    model.add(Activation('elu'))\n",
        "    model.add(Conv2D(128, (3, 3)))\n",
        "    model.add(Activation('elu'))\n",
        "    model.add(MaxPooling2D(pool_size=(2, 2)))\n",
        "    model.add(Dropout(0.1))\n",
        "    model.add(Conv2D(256, (3, 3), padding='same'))\n",
        "    model.add(Activation('elu'))\n",
        "    model.add(Conv2D(256, (3, 3)))\n",
        "    model.add(Activation('elu'))\n",
        "    model.add(MaxPooling2D(pool_size=(2, 2)))\n",
        "    model.add(Dropout(0.25))\n",
        "\n",
        "    model.add(Conv2D(512, (3, 3), padding='same'))\n",
        "    model.add(Activation('elu'))\n",
        "    model.add(Conv2D(512, (3, 3)))\n",
        "    model.add(Activation('elu'))\n",
        "    model.add(MaxPooling2D(pool_size=(2, 2)))\n",
        "    model.add(Dropout(0.5))\n",
        "\n",
        "    model.add(Flatten())\n",
        "    model.add(Dense(1024))\n",
        "    model.add(Activation('elu'))\n",
        "    model.add(Dropout(0.5))\n",
        "    model.add(Dense(num_classes))\n",
        "    model.add(Activation('softmax'))\n",
        "    \n",
        "    return model"
      ]
    },
    {
      "cell_type": "code",
      "source": [
        "# --- PUT THESE IMPORTS ON TOP OF THE NOTEBOOK ---\n",
        "from __future__ import print_function\n",
        "from keras.datasets import cifar10\n",
        "from keras.preprocessing.image import ImageDataGenerator\n",
        "\n",
        "from keras.layers import Conv2D, MaxPooling2D, BatchNormalization\n",
        "from keras import optimizers\n",
        "from keras.layers.core import Lambda\n",
        "from keras import backend as K\n",
        "from keras import regularizers\n",
        "\n",
        "\n",
        "class cifar10vgg:\n",
        "    \"\"\"Create VGG-16 model (from https://github.com/geifmany/cifar-vgg)\n",
        "\n",
        "    Reference:\n",
        "    - Simonyan, K., & Zisserman, A. (2014). Very Deep Convolutional Networks for Large-Scale Image Recognition.\n",
        "    \"\"\"\n",
        "    def __init__(self,train=True):\n",
        "        \"\"\"Initialize VGG-16\n",
        "\n",
        "        Parameters\n",
        "        ----------\n",
        "        train : boolean\n",
        "            determines if weights should be loaded or retrained\n",
        "        \"\"\"\n",
        "        self.num_classes = 10\n",
        "        self.weight_decay = 0.0005\n",
        "        self.x_shape = [32,32,3]\n",
        "\n",
        "        self.model = self.build_model()\n",
        "        if train:\n",
        "            # Train model\n",
        "            self.model = self.train(self.model)\n",
        "        else:\n",
        "            # Location where saved weights are stored\n",
        "            self.model.load_weights('model_weights_cifarvgg/cifar10vgg.h5')\n",
        "\n",
        "    def build_model(self):\n",
        "        \"\"\"Create multi-layer perceptron with predefined structure\n",
        "        \"\"\"\n",
        "        # Build the network of vgg for 10 classes with massive dropout and weight decay as described in the paper.\n",
        "\n",
        "        model = Sequential()\n",
        "        weight_decay = self.weight_decay\n",
        "\n",
        "        model.add(Conv2D(64, (3, 3), padding='same',\n",
        "                         input_shape=self.x_shape,kernel_regularizer=regularizers.l2(weight_decay)))\n",
        "        model.add(Activation('relu'))\n",
        "        model.add(BatchNormalization())\n",
        "        model.add(Dropout(0.3))\n",
        "\n",
        "        model.add(Conv2D(64, (3, 3), padding='same',kernel_regularizer=regularizers.l2(weight_decay)))\n",
        "        model.add(Activation('relu'))\n",
        "        model.add(BatchNormalization())\n",
        "\n",
        "        model.add(MaxPooling2D(pool_size=(2, 2)))\n",
        "\n",
        "        model.add(Conv2D(128, (3, 3), padding='same',kernel_regularizer=regularizers.l2(weight_decay)))\n",
        "        model.add(Activation('relu'))\n",
        "        model.add(BatchNormalization())\n",
        "        model.add(Dropout(0.4))\n",
        "\n",
        "        model.add(Conv2D(128, (3, 3), padding='same',kernel_regularizer=regularizers.l2(weight_decay)))\n",
        "        model.add(Activation('relu'))\n",
        "        model.add(BatchNormalization())\n",
        "\n",
        "        model.add(MaxPooling2D(pool_size=(2, 2)))\n",
        "\n",
        "        model.add(Conv2D(256, (3, 3), padding='same',kernel_regularizer=regularizers.l2(weight_decay)))\n",
        "        model.add(Activation('relu'))\n",
        "        model.add(BatchNormalization())\n",
        "        model.add(Dropout(0.4))\n",
        "\n",
        "        model.add(Conv2D(256, (3, 3), padding='same',kernel_regularizer=regularizers.l2(weight_decay)))\n",
        "        model.add(Activation('relu'))\n",
        "        model.add(BatchNormalization())\n",
        "        model.add(Dropout(0.4))\n",
        "\n",
        "        model.add(Conv2D(256, (3, 3), padding='same',kernel_regularizer=regularizers.l2(weight_decay)))\n",
        "        model.add(Activation('relu'))\n",
        "        model.add(BatchNormalization())\n",
        "\n",
        "        model.add(MaxPooling2D(pool_size=(2, 2)))\n",
        "\n",
        "        model.add(Conv2D(512, (3, 3), padding='same',kernel_regularizer=regularizers.l2(weight_decay)))\n",
        "        model.add(Activation('relu'))\n",
        "        model.add(BatchNormalization())\n",
        "        model.add(Dropout(0.4))\n",
        "\n",
        "        model.add(Conv2D(512, (3, 3), padding='same',kernel_regularizer=regularizers.l2(weight_decay)))\n",
        "        model.add(Activation('relu'))\n",
        "        model.add(BatchNormalization())\n",
        "        model.add(Dropout(0.4))\n",
        "\n",
        "        model.add(Conv2D(512, (3, 3), padding='same',kernel_regularizer=regularizers.l2(weight_decay)))\n",
        "        model.add(Activation('relu'))\n",
        "        model.add(BatchNormalization())\n",
        "\n",
        "        model.add(MaxPooling2D(pool_size=(2, 2)))\n",
        "\n",
        "        model.add(Conv2D(512, (3, 3), padding='same',kernel_regularizer=regularizers.l2(weight_decay)))\n",
        "        model.add(Activation('relu'))\n",
        "        model.add(BatchNormalization())\n",
        "        model.add(Dropout(0.4))\n",
        "\n",
        "        model.add(Conv2D(512, (3, 3), padding='same',kernel_regularizer=regularizers.l2(weight_decay)))\n",
        "        model.add(Activation('relu'))\n",
        "        model.add(BatchNormalization())\n",
        "        model.add(Dropout(0.4))\n",
        "\n",
        "        model.add(Conv2D(512, (3, 3), padding='same',kernel_regularizer=regularizers.l2(weight_decay)))\n",
        "        model.add(Activation('relu'))\n",
        "        model.add(BatchNormalization())\n",
        "\n",
        "        model.add(MaxPooling2D(pool_size=(2, 2)))\n",
        "        model.add(Dropout(0.5))\n",
        "\n",
        "        model.add(Flatten())\n",
        "        model.add(Dense(512,kernel_regularizer=regularizers.l2(weight_decay)))\n",
        "        model.add(Activation('relu'))\n",
        "        model.add(BatchNormalization())\n",
        "\n",
        "        model.add(Dropout(0.5))\n",
        "        model.add(Dense(self.num_classes))\n",
        "        model.add(Activation('softmax'))\n",
        "        return model\n",
        "\n",
        "    def normalize(self,X_train,X_test):\n",
        "        \"\"\"This function normalizes inputs for zero mean and unit variance.\n",
        "        It is used when training a model.\n",
        "\n",
        "        Parameters\n",
        "        ----------\n",
        "        X_train : array, e.g., numpy array\n",
        "            training data set\n",
        "        X_test : array, e.g., numpy array\n",
        "            test data set\n",
        "\n",
        "        Returns: normalized training set and test set according to the training set statistics.\n",
        "        \"\"\"\n",
        "        mean = np.mean(X_train,axis=(0,1,2,3))\n",
        "        std = np.std(X_train, axis=(0,1,2,3))\n",
        "        X_train = (X_train-mean)/(std+1e-7)\n",
        "        X_test = (X_test-mean)/(std+1e-7)\n",
        "        return X_train, X_test\n",
        "    \n",
        "    def normalize_production(self,x):\n",
        "        \"\"\"This function is used to normalize instances in production according to saved training set statistics\n",
        "\n",
        "        Parameters\n",
        "        ----------\n",
        "        X_train : array, e.g., numpy array\n",
        "            training data set\n",
        "        X_test : array, e.g., numpy array\n",
        "            test data set\n",
        "\n",
        "        Returns: normalized training set and test set according to preset constants.\n",
        "        \"\"\"\n",
        "        # These values produced during first training and are general for the standard CIFAR-10 training set normalization\n",
        "        mean = 120.707\n",
        "        std = 64.15\n",
        "        return (x-mean)/(std+1e-7)\n",
        "\n",
        "    def predict(self,x,normalize=True,batch_size=50):\n",
        "        \"\"\"Makes a prediction using the trained model\n",
        "\n",
        "        Parameters\n",
        "        ----------\n",
        "        X : array, e.g., numpy array\n",
        "            data to make prediction on\n",
        "        normalize : boolean\n",
        "            determines if dataset should be normalised before making a prediction\n",
        "        batch_size : int\n",
        "            determines the batch size per prediction batch\n",
        "\n",
        "        Returns : predictions\n",
        "        \"\"\"\n",
        "        if normalize:\n",
        "            x = self.normalize_production(x)\n",
        "        return self.model.predict(x,batch_size)\n",
        "\n",
        "    def train(self,model):\n",
        "        \"\"\"Trains the model\n",
        "\n",
        "        Parameters\n",
        "        ----------\n",
        "        model : Model\n",
        "            model to be trained\n",
        "        \"\"\"\n",
        "        # Training parameters\n",
        "        batch_size = 128\n",
        "        maxepoches = 250\n",
        "        learning_rate = 0.1\n",
        "        lr_decay = 1e-6\n",
        "        lr_drop = 20\n",
        "\n",
        "        # The data, shuffled and split between train and test sets:\n",
        "        (x_train, y_train), (x_test, y_test) = cifar10.load_data()\n",
        "        x_train = x_train.astype('float32')\n",
        "        x_test = x_test.astype('float32')\n",
        "        x_train, x_test = self.normalize(x_train, x_test)\n",
        "\n",
        "        y_train = keras.utils.to_categorical(y_train, self.num_classes)\n",
        "        y_test = keras.utils.to_categorical(y_test, self.num_classes)\n",
        "\n",
        "        def lr_scheduler(epoch):\n",
        "            return learning_rate * (0.5 ** (epoch // lr_drop))\n",
        "        reduce_lr = keras.callbacks.LearningRateScheduler(lr_scheduler)\n",
        "\n",
        "        # Data augmentation\n",
        "        datagen = ImageDataGenerator(\n",
        "            featurewise_center=False,  # set input mean to 0 over the dataset\n",
        "            samplewise_center=False,  # set each sample mean to 0\n",
        "            featurewise_std_normalization=False,  # divide inputs by std of the dataset\n",
        "            samplewise_std_normalization=False,  # divide each input by its std\n",
        "            zca_whitening=False,  # apply ZCA whitening\n",
        "            rotation_range=15,  # randomly rotate images in the range (degrees, 0 to 180)\n",
        "            width_shift_range=0.1,  # randomly shift images horizontally (fraction of total width)\n",
        "            height_shift_range=0.1,  # randomly shift images vertically (fraction of total height)\n",
        "            horizontal_flip=True,  # randomly flip images\n",
        "            vertical_flip=False)  # randomly flip images\n",
        "\n",
        "        # (std, mean, and principal components if ZCA whitening is applied).\n",
        "        datagen.fit(x_train)\n",
        "\n",
        "        # Optimization details\n",
        "        sgd = optimizers.SGD(lr=learning_rate, decay=lr_decay, momentum=0.9, nesterov=True)\n",
        "        model.compile(loss='categorical_crossentropy', optimizer=sgd,metrics=['accuracy'])\n",
        "\n",
        "        # Training process in a for loop with learning rate drop every 25 epoches.\n",
        "        historytemp = model.fit_generator(datagen.flow(x_train, y_train,\n",
        "                                         batch_size=batch_size),\n",
        "                            steps_per_epoch=x_train.shape[0] // batch_size,\n",
        "                            epochs=maxepoches,\n",
        "                            validation_data=(x_test, y_test),callbacks=[reduce_lr],verbose=2)\n",
        "        model.save_weights('cifar10vgg.h5')\n",
        "        return model"
      ],
      "metadata": {
        "id": "rueV8y-IujK5"
      },
      "id": "rueV8y-IujK5",
      "execution_count": 7,
      "outputs": []
    },
    {
      "cell_type": "code",
      "source": [
        "def cut_model(input_model):\n",
        "    \"\"\"Removes fully-connected layer from the end of a CNN model\n",
        "\n",
        "    Parameters\n",
        "    ----------\n",
        "    input_model : Model\n",
        "        model to cut\n",
        "    \"\"\"\n",
        "    dense_layer_count = 0\n",
        "    count = False\n",
        "    model_length = len(input_model.layers)\n",
        "    output_model = Sequential()\n",
        "    output_config = []\n",
        "\n",
        "    for index in range(model_length):\n",
        "        if count == True:\n",
        "            output_config.append(layer.get_config())\n",
        "            input_model.pop()\n",
        "        else:\n",
        "            layer = input_model.layers[index]\n",
        "        if layer.name.startswith('flatten'):\n",
        "            count = True\n",
        "            output_model.add(InputLayer(input_shape=layer.output_shape))          \n",
        "    # return output_model"
      ],
      "metadata": {
        "id": "SiZ_at8_M1yT"
      },
      "id": "SiZ_at8_M1yT",
      "execution_count": 8,
      "outputs": []
    },
    {
      "cell_type": "code",
      "source": [
        "def create_output_files(x_train, x_test, y_train, y_test, prefix, suffix = \"\"):\n",
        "    \"\"\"Create the output files to save intermediate datasets for further use\n",
        "\n",
        "    Parameters\n",
        "    ----------\n",
        "    x_train : array, e.g., numpy array\n",
        "        training input data\n",
        "\n",
        "    x_test : array, e.g., numpy array\n",
        "        testing input data\n",
        "\n",
        "    y_train : list\n",
        "        training target data\n",
        "\n",
        "    y_test : list\n",
        "        test target data\n",
        "\n",
        "    prefix : string\n",
        "        prefix to add to output file name\n",
        "\n",
        "    suffix : string\n",
        "        suffix to add to output file name\n",
        "    \"\"\"\n",
        "    for i, model in enumerate(models):\n",
        "        pred_train = model.predict(x_train)\n",
        "        pred_test = model.predict(x_test)\n",
        "        pred_train_with_target = np.array([np.array([preds, y_train[i]]) for i, preds in enumerate(pred_train)])\n",
        "        pred_test_with_target = np.array([np.array([preds, y_test[i]]) for i, preds in enumerate(pred_test)])\n",
        "        path = input_path + \"intermediate/\" + prefix + \"/\" + model_names[i]\n",
        "        \n",
        "        if not os.path.exists(path):\n",
        "            os.makedirs(path)\n",
        "            \n",
        "        np.save(path + \"/train\" + suffix, pred_train_with_target)\n",
        "        np.save(path + \"/test\" + suffix, pred_test_with_target)"
      ],
      "metadata": {
        "id": "bbuVeAN6PLzo"
      },
      "id": "bbuVeAN6PLzo",
      "execution_count": 9,
      "outputs": []
    },
    {
      "cell_type": "code",
      "source": [
        "def plot_model_stats(hist):\n",
        "    \"\"\"Plot model statistics after the learning procedure, e.g. accuracy development over time (epochs)\n",
        "\n",
        "    Parameters\n",
        "    ----------\n",
        "    hist : Histogram\n",
        "        model statistics to plot\n",
        "    \"\"\"\n",
        "    # Summarize history for accuracy\n",
        "    plt.plot(hist.history['accuracy'])\n",
        "    plt.plot(hist.history['val_accuracy'])\n",
        "    plt.title('Model Accuracy')\n",
        "    plt.ylabel('accuracy')\n",
        "    plt.xlabel('epoch')\n",
        "    plt.legend(['train', 'test'], loc='upper left')\n",
        "    plt.show()\n",
        "    \n",
        "    # Summarize history for loss\n",
        "    plt.plot(hist.history['loss'])\n",
        "    plt.plot(hist.history['val_loss'])\n",
        "    plt.title('Model Loss')\n",
        "    plt.ylabel('loss')\n",
        "    plt.xlabel('epoch')\n",
        "    plt.legend(['train', 'test'], loc='upper left')\n",
        "    plt.show()"
      ],
      "metadata": {
        "id": "D0AxQUAnQLpE"
      },
      "id": "D0AxQUAnQLpE",
      "execution_count": 10,
      "outputs": []
    },
    {
      "cell_type": "markdown",
      "id": "71d704da",
      "metadata": {
        "id": "71d704da"
      },
      "source": [
        "## Data Exploration"
      ]
    },
    {
      "cell_type": "code",
      "execution_count": 11,
      "id": "3830c382",
      "metadata": {
        "id": "3830c382",
        "colab": {
          "base_uri": "https://localhost:8080/"
        },
        "outputId": "8b95ca46-ac0e-432c-8e85-5b1a78a57919"
      },
      "outputs": [
        {
          "output_type": "stream",
          "name": "stdout",
          "text": [
            "Downloading data from https://www.cs.toronto.edu/~kriz/cifar-10-python.tar.gz\n",
            "170500096/170498071 [==============================] - 6s 0us/step\n",
            "170508288/170498071 [==============================] - 6s 0us/step\n"
          ]
        }
      ],
      "source": [
        "# Load dataset\n",
        "cifar_version = 'cifar10'\n",
        "input_path = \"data/cifar10_filtered/\"\n",
        "(x_train, y_train), (x_test, y_test) = cifar10.load_data()"
      ]
    },
    {
      "cell_type": "code",
      "execution_count": 12,
      "id": "1d09e5cd",
      "metadata": {
        "id": "1d09e5cd"
      },
      "outputs": [],
      "source": [
        "# cifar_version = 'cifar100'\n",
        "# input_path = \"data/cifar100_filtered/\"\n",
        "# (x_train, y_train), (x_test, y_test) = cifar100.load_data()"
      ]
    },
    {
      "cell_type": "code",
      "execution_count": 13,
      "id": "ad5a0d4d",
      "metadata": {
        "colab": {
          "base_uri": "https://localhost:8080/"
        },
        "id": "ad5a0d4d",
        "outputId": "3cd09422-d611-4cb8-9f08-acbe3abe8190"
      },
      "outputs": [
        {
          "output_type": "execute_result",
          "data": {
            "text/plain": [
              "10"
            ]
          },
          "metadata": {},
          "execution_count": 13
        }
      ],
      "source": [
        "num_classes = len(np.unique(y_train))\n",
        "num_classes"
      ]
    },
    {
      "cell_type": "code",
      "execution_count": 14,
      "id": "14abb956",
      "metadata": {
        "id": "14abb956"
      },
      "outputs": [],
      "source": [
        "treat_data = \"normalize\""
      ]
    },
    {
      "cell_type": "code",
      "execution_count": 15,
      "id": "9fb9e85c",
      "metadata": {
        "id": "9fb9e85c"
      },
      "outputs": [],
      "source": [
        "# Produce a timestamp to attach to future outputs\n",
        "now = datetime.datetime.now()\n",
        "prefix = now.strftime(\"%Y%m%d_%H%M\")"
      ]
    },
    {
      "cell_type": "code",
      "execution_count": 16,
      "id": "f4ff1fd5",
      "metadata": {
        "colab": {
          "base_uri": "https://localhost:8080/",
          "height": 1000
        },
        "id": "f4ff1fd5",
        "outputId": "c5490cb3-5360-421a-e8dd-3877e48d479e"
      },
      "outputs": [
        {
          "output_type": "display_data",
          "data": {
            "image/png": "[encoded data removed]",
            "text/plain": [
              "<Figure size 432x288 with 1 Axes>"
            ]
          },
          "metadata": {
            "needs_background": "light"
          }
        },
        {
          "output_type": "display_data",
          "data": {
            "image/png": "[encoded data removed]",
            "text/plain": [
              "<Figure size 432x288 with 1 Axes>"
            ]
          },
          "metadata": {
            "needs_background": "light"
          }
        },
        {
          "output_type": "display_data",
          "data": {
            "image/png": "[encoded data removed]",
            "text/plain": [
              "<Figure size 432x288 with 1 Axes>"
            ]
          },
          "metadata": {
            "needs_background": "light"
          }
        },
        {
          "output_type": "display_data",
          "data": {
            "image/png": "[encoded data removed]",
            "text/plain": [
              "<Figure size 432x288 with 1 Axes>"
            ]
          },
          "metadata": {
            "needs_background": "light"
          }
        },
        {
          "output_type": "display_data",
          "data": {
            "image/png": "[encoded data removed]",
            "text/plain": [
              "<Figure size 432x288 with 1 Axes>"
            ]
          },
          "metadata": {
            "needs_background": "light"
          }
        },
        {
          "output_type": "display_data",
          "data": {
            "image/png": "[encoded data removed]",
            "text/plain": [
              "<Figure size 432x288 with 1 Axes>"
            ]
          },
          "metadata": {
            "needs_background": "light"
          }
        },
        {
          "output_type": "display_data",
          "data": {
            "image/png": "[encoded data removed]",
            "text/plain": [
              "<Figure size 432x288 with 1 Axes>"
            ]
          },
          "metadata": {
            "needs_background": "light"
          }
        },
        {
          "output_type": "display_data",
          "data": {
            "image/png": "[encoded data removed]",
            "text/plain": [
              "<Figure size 432x288 with 1 Axes>"
            ]
          },
          "metadata": {
            "needs_background": "light"
          }
        },
        {
          "output_type": "display_data",
          "data": {
            "image/png": "[encoded data removed]",
            "text/plain": [
              "<Figure size 432x288 with 1 Axes>"
            ]
          },
          "metadata": {
            "needs_background": "light"
          }
        },
        {
          "output_type": "display_data",
          "data": {
            "image/png": "[encoded data removed]",
            "text/plain": [
              "<Figure size 432x288 with 1 Axes>"
            ]
          },
          "metadata": {
            "needs_background": "light"
          }
        }
      ],
      "source": [
        "# Show the images to get a visual understanding of the classes\n",
        "show_image_classes(x_train, y_train, prefix, \"raw\")"
      ]
    },
    {
      "cell_type": "code",
      "execution_count": 17,
      "id": "00025523",
      "metadata": {
        "colab": {
          "base_uri": "https://localhost:8080/",
          "height": 1000
        },
        "id": "00025523",
        "outputId": "38e0adb6-c9a5-4785-b048-ad0a8b825b88"
      },
      "outputs": [
        {
          "output_type": "display_data",
          "data": {
            "image/png": "[encoded data removed]",
            "text/plain": [
              "<Figure size 432x288 with 1 Axes>"
            ]
          },
          "metadata": {
            "needs_background": "light"
          }
        },
        {
          "output_type": "display_data",
          "data": {
            "image/png": "[encoded data removed]",
            "text/plain": [
              "<Figure size 432x288 with 1 Axes>"
            ]
          },
          "metadata": {
            "needs_background": "light"
          }
        },
        {
          "output_type": "display_data",
          "data": {
            "image/png": "[encoded data removed]",
            "text/plain": [
              "<Figure size 432x288 with 1 Axes>"
            ]
          },
          "metadata": {
            "needs_background": "light"
          }
        },
        {
          "output_type": "display_data",
          "data": {
            "image/png": "[encoded data removed]",
            "text/plain": [
              "<Figure size 432x288 with 1 Axes>"
            ]
          },
          "metadata": {
            "needs_background": "light"
          }
        },
        {
          "output_type": "display_data",
          "data": {
            "image/png": "[encoded data removed]",
            "text/plain": [
              "<Figure size 432x288 with 1 Axes>"
            ]
          },
          "metadata": {
            "needs_background": "light"
          }
        },
        {
          "output_type": "display_data",
          "data": {
            "image/png": "[encoded data removed]",
            "text/plain": [
              "<Figure size 432x288 with 1 Axes>"
            ]
          },
          "metadata": {
            "needs_background": "light"
          }
        },
        {
          "output_type": "display_data",
          "data": {
            "image/png": "[encoded data removed]",
            "text/plain": [
              "<Figure size 432x288 with 1 Axes>"
            ]
          },
          "metadata": {
            "needs_background": "light"
          }
        },
        {
          "output_type": "display_data",
          "data": {
            "image/png": "[encoded data removed]",
            "text/plain": [
              "<Figure size 432x288 with 1 Axes>"
            ]
          },
          "metadata": {
            "needs_background": "light"
          }
        },
        {
          "output_type": "display_data",
          "data": {
            "image/png": "[encoded data removed]",
            "text/plain": [
              "<Figure size 432x288 with 1 Axes>"
            ]
          },
          "metadata": {
            "needs_background": "light"
          }
        },
        {
          "output_type": "display_data",
          "data": {
            "image/png": "[encoded data removed]",
            "text/plain": [
              "<Figure size 432x288 with 1 Axes>"
            ]
          },
          "metadata": {
            "needs_background": "light"
          }
        }
      ],
      "source": [
        "# Check the first \"n_images\" images of class number \"class_n\"\n",
        "n_images = 10\n",
        "class_n = 3\n",
        "\n",
        "class_n_pos = [ind for ind, el in enumerate(y_train) if el == class_n]\n",
        "\n",
        "for img in class_n_pos[:n_images]:\n",
        "    plt.figure()\n",
        "    plt.imshow(np.uint8(x_train[img]))\n",
        "    plt.axis('off')"
      ]
    },
    {
      "cell_type": "markdown",
      "id": "d17b6c0b",
      "metadata": {
        "id": "d17b6c0b"
      },
      "source": [
        "## Data Transformation"
      ]
    },
    {
      "cell_type": "code",
      "execution_count": 18,
      "id": "325e3b58",
      "metadata": {
        "id": "325e3b58"
      },
      "outputs": [],
      "source": [
        "# Preprocess data through normalization\n",
        "# Normalisation of data according to predefined normalize_data method\n",
        "if treat_data == \"normalize\":\n",
        "    x_train, x_test = normalize_data(x_train, x_test, cifar_version=cifar_version)"
      ]
    },
    {
      "cell_type": "code",
      "execution_count": 19,
      "id": "fc467e0f",
      "metadata": {
        "colab": {
          "base_uri": "https://localhost:8080/",
          "height": 1000
        },
        "id": "fc467e0f",
        "outputId": "9770d76f-1305-498d-bd9c-f687235001e9"
      },
      "outputs": [
        {
          "output_type": "display_data",
          "data": {
            "image/png": "[encoded data removed]",
            "text/plain": [
              "<Figure size 432x288 with 1 Axes>"
            ]
          },
          "metadata": {
            "needs_background": "light"
          }
        },
        {
          "output_type": "display_data",
          "data": {
            "image/png": "[encoded data removed]",
            "text/plain": [
              "<Figure size 432x288 with 1 Axes>"
            ]
          },
          "metadata": {
            "needs_background": "light"
          }
        },
        {
          "output_type": "display_data",
          "data": {
            "image/png": "[encoded data removed]",
            "text/plain": [
              "<Figure size 432x288 with 1 Axes>"
            ]
          },
          "metadata": {
            "needs_background": "light"
          }
        },
        {
          "output_type": "display_data",
          "data": {
            "image/png": "[encoded data removed]",
            "text/plain": [
              "<Figure size 432x288 with 1 Axes>"
            ]
          },
          "metadata": {
            "needs_background": "light"
          }
        },
        {
          "output_type": "display_data",
          "data": {
            "image/png": "[encoded data removed]",
            "text/plain": [
              "<Figure size 432x288 with 1 Axes>"
            ]
          },
          "metadata": {
            "needs_background": "light"
          }
        },
        {
          "output_type": "display_data",
          "data": {
            "image/png": "[encoded data removed]",
            "text/plain": [
              "<Figure size 432x288 with 1 Axes>"
            ]
          },
          "metadata": {
            "needs_background": "light"
          }
        },
        {
          "output_type": "display_data",
          "data": {
            "image/png": "[encoded data removed]",
            "text/plain": [
              "<Figure size 432x288 with 1 Axes>"
            ]
          },
          "metadata": {
            "needs_background": "light"
          }
        },
        {
          "output_type": "display_data",
          "data": {
            "image/png": "[encoded data removed]",
            "text/plain": [
              "<Figure size 432x288 with 1 Axes>"
            ]
          },
          "metadata": {
            "needs_background": "light"
          }
        },
        {
          "output_type": "display_data",
          "data": {
            "image/png": "[encoded data removed]",
            "text/plain": [
              "<Figure size 432x288 with 1 Axes>"
            ]
          },
          "metadata": {
            "needs_background": "light"
          }
        },
        {
          "output_type": "display_data",
          "data": {
            "image/png": "[encoded data removed]",
            "text/plain": [
              "<Figure size 432x288 with 1 Axes>"
            ]
          },
          "metadata": {
            "needs_background": "light"
          }
        }
      ],
      "source": [
        "# Show normalised data\n",
        "if treat_data == \"normalize\": \n",
        "    show_image_classes(x_train, y_train, prefix, \"normalised\")"
      ]
    },
    {
      "cell_type": "code",
      "execution_count": 20,
      "id": "9de3cf89",
      "metadata": {
        "id": "9de3cf89"
      },
      "outputs": [],
      "source": [
        "# Make target values categorical (one-hot encoded)\n",
        "y_train_categorical = to_categorical(y_train)\n",
        "y_test_categorical = to_categorical(y_test)"
      ]
    },
    {
      "cell_type": "markdown",
      "id": "12f25ac9",
      "metadata": {
        "id": "12f25ac9"
      },
      "source": [
        "## Neural Network Training"
      ]
    },
    {
      "cell_type": "code",
      "execution_count": 21,
      "id": "ab8431a2",
      "metadata": {
        "id": "ab8431a2"
      },
      "outputs": [],
      "source": [
        "datagen = keras.preprocessing.image.ImageDataGenerator(featurewise_center=False, \n",
        "                                                       samplewise_center=False, \n",
        "                                                       featurewise_std_normalization=False, \n",
        "                                                       samplewise_std_normalization=False, \n",
        "                                                       zca_whitening=False, \n",
        "                                                       zca_epsilon=1e-06, \n",
        "                                                       rotation_range=0.0, \n",
        "                                                       width_shift_range=0.0, \n",
        "                                                       height_shift_range=0.0, \n",
        "                                                       brightness_range=None, \n",
        "                                                       shear_range=0.0, \n",
        "                                                       zoom_range=0.0, \n",
        "                                                       channel_shift_range=0.0, \n",
        "                                                       fill_mode='nearest', \n",
        "                                                       cval=0.0, \n",
        "                                                       horizontal_flip=False, \n",
        "                                                       vertical_flip=False, \n",
        "                                                       rescale=None, \n",
        "                                                       preprocessing_function=None, \n",
        "                                                       data_format=None, \n",
        "                                                       validation_split=0.0)"
      ]
    },
    {
      "cell_type": "code",
      "execution_count": 22,
      "id": "665387f4",
      "metadata": {
        "id": "665387f4"
      },
      "outputs": [],
      "source": [
        "# Compute quantities required for featurewise normalization\n",
        "# (std, mean, and principal components if ZCA whitening is applied)\n",
        "datagen.fit(x_train)"
      ]
    },
    {
      "cell_type": "code",
      "execution_count": 23,
      "id": "b145972c",
      "metadata": {
        "id": "b145972c"
      },
      "outputs": [],
      "source": [
        "models = []\n",
        "model_names = []\n",
        "input_shape = x_train[0].shape\n",
        "batch_size = 100\n",
        "epochs = 80"
      ]
    },
    {
      "cell_type": "code",
      "source": [
        "# DELETE THIS AFTER TESTING!!\n",
        "epochs = 1"
      ],
      "metadata": {
        "id": "I49Dab1Z26Cw"
      },
      "id": "I49Dab1Z26Cw",
      "execution_count": 24,
      "outputs": []
    },
    {
      "cell_type": "code",
      "execution_count": 25,
      "id": "1324150d",
      "metadata": {
        "id": "1324150d"
      },
      "outputs": [],
      "source": [
        "# Create neural network models\n",
        "models.append(create_MLP_1(input_shape))\n",
        "model_names.append(\"MLP_Input_1\")"
      ]
    },
    {
      "cell_type": "code",
      "execution_count": 26,
      "id": "0a96da50",
      "metadata": {
        "id": "0a96da50"
      },
      "outputs": [],
      "source": [
        "history = []\n",
        "lr = 0.0001\n",
        "\n",
        "for model in models:\n",
        "    model.compile(loss=keras.losses.categorical_crossentropy,\n",
        "                  optimizer=tf.keras.optimizers.Adam(lr=lr),\n",
        "                  metrics=['accuracy'])"
      ]
    },
    {
      "cell_type": "code",
      "execution_count": 27,
      "id": "90ef67b9",
      "metadata": {
        "scrolled": true,
        "colab": {
          "base_uri": "https://localhost:8080/"
        },
        "id": "90ef67b9",
        "outputId": "c1fa740a-4fe5-4970-e9de-9e6e9818dfc6"
      },
      "outputs": [
        {
          "output_type": "stream",
          "name": "stdout",
          "text": [
            "500/500 [==============================] - 69s 116ms/step - loss: 1.5124 - accuracy: 0.4575 - val_loss: 1.1568 - val_accuracy: 0.5971\n",
            "Model success\n"
          ]
        }
      ],
      "source": [
        "path = os.getcwd() + '/models/h5files/'\n",
        "\n",
        "if not os.path.exists(path):\n",
        "    os.makedirs(path)\n",
        "\n",
        "# Fit neural network models to training data\n",
        "for model_ind, model in enumerate(models):  \n",
        "    history.append(\n",
        "      model.fit_generator(\n",
        "          datagen.flow(x_train, y_train_categorical, batch_size=batch_size),\n",
        "          steps_per_epoch=len(x_train)/batch_size,\n",
        "          epochs=epochs,\n",
        "          verbose=1,\n",
        "          validation_data = (x_test, y_test_categorical)))\n",
        "    \n",
        "    model.save_weights(path + prefix + '_' + model_names[model_ind] + \".h5\")\n",
        "    \n",
        "    print (\"Model success\")"
      ]
    },
    {
      "cell_type": "code",
      "execution_count": 28,
      "id": "96cb20b2",
      "metadata": {
        "colab": {
          "base_uri": "https://localhost:8080/"
        },
        "id": "96cb20b2",
        "outputId": "1a5cf21a-0c4d-47b6-9c54-1e5f47c52333"
      },
      "outputs": [
        {
          "output_type": "stream",
          "name": "stdout",
          "text": [
            "MLP_Input_1 # of Parameters: 6684810\n"
          ]
        }
      ],
      "source": [
        "# Print the number of model parameters\n",
        "for model in models:\n",
        "    print(f'{model_names[models.index(model)]} # of Parameters:', model.count_params())\n",
        "    # print('\\n')"
      ]
    },
    {
      "cell_type": "code",
      "execution_count": 29,
      "id": "e22ddd99",
      "metadata": {
        "colab": {
          "base_uri": "https://localhost:8080/"
        },
        "id": "e22ddd99",
        "outputId": "591416f2-003c-440d-a317-5d16787be2cf"
      },
      "outputs": [
        {
          "output_type": "stream",
          "name": "stdout",
          "text": [
            "MLP_Input_1 Validation 0/1 loss: 0.403\n"
          ]
        }
      ],
      "source": [
        "# Print the absolute error\n",
        "for model in models:\n",
        "    # The absolute error is X, thus the accuracy is 1-X\n",
        "    predicted_x = model.predict(x_test)\n",
        "    residuals = np.argmax(predicted_x, 1)!=np.argmax(y_test_categorical, 1)\n",
        "\n",
        "    loss = sum(residuals)/len(residuals)\n",
        "    print(f'{model_names[models.index(model)]} Validation 0/1 loss:', round(loss, 3))\n",
        "    # print('\\n')"
      ]
    },
    {
      "cell_type": "code",
      "source": [
        "# Get metrics for models on unseen data\n",
        "for model in models:\n",
        "    score = model.evaluate(x_test, y_test_categorical, verbose=0)\n",
        "    print(f'{model_names[models.index(model)]} Test loss:', round(score[0], 3))\n",
        "    print(f'{model_names[models.index(model)]} Test accuracy:', round(score[1], 3))\n",
        "    # print('\\n')"
      ],
      "metadata": {
        "colab": {
          "base_uri": "https://localhost:8080/"
        },
        "id": "FRC-nrRU0Efm",
        "outputId": "fa2df066-4179-465b-d99e-92d6247f6216"
      },
      "id": "FRC-nrRU0Efm",
      "execution_count": 30,
      "outputs": [
        {
          "output_type": "stream",
          "name": "stdout",
          "text": [
            "MLP_Input_1 Test loss: 1.157\n",
            "MLP_Input_1 Test accuracy: 0.597\n"
          ]
        }
      ]
    },
    {
      "cell_type": "code",
      "execution_count": 31,
      "id": "e008eeff",
      "metadata": {
        "id": "e008eeff"
      },
      "outputs": [],
      "source": [
        "path = os.getcwd() + '/models/viz/'\n",
        "\n",
        "if not os.path.exists(path):\n",
        "    os.makedirs(path)\n",
        "\n",
        "# Visualize the CNN model architectures\n",
        "for i, model in enumerate(models):\n",
        "    plot_model(model, \n",
        "               path + prefix + '_' + model_names[i] + '.png', \n",
        "               show_shapes=True)\n",
        "    \n",
        "    ann_viz(model, \n",
        "            filename=path + prefix + '_' + model_names[i] + '.gv', \n",
        "            title='Visualisation of ' + model_names[i])"
      ]
    },
    {
      "cell_type": "markdown",
      "source": [
        "## VGG-16 Intermediate Dataset"
      ],
      "metadata": {
        "id": "ZQKb53OFI0-7"
      },
      "id": "ZQKb53OFI0-7"
    },
    {
      "cell_type": "code",
      "source": [
        "# Upload h5 files with VGG-16's weights and unzip\n",
        "!unzip model_weights_cifarvgg.zip"
      ],
      "metadata": {
        "colab": {
          "base_uri": "https://localhost:8080/"
        },
        "id": "cfdzTjvN_VI9",
        "outputId": "5a018d73-4d12-4198-d3f6-dc8fbad9f4c1"
      },
      "id": "cfdzTjvN_VI9",
      "execution_count": 32,
      "outputs": [
        {
          "output_type": "stream",
          "name": "stdout",
          "text": [
            "Archive:  model_weights_cifarvgg.zip\n",
            "  inflating: model_weights_cifarvgg/cifar100vgg.h5  \n",
            "  inflating: model_weights_cifarvgg/cifar10vgg.h5  \n"
          ]
        }
      ]
    },
    {
      "cell_type": "code",
      "source": [
        "# Remove zip file with the weights\n",
        "!rm model_weights_cifarvgg.zip"
      ],
      "metadata": {
        "id": "T_trPuB_7Xnc"
      },
      "id": "T_trPuB_7Xnc",
      "execution_count": 33,
      "outputs": []
    },
    {
      "cell_type": "code",
      "source": [
        "# The weights for VGG-16 trained on CIFAR are available online\n",
        "# Therefore, this model does not need to be retrained\n",
        "# The pretrained weights can be found on https://github.com/geifmany/cifar-vgg\n",
        "vgg_16 = cifar10vgg(train=False)"
      ],
      "metadata": {
        "id": "E1zxGroBABOL"
      },
      "id": "E1zxGroBABOL",
      "execution_count": 34,
      "outputs": []
    },
    {
      "cell_type": "code",
      "source": [
        "print('VGG-16 # of Parameters:', vgg_16.model.count_params())"
      ],
      "metadata": {
        "colab": {
          "base_uri": "https://localhost:8080/"
        },
        "id": "WDXXqhjTJCFX",
        "outputId": "9d4d8d41-3adf-46b0-ebf9-ecbc548e0422"
      },
      "id": "WDXXqhjTJCFX",
      "execution_count": 35,
      "outputs": [
        {
          "output_type": "stream",
          "name": "stdout",
          "text": [
            "VGG-16 # of Parameters: 15001418\n"
          ]
        }
      ]
    },
    {
      "cell_type": "code",
      "source": [
        "# The absolute error is X, thus the accuracy is 1-X\n",
        "predicted_x = vgg_16.predict(x_test, normalize=False)\n",
        "residuals = np.argmax(predicted_x, 1)!=np.argmax(y_test_categorical, 1)\n",
        "\n",
        "loss = sum(residuals)/len(residuals)\n",
        "print('VGG-16 Validation 0/1 loss:', round(loss, 3))\n",
        "# An absolute error of 0.064 represents an accuracy of 0.936"
      ],
      "metadata": {
        "colab": {
          "base_uri": "https://localhost:8080/"
        },
        "id": "EYGycnGFJB-t",
        "outputId": "ad891cff-ea3a-4a7d-b0e4-27468bad6581"
      },
      "id": "EYGycnGFJB-t",
      "execution_count": 36,
      "outputs": [
        {
          "output_type": "stream",
          "name": "stdout",
          "text": [
            "VGG-16 Validation 0/1 loss: 0.064\n"
          ]
        }
      ]
    },
    {
      "cell_type": "code",
      "source": [
        "# Add VGG-16 to model list\n",
        "models.append(keras.models.clone_model(vgg_16.model))\n",
        "model_names.append('VGG_16')\n",
        "models[model_names.index('VGG_16')].set_weights(vgg_16.model.get_weights())"
      ],
      "metadata": {
        "id": "uCqeAfRNAsnR"
      },
      "id": "uCqeAfRNAsnR",
      "execution_count": 37,
      "outputs": []
    },
    {
      "cell_type": "code",
      "source": [
        "# # Visualize VGG-16 model architectures\n",
        "# ann_viz(vgg_16.model, \n",
        "#         filename=path + prefix + '_VGG_16.gv',\n",
        "#         title='Visualization of VGG-16')"
      ],
      "metadata": {
        "id": "dH3QNUPlDabi"
      },
      "id": "dH3QNUPlDabi",
      "execution_count": 46,
      "outputs": []
    },
    {
      "cell_type": "code",
      "source": [
        "# -------------------------------- SEPARATOR --------------------------------"
      ],
      "metadata": {
        "id": "2emRlmku-qoO"
      },
      "id": "2emRlmku-qoO",
      "execution_count": 47,
      "outputs": []
    },
    {
      "cell_type": "code",
      "execution_count": 48,
      "id": "421f9786",
      "metadata": {
        "id": "421f9786"
      },
      "outputs": [],
      "source": [
        "# Cut the models to remove everything after the flattening layer (remove fully-connected layers)\n",
        "# output_models = []\n",
        "for model in models:\n",
        "    cut_model(model)\n",
        "    # output_models.append(out)"
      ]
    },
    {
      "cell_type": "code",
      "execution_count": 49,
      "id": "47fe2a1e",
      "metadata": {
        "id": "47fe2a1e"
      },
      "outputs": [],
      "source": [
        "# Create output files\n",
        "now = datetime.datetime.now()\n",
        "prefix = now.strftime(\"%Y%m%d_%H%M\")\n",
        "create_output_files(x_train, \n",
        "                    x_test, \n",
        "                    y_train, \n",
        "                    y_test, \n",
        "                    prefix, \n",
        "                    suffix = \"_\" + treat_data)"
      ]
    },
    {
      "cell_type": "code",
      "execution_count": 50,
      "id": "80855dfe",
      "metadata": {
        "colab": {
          "base_uri": "https://localhost:8080/",
          "height": 590
        },
        "id": "80855dfe",
        "outputId": "25ef63e1-bc0d-4401-f39f-1b08f0b77b6c"
      },
      "outputs": [
        {
          "output_type": "stream",
          "name": "stdout",
          "text": [
            "Model: MLP_Input_1\n"
          ]
        },
        {
          "output_type": "display_data",
          "data": {
            "image/png": "[encoded data removed]",
            "text/plain": [
              "<Figure size 432x288 with 1 Axes>"
            ]
          },
          "metadata": {
            "needs_background": "light"
          }
        },
        {
          "output_type": "display_data",
          "data": {
            "image/png": "[encoded data removed]",
            "text/plain": [
              "<Figure size 432x288 with 1 Axes>"
            ]
          },
          "metadata": {
            "needs_background": "light"
          }
        }
      ],
      "source": [
        "# Plot history of model training\n",
        "index = 0\n",
        "print(f'Model: {model_names[index]}')\n",
        "\n",
        "plot_model_stats(history[index])"
      ]
    },
    {
      "cell_type": "code",
      "source": [
        ""
      ],
      "metadata": {
        "id": "yB4wq739QJOR"
      },
      "id": "yB4wq739QJOR",
      "execution_count": null,
      "outputs": []
    },
    {
      "cell_type": "code",
      "execution_count": null,
      "id": "c3880feb",
      "metadata": {
        "id": "c3880feb"
      },
      "outputs": [],
      "source": [
        ""
      ]
    },
    {
      "cell_type": "code",
      "execution_count": null,
      "id": "f727f112",
      "metadata": {
        "id": "f727f112"
      },
      "outputs": [],
      "source": [
        "# After this is finished: delete this notebook from GitHub -> 1_a_gp_approach_for_cv.ipynb"
      ]
    }
  ],
  "metadata": {
    "kernelspec": {
      "display_name": "Python 3 (ipykernel)",
      "language": "python",
      "name": "python3"
    },
    "language_info": {
      "codemirror_mode": {
        "name": "ipython",
        "version": 3
      },
      "file_extension": ".py",
      "mimetype": "text/x-python",
      "name": "python",
      "nbconvert_exporter": "python",
      "pygments_lexer": "ipython3",
      "version": "3.8.12"
    },
    "colab": {
      "name": "cnn_cifar_data.ipynb",
      "provenance": [],
      "collapsed_sections": []
    },
    "accelerator": "GPU"
  },
  "nbformat": 4,
  "nbformat_minor": 5
}