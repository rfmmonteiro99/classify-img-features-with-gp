{
  "cells": [
    {
      "cell_type": "markdown",
      "id": "e8aebb21",
      "metadata": {
        "id": "e8aebb21"
      },
      "source": [
        "# Stage 1: Create intermediate datasets (CIFAR-10 and CIFAR-100)\n",
        "\n",
        "**Rui Filipe Martins Monteiro (R20170796) | MSc in Data Science and Advanced Analytics**\n",
        "\n",
        "<br>\n",
        "\n",
        "This notebook creates the intermediate datasets for CIFAR-10 and CIFAR-100. This means training a CNN on a dataset, removing the fully-connected layers and producing the (flattened) output from the last convolutional layers. This output is then referred to as the intermediate dataset and saved for future reuse.\n",
        "\n",
        "The intermediate datasets from this notebook are created imported images. In this case, either CIFAR-10 or CIFAR-100 is used.\n",
        "\n",
        "<br>\n",
        "\n",
        "This code is heavily inspired by: Jonathan Janke (https://github.com/novajon/classy-conv-features)\n",
        "\n",
        "Code changed and improved by: Rui Monteiro"
      ]
    },
    {
      "cell_type": "code",
      "source": [
        "!pip install ann_visualizer"
      ],
      "metadata": {
        "colab": {
          "base_uri": "https://localhost:8080/"
        },
        "id": "Li26TqDfAzKQ",
        "outputId": "82c6ec6a-724b-4c0d-8d00-a1846650536b"
      },
      "id": "Li26TqDfAzKQ",
      "execution_count": 1,
      "outputs": [
        {
          "output_type": "stream",
          "name": "stdout",
          "text": [
            "Collecting ann_visualizer\n",
            "  Downloading ann_visualizer-2.5.tar.gz (4.7 kB)\n",
            "Building wheels for collected packages: ann-visualizer\n",
            "  Building wheel for ann-visualizer (setup.py) ... \u001b[?25l\u001b[?25hdone\n",
            "  Created wheel for ann-visualizer: filename=ann_visualizer-2.5-py3-none-any.whl size=4168 sha256=2c5989515cff2825d5ee6055cec4384e0749dc716a1db8d7e7f0d96ee17752fc\n",
            "  Stored in directory: /root/.cache/pip/wheels/1b/fc/58/2ab1c3b30350105929308becddda4fb59b1358e54f985e1f4a\n",
            "Successfully built ann-visualizer\n",
            "Installing collected packages: ann-visualizer\n",
            "Successfully installed ann-visualizer-2.5\n"
          ]
        }
      ]
    },
    {
      "cell_type": "code",
      "execution_count": 2,
      "id": "981b77ae",
      "metadata": {
        "id": "981b77ae"
      },
      "outputs": [],
      "source": [
        "# Imports\n",
        "import json\n",
        "import pandas as pd\n",
        "import numpy as np\n",
        "\n",
        "import os\n",
        "import datetime\n",
        "from tensorflow.keras.preprocessing.image import load_img\n",
        "from tensorflow.keras.preprocessing.image import img_to_array\n",
        "from tensorflow.keras.applications.imagenet_utils import decode_predictions\n",
        "import matplotlib.pyplot as plt\n",
        "from PIL import Image\n",
        "\n",
        "from sklearn.model_selection import train_test_split\n",
        "from tensorflow.keras.utils import to_categorical\n",
        "\n",
        "import tensorflow as tf\n",
        "import tensorflow.keras as keras\n",
        "from tensorflow.keras.models import Sequential\n",
        "from tensorflow.keras.layers import Dense, Dropout, Flatten, Activation, InputLayer, Conv2D, MaxPooling2D\n",
        "from tensorflow.keras.layers import BatchNormalization\n",
        "from keras.layers.advanced_activations import LeakyReLU\n",
        "from tensorflow.keras.initializers import glorot_normal, RandomNormal, Zeros\n",
        "\n",
        "import math\n",
        "from tensorflow.keras.datasets import cifar10, cifar100\n",
        "from scipy.cluster.vq import whiten\n",
        "\n",
        "import glob\n",
        "\n",
        "from tensorflow.keras.applications import InceptionV3, Xception, InceptionResNetV2\n",
        "from tensorflow.keras import Model\n",
        "\n",
        "from ann_visualizer.visualize import ann_viz\n",
        "\n",
        "from keras.utils.vis_utils import plot_model\n",
        "\n",
        "import warnings\n",
        "warnings.filterwarnings(\"ignore\")"
      ]
    },
    {
      "cell_type": "code",
      "execution_count": 3,
      "id": "f4347e68",
      "metadata": {
        "id": "f4347e68"
      },
      "outputs": [],
      "source": [
        "def show_image_classes(images, classes, prefix, suffix=\"\"):\n",
        "    \"\"\"Save input images in folder structure and output them\n",
        "\n",
        "    Parameters\n",
        "    ----------\n",
        "    images : array, e.g. numpy array\n",
        "        images to show\n",
        "\n",
        "    classes : list\n",
        "        [not used]\n",
        "\n",
        "    prefix : string\n",
        "        prefix to add to output name\n",
        "\n",
        "    suffix : string\n",
        "        suffix to add to output name\n",
        "    \"\"\"\n",
        "    for cl in np.unique(y_train):\n",
        "        for ind, el in enumerate(y_train):\n",
        "            if el == cl:\n",
        "                class_pos = ind\n",
        "                break\n",
        "        plt.figure()\n",
        "        plt.imshow(np.uint8(x_train[class_pos]))\n",
        "        plt.axis('off')\n",
        "        path = \"sample_images/\" + prefix + \"/\"\n",
        "        if not os.path.exists(path):\n",
        "            os.makedirs(path)\n",
        "        plt.savefig(path + input_path.split(\"/\")[1].split(\"_\")[0] + \"_\" + str(cl) + \"_sample_image_\" + suffix)"
      ]
    },
    {
      "cell_type": "code",
      "execution_count": 4,
      "id": "e832b301",
      "metadata": {
        "id": "e832b301"
      },
      "outputs": [],
      "source": [
        "def normalize_production(x, cifar_version):\n",
        "    \"\"\"This function is used to normalize instances in production according to saved training set statistics\n",
        "    (from https://github.com/geifmany/cifar-vgg)\n",
        "\n",
        "    Parameters\n",
        "    ----------\n",
        "    X_train : array, e.g., numpy array\n",
        "        training data set\n",
        "\n",
        "    X_test : array, e.g., numpy array\n",
        "        test data set\n",
        "    \n",
        "    cifar_version : string\n",
        "        the version of CIFAR that's being used - either 'cifar10' or 'cifar100'\n",
        "\n",
        "    Returns: normalized training set and test set according to preset constants.\n",
        "    \"\"\"\n",
        "    # These values are produced during first training and are general for the standard CIFAR training set normalization\n",
        "    if cifar_version == 'cifar10':\n",
        "        mean = 120.707\n",
        "        std = 64.15\n",
        "        return (x-mean)/(std+1e-7)\n",
        "\n",
        "    if cifar_version == 'cifar100':\n",
        "        mean = 121.936\n",
        "        std = 68.389\n",
        "        return (x-mean)/(std+1e-7)"
      ]
    },
    {
      "cell_type": "code",
      "execution_count": 5,
      "id": "8f86fdf4",
      "metadata": {
        "id": "8f86fdf4"
      },
      "outputs": [],
      "source": [
        "def normalize_data(x_train, x_test, cifar_version):\n",
        "    \"\"\"Format the input data by normalizing it\n",
        "\n",
        "    Parameters\n",
        "    ----------\n",
        "    x_train : array, e.g., numpy array\n",
        "        training data to transform\n",
        "        \n",
        "    x_test : array, e.g., numpy array\n",
        "        test data to transform\n",
        "        \n",
        "    cifar_version : string\n",
        "        the version of CIFAR that's being used - either 'cifar10' or 'cifar100'\n",
        "    \"\"\"\n",
        "    x_train = x_train.astype('float32')\n",
        "    x_test = x_test.astype('float32')\n",
        "    x_train = normalize_production(x_train, cifar_version)\n",
        "    x_test = normalize_production(x_test, cifar_version)\n",
        "    \n",
        "    return x_train, x_test"
      ]
    },
    {
      "cell_type": "code",
      "execution_count": 6,
      "id": "2e3471a2",
      "metadata": {
        "id": "2e3471a2"
      },
      "outputs": [],
      "source": [
        "def create_CNN_1(input_shape):\n",
        "    \"\"\"Create CNN with predefined structure.\n",
        "    This was manually designed by: Jonathan Janke (from https://github.com/novajon/classy-conv-features)\n",
        "\n",
        "    Parameters\n",
        "    ----------\n",
        "    input_shape : tuple\n",
        "        shape of the input data\n",
        "    \"\"\"\n",
        "    model = Sequential()\n",
        "\n",
        "    model.add(Conv2D(128, (3, 3), padding='same',\n",
        "            input_shape=x_train.shape[1:]))\n",
        "    model.add(Activation('elu'))\n",
        "\n",
        "    model.add(Conv2D(128, (3, 3)))\n",
        "    model.add(Activation('elu'))\n",
        "    model.add(MaxPooling2D(pool_size=(2, 2)))\n",
        "    model.add(Dropout(0.1))\n",
        "\n",
        "    model.add(Conv2D(256, (3, 3), padding='same'))\n",
        "    model.add(Activation('elu'))\n",
        "\n",
        "    model.add(Conv2D(256, (3, 3)))\n",
        "    model.add(Activation('elu'))\n",
        "    model.add(MaxPooling2D(pool_size=(2, 2)))\n",
        "    model.add(Dropout(0.25))\n",
        "\n",
        "    model.add(Conv2D(512, (3, 3), padding='same'))\n",
        "    model.add(Activation('elu'))\n",
        "\n",
        "    model.add(Conv2D(512, (3, 3)))\n",
        "    model.add(Activation('elu'))\n",
        "    model.add(MaxPooling2D(pool_size=(2, 2)))\n",
        "    model.add(Dropout(0.5))\n",
        "\n",
        "    model.add(Flatten())\n",
        "\n",
        "    model.add(Dense(1024))\n",
        "    model.add(Activation('elu'))\n",
        "    model.add(Dropout(0.5))\n",
        "    \n",
        "    model.add(Dense(num_classes))\n",
        "    model.add(Activation('softmax'))\n",
        "    \n",
        "    return model"
      ]
    },
    {
      "cell_type": "code",
      "source": [
        "def create_CNN_2(input_shape):\n",
        "    \"\"\"Create CNN with predefined structure.\n",
        "    This was manually designed by: Jonathan Janke (from https://github.com/novajon/classy-conv-features)\n",
        "\n",
        "    Parameters\n",
        "    ----------\n",
        "    input_shape : tuple\n",
        "        shape of the input data\n",
        "    \"\"\"\n",
        "    model = Sequential()\n",
        "\n",
        "    model.add(Conv2D(32, (3, 3), padding='same', input_shape=x_train.shape[1:]))\n",
        "    model.add(Activation('relu'))\n",
        "\n",
        "    model.add(Conv2D(32, (3, 3)))\n",
        "    model.add(Activation('relu'))\n",
        "    model.add(MaxPooling2D(pool_size=(2, 2)))\n",
        "    model.add(Dropout(0.25))\n",
        "\n",
        "    model.add(Conv2D(64, (3, 3), padding='same'))\n",
        "    model.add(Activation('relu'))\n",
        "\n",
        "    model.add(Conv2D(64, (3, 3)))\n",
        "    model.add(Activation('relu'))\n",
        "    model.add(MaxPooling2D(pool_size=(2, 2)))\n",
        "    model.add(Dropout(0.25))\n",
        "\n",
        "    model.add(Flatten())\n",
        "\n",
        "    model.add(Dense(512))\n",
        "    model.add(Activation('relu'))\n",
        "    model.add(Dropout(0.5))\n",
        "\n",
        "    model.add(Dense(num_classes))\n",
        "    model.add(Activation('softmax'))\n",
        "    \n",
        "    return model"
      ],
      "metadata": {
        "id": "HfdNO4xgmr6P"
      },
      "id": "HfdNO4xgmr6P",
      "execution_count": 33,
      "outputs": []
    },
    {
      "cell_type": "code",
      "source": [
        "# --- PUT THESE IMPORTS ON TOP OF THE NOTEBOOK ---\n",
        "from __future__ import print_function\n",
        "from keras.datasets import cifar10\n",
        "from keras.preprocessing.image import ImageDataGenerator\n",
        "\n",
        "from keras.layers import Conv2D, MaxPooling2D, BatchNormalization\n",
        "from keras import optimizers\n",
        "from keras.layers.core import Lambda\n",
        "from keras import backend as K\n",
        "from keras import regularizers\n",
        "\n",
        "\n",
        "class cifar10vgg:\n",
        "    \"\"\"Create VGG-16 model (from https://github.com/geifmany/cifar-vgg)\n",
        "\n",
        "    Reference:\n",
        "    - Simonyan, K., & Zisserman, A. (2014). Very Deep Convolutional Networks for Large-Scale Image Recognition.\n",
        "    \"\"\"\n",
        "    def __init__(self,train=True):\n",
        "        \"\"\"Initialize VGG-16\n",
        "\n",
        "        Parameters\n",
        "        ----------\n",
        "        train : boolean\n",
        "            determines if weights should be loaded or retrained\n",
        "        \"\"\"\n",
        "        self.num_classes = 10\n",
        "        self.weight_decay = 0.0005\n",
        "        self.x_shape = [32,32,3]\n",
        "\n",
        "        self.model = self.build_model()\n",
        "        if train:\n",
        "            # Train model\n",
        "            self.model = self.train(self.model)\n",
        "        else:\n",
        "            # Location where saved weights are stored\n",
        "            self.model.load_weights('model_weights_cifarvgg/cifar10vgg.h5')\n",
        "\n",
        "    def build_model(self):\n",
        "        \"\"\"Create CNN with predefined structure\n",
        "        \"\"\"\n",
        "        # Build the network of vgg for 10 classes with massive dropout and weight decay as described in the paper.\n",
        "\n",
        "        model = Sequential()\n",
        "        weight_decay = self.weight_decay\n",
        "\n",
        "        model.add(Conv2D(64, (3, 3), padding='same',\n",
        "                         input_shape=self.x_shape,kernel_regularizer=regularizers.l2(weight_decay)))\n",
        "        model.add(Activation('relu'))\n",
        "        model.add(BatchNormalization())\n",
        "        model.add(Dropout(0.3))\n",
        "\n",
        "        model.add(Conv2D(64, (3, 3), padding='same',kernel_regularizer=regularizers.l2(weight_decay)))\n",
        "        model.add(Activation('relu'))\n",
        "        model.add(BatchNormalization())\n",
        "\n",
        "        model.add(MaxPooling2D(pool_size=(2, 2)))\n",
        "\n",
        "        model.add(Conv2D(128, (3, 3), padding='same',kernel_regularizer=regularizers.l2(weight_decay)))\n",
        "        model.add(Activation('relu'))\n",
        "        model.add(BatchNormalization())\n",
        "        model.add(Dropout(0.4))\n",
        "\n",
        "        model.add(Conv2D(128, (3, 3), padding='same',kernel_regularizer=regularizers.l2(weight_decay)))\n",
        "        model.add(Activation('relu'))\n",
        "        model.add(BatchNormalization())\n",
        "\n",
        "        model.add(MaxPooling2D(pool_size=(2, 2)))\n",
        "\n",
        "        model.add(Conv2D(256, (3, 3), padding='same',kernel_regularizer=regularizers.l2(weight_decay)))\n",
        "        model.add(Activation('relu'))\n",
        "        model.add(BatchNormalization())\n",
        "        model.add(Dropout(0.4))\n",
        "\n",
        "        model.add(Conv2D(256, (3, 3), padding='same',kernel_regularizer=regularizers.l2(weight_decay)))\n",
        "        model.add(Activation('relu'))\n",
        "        model.add(BatchNormalization())\n",
        "        model.add(Dropout(0.4))\n",
        "\n",
        "        model.add(Conv2D(256, (3, 3), padding='same',kernel_regularizer=regularizers.l2(weight_decay)))\n",
        "        model.add(Activation('relu'))\n",
        "        model.add(BatchNormalization())\n",
        "\n",
        "        model.add(MaxPooling2D(pool_size=(2, 2)))\n",
        "\n",
        "        model.add(Conv2D(512, (3, 3), padding='same',kernel_regularizer=regularizers.l2(weight_decay)))\n",
        "        model.add(Activation('relu'))\n",
        "        model.add(BatchNormalization())\n",
        "        model.add(Dropout(0.4))\n",
        "\n",
        "        model.add(Conv2D(512, (3, 3), padding='same',kernel_regularizer=regularizers.l2(weight_decay)))\n",
        "        model.add(Activation('relu'))\n",
        "        model.add(BatchNormalization())\n",
        "        model.add(Dropout(0.4))\n",
        "\n",
        "        model.add(Conv2D(512, (3, 3), padding='same',kernel_regularizer=regularizers.l2(weight_decay)))\n",
        "        model.add(Activation('relu'))\n",
        "        model.add(BatchNormalization())\n",
        "\n",
        "        model.add(MaxPooling2D(pool_size=(2, 2)))\n",
        "\n",
        "        model.add(Conv2D(512, (3, 3), padding='same',kernel_regularizer=regularizers.l2(weight_decay)))\n",
        "        model.add(Activation('relu'))\n",
        "        model.add(BatchNormalization())\n",
        "        model.add(Dropout(0.4))\n",
        "\n",
        "        model.add(Conv2D(512, (3, 3), padding='same',kernel_regularizer=regularizers.l2(weight_decay)))\n",
        "        model.add(Activation('relu'))\n",
        "        model.add(BatchNormalization())\n",
        "        model.add(Dropout(0.4))\n",
        "\n",
        "        model.add(Conv2D(512, (3, 3), padding='same',kernel_regularizer=regularizers.l2(weight_decay)))\n",
        "        model.add(Activation('relu'))\n",
        "        model.add(BatchNormalization())\n",
        "\n",
        "        model.add(MaxPooling2D(pool_size=(2, 2)))\n",
        "        model.add(Dropout(0.5))\n",
        "\n",
        "        model.add(Flatten())\n",
        "        model.add(Dense(512,kernel_regularizer=regularizers.l2(weight_decay)))\n",
        "        model.add(Activation('relu'))\n",
        "        model.add(BatchNormalization())\n",
        "\n",
        "        model.add(Dropout(0.5))\n",
        "        model.add(Dense(self.num_classes))\n",
        "        model.add(Activation('softmax'))\n",
        "        return model\n",
        "\n",
        "    def normalize(self,X_train,X_test):\n",
        "        \"\"\"This function normalizes inputs for zero mean and unit variance.\n",
        "        It is used when training a model.\n",
        "\n",
        "        Parameters\n",
        "        ----------\n",
        "        X_train : array, e.g., numpy array\n",
        "            training data set\n",
        "        X_test : array, e.g., numpy array\n",
        "            test data set\n",
        "\n",
        "        Returns: normalized training set and test set according to the training set statistics.\n",
        "        \"\"\"\n",
        "        mean = np.mean(X_train,axis=(0,1,2,3))\n",
        "        std = np.std(X_train, axis=(0,1,2,3))\n",
        "        X_train = (X_train-mean)/(std+1e-7)\n",
        "        X_test = (X_test-mean)/(std+1e-7)\n",
        "        return X_train, X_test\n",
        "    \n",
        "    def normalize_production(self,x):\n",
        "        \"\"\"This function is used to normalize instances in production according to saved training set statistics\n",
        "\n",
        "        Parameters\n",
        "        ----------\n",
        "        X_train : array, e.g., numpy array\n",
        "            training data set\n",
        "        X_test : array, e.g., numpy array\n",
        "            test data set\n",
        "\n",
        "        Returns: normalized training set and test set according to preset constants.\n",
        "        \"\"\"\n",
        "        # These values produced during first training and are general for the standard CIFAR-10 training set normalization\n",
        "        mean = 120.707\n",
        "        std = 64.15\n",
        "        return (x-mean)/(std+1e-7)\n",
        "\n",
        "    def predict(self,x,normalize=True,batch_size=50):\n",
        "        \"\"\"Makes a prediction using the trained model\n",
        "\n",
        "        Parameters\n",
        "        ----------\n",
        "        X : array, e.g., numpy array\n",
        "            data to make prediction on\n",
        "        normalize : boolean\n",
        "            determines if dataset should be normalized before making a prediction\n",
        "        batch_size : int\n",
        "            determines the batch size per prediction batch\n",
        "\n",
        "        Returns : predictions\n",
        "        \"\"\"\n",
        "        if normalize:\n",
        "            x = self.normalize_production(x)\n",
        "        return self.model.predict(x,batch_size)\n",
        "\n",
        "    def train(self,model):\n",
        "        \"\"\"Trains the model\n",
        "\n",
        "        Parameters\n",
        "        ----------\n",
        "        model : Model\n",
        "            model to be trained\n",
        "        \"\"\"\n",
        "        # Training parameters\n",
        "        batch_size = 128\n",
        "        maxepoches = 250\n",
        "        learning_rate = 0.1\n",
        "        lr_decay = 1e-6\n",
        "        lr_drop = 20\n",
        "\n",
        "        # The data, shuffled and split between train and test sets:\n",
        "        (x_train, y_train), (x_test, y_test) = cifar10.load_data()\n",
        "        x_train = x_train.astype('float32')\n",
        "        x_test = x_test.astype('float32')\n",
        "        x_train, x_test = self.normalize(x_train, x_test)\n",
        "\n",
        "        y_train = keras.utils.to_categorical(y_train, self.num_classes)\n",
        "        y_test = keras.utils.to_categorical(y_test, self.num_classes)\n",
        "\n",
        "        def lr_scheduler(epoch):\n",
        "            return learning_rate * (0.5 ** (epoch // lr_drop))\n",
        "        reduce_lr = keras.callbacks.LearningRateScheduler(lr_scheduler)\n",
        "\n",
        "        # Data augmentation\n",
        "        datagen = ImageDataGenerator(\n",
        "            featurewise_center=False,  # set input mean to 0 over the dataset\n",
        "            samplewise_center=False,  # set each sample mean to 0\n",
        "            featurewise_std_normalization=False,  # divide inputs by std of the dataset\n",
        "            samplewise_std_normalization=False,  # divide each input by its std\n",
        "            zca_whitening=False,  # apply ZCA whitening\n",
        "            rotation_range=15,  # randomly rotate images in the range (degrees, 0 to 180)\n",
        "            width_shift_range=0.1,  # randomly shift images horizontally (fraction of total width)\n",
        "            height_shift_range=0.1,  # randomly shift images vertically (fraction of total height)\n",
        "            horizontal_flip=True,  # randomly flip images\n",
        "            vertical_flip=False)  # randomly flip images\n",
        "\n",
        "        # (std, mean, and principal components if ZCA whitening is applied).\n",
        "        datagen.fit(x_train)\n",
        "\n",
        "        # Optimization details\n",
        "        sgd = optimizers.SGD(lr=learning_rate, decay=lr_decay, momentum=0.9, nesterov=True)\n",
        "        model.compile(loss='categorical_crossentropy', optimizer=sgd,metrics=['accuracy'])\n",
        "\n",
        "        # Training process in a for loop with learning rate drop every 25 epoches.\n",
        "        historytemp = model.fit_generator(datagen.flow(x_train, y_train,\n",
        "                                         batch_size=batch_size),\n",
        "                            steps_per_epoch=x_train.shape[0] // batch_size,\n",
        "                            epochs=maxepoches,\n",
        "                            validation_data=(x_test, y_test),callbacks=[reduce_lr],verbose=2)\n",
        "        model.save_weights('cifar10vgg.h5')\n",
        "        return model"
      ],
      "metadata": {
        "id": "rueV8y-IujK5"
      },
      "id": "rueV8y-IujK5",
      "execution_count": 8,
      "outputs": []
    },
    {
      "cell_type": "code",
      "source": [
        "def cut_model(input_model):\n",
        "    \"\"\"Removes fully-connected layer from the end of a CNN model\n",
        "\n",
        "    Parameters\n",
        "    ----------\n",
        "    input_model : Model\n",
        "        model to cut\n",
        "    \"\"\"\n",
        "    dense_layer_count = 0\n",
        "    count = False\n",
        "    model_length = len(input_model.layers)\n",
        "    output_model = Sequential()\n",
        "    output_config = []\n",
        "\n",
        "    for index in range(model_length):\n",
        "        if count == True:\n",
        "            output_config.append(layer.get_config())\n",
        "            input_model.pop()\n",
        "        else:\n",
        "            layer = input_model.layers[index]\n",
        "        if layer.name.startswith('flatten'):\n",
        "            count = True\n",
        "            output_model.add(InputLayer(input_shape=layer.output_shape))          \n",
        "    # return output_model"
      ],
      "metadata": {
        "id": "SiZ_at8_M1yT"
      },
      "id": "SiZ_at8_M1yT",
      "execution_count": 9,
      "outputs": []
    },
    {
      "cell_type": "code",
      "source": [
        "def create_output_files(x_train, x_test, y_train, y_test, prefix, suffix = \"\"):\n",
        "    \"\"\"Create the output files to save intermediate datasets for further use\n",
        "\n",
        "    Parameters\n",
        "    ----------\n",
        "    x_train : array, e.g., numpy array\n",
        "        training input data\n",
        "\n",
        "    x_test : array, e.g., numpy array\n",
        "        testing input data\n",
        "\n",
        "    y_train : list\n",
        "        training target data\n",
        "\n",
        "    y_test : list\n",
        "        test target data\n",
        "\n",
        "    prefix : string\n",
        "        prefix to add to output file name\n",
        "\n",
        "    suffix : string\n",
        "        suffix to add to output file name\n",
        "    \"\"\"\n",
        "    for i, model in enumerate(models):\n",
        "        pred_train = model.predict(x_train)\n",
        "        pred_test = model.predict(x_test)\n",
        "        pred_train_with_target = np.array([np.array([preds, y_train[i]]) for i, preds in enumerate(pred_train)])\n",
        "        pred_test_with_target = np.array([np.array([preds, y_test[i]]) for i, preds in enumerate(pred_test)])\n",
        "        path = input_path + \"intermediate/\" + prefix + \"/\" + model_names[i]\n",
        "        \n",
        "        if not os.path.exists(path):\n",
        "            os.makedirs(path)\n",
        "            \n",
        "        np.save(path + \"/train\" + suffix, pred_train_with_target)\n",
        "        np.save(path + \"/test\" + suffix, pred_test_with_target)"
      ],
      "metadata": {
        "id": "bbuVeAN6PLzo"
      },
      "id": "bbuVeAN6PLzo",
      "execution_count": 10,
      "outputs": []
    },
    {
      "cell_type": "code",
      "source": [
        "def plot_model_stats(hist):\n",
        "    \"\"\"Plot model statistics after the learning procedure, e.g. accuracy development over time (epochs)\n",
        "\n",
        "    Parameters\n",
        "    ----------\n",
        "    hist : Histogram\n",
        "        model statistics to plot\n",
        "    \"\"\"\n",
        "    # Summarize history for accuracy\n",
        "    plt.plot(hist.history['accuracy'])\n",
        "    plt.plot(hist.history['val_accuracy'])\n",
        "    plt.title('Model Accuracy')\n",
        "    plt.ylabel('accuracy')\n",
        "    plt.xlabel('epoch')\n",
        "    plt.legend(['train', 'test'], loc='upper left')\n",
        "    plt.show()\n",
        "    \n",
        "    # Summarize history for loss\n",
        "    plt.plot(hist.history['loss'])\n",
        "    plt.plot(hist.history['val_loss'])\n",
        "    plt.title('Model Loss')\n",
        "    plt.ylabel('loss')\n",
        "    plt.xlabel('epoch')\n",
        "    plt.legend(['train', 'test'], loc='upper left')\n",
        "    plt.show()"
      ],
      "metadata": {
        "id": "D0AxQUAnQLpE"
      },
      "id": "D0AxQUAnQLpE",
      "execution_count": 11,
      "outputs": []
    },
    {
      "cell_type": "markdown",
      "id": "71d704da",
      "metadata": {
        "id": "71d704da"
      },
      "source": [
        "## 1. Data Exploration"
      ]
    },
    {
      "cell_type": "code",
      "execution_count": 12,
      "id": "3830c382",
      "metadata": {
        "id": "3830c382",
        "colab": {
          "base_uri": "https://localhost:8080/"
        },
        "outputId": "36e03f35-9f31-425d-9537-cb86a674b07a"
      },
      "outputs": [
        {
          "output_type": "stream",
          "name": "stdout",
          "text": [
            "Downloading data from https://www.cs.toronto.edu/~kriz/cifar-10-python.tar.gz\n",
            "170500096/170498071 [==============================] - 2s 0us/step\n",
            "170508288/170498071 [==============================] - 2s 0us/step\n"
          ]
        }
      ],
      "source": [
        "# Load dataset\n",
        "cifar_version = 'cifar10'\n",
        "input_path = \"data/cifar10_filtered/\"\n",
        "(x_train, y_train), (x_test, y_test) = cifar10.load_data()"
      ]
    },
    {
      "cell_type": "code",
      "execution_count": 13,
      "id": "1d09e5cd",
      "metadata": {
        "id": "1d09e5cd"
      },
      "outputs": [],
      "source": [
        "# cifar_version = 'cifar100'\n",
        "# input_path = \"data/cifar100_filtered/\"\n",
        "# (x_train, y_train), (x_test, y_test) = cifar100.load_data()"
      ]
    },
    {
      "cell_type": "code",
      "execution_count": 14,
      "id": "ad5a0d4d",
      "metadata": {
        "colab": {
          "base_uri": "https://localhost:8080/"
        },
        "id": "ad5a0d4d",
        "outputId": "6f94a001-123d-466b-dc67-a8c16c5748c3"
      },
      "outputs": [
        {
          "output_type": "execute_result",
          "data": {
            "text/plain": [
              "10"
            ]
          },
          "metadata": {},
          "execution_count": 14
        }
      ],
      "source": [
        "num_classes = len(np.unique(y_train))\n",
        "num_classes"
      ]
    },
    {
      "cell_type": "code",
      "source": [
        "print('Shape of x_train is', x_train.shape)\n",
        "print('Shape of y_train is', y_train.shape)\n",
        "print()\n",
        "print('Shape of x_test  is', x_test.shape)\n",
        "print('Shape of y_test  is', y_test.shape)"
      ],
      "metadata": {
        "colab": {
          "base_uri": "https://localhost:8080/"
        },
        "id": "SEZHUniydR64",
        "outputId": "062b3a3f-0fbc-4064-d462-c7912ec7dd78"
      },
      "id": "SEZHUniydR64",
      "execution_count": 15,
      "outputs": [
        {
          "output_type": "stream",
          "name": "stdout",
          "text": [
            "Shape of x_train is (50000, 32, 32, 3)\n",
            "Shape of y_train is (50000, 1)\n",
            "\n",
            "Shape of x_test  is (10000, 32, 32, 3)\n",
            "Shape of y_test  is (10000, 1)\n"
          ]
        }
      ]
    },
    {
      "cell_type": "code",
      "execution_count": 16,
      "id": "14abb956",
      "metadata": {
        "id": "14abb956"
      },
      "outputs": [],
      "source": [
        "treat_data = \"normalize\""
      ]
    },
    {
      "cell_type": "code",
      "execution_count": 17,
      "id": "9fb9e85c",
      "metadata": {
        "id": "9fb9e85c"
      },
      "outputs": [],
      "source": [
        "# Produce a timestamp to attach to future outputs\n",
        "now = datetime.datetime.now()\n",
        "prefix = now.strftime(\"%Y%m%d_%H%M\")"
      ]
    },
    {
      "cell_type": "code",
      "execution_count": 18,
      "id": "f4ff1fd5",
      "metadata": {
        "colab": {
          "base_uri": "https://localhost:8080/",
          "height": 1000
        },
        "id": "f4ff1fd5",
        "outputId": "e718776a-917a-4e10-dd86-524b2e08f06e"
      },
      "outputs": [
        {
          "output_type": "display_data",
          "data": {
            "image/png": "[encoded data removed]",
            "text/plain": [
              "<Figure size 432x288 with 1 Axes>"
            ]
          },
          "metadata": {
            "needs_background": "light"
          }
        },
        {
          "output_type": "display_data",
          "data": {
            "image/png": "[encoded data removed]",
            "text/plain": [
              "<Figure size 432x288 with 1 Axes>"
            ]
          },
          "metadata": {
            "needs_background": "light"
          }
        },
        {
          "output_type": "display_data",
          "data": {
            "image/png": "[encoded data removed]",
            "text/plain": [
              "<Figure size 432x288 with 1 Axes>"
            ]
          },
          "metadata": {
            "needs_background": "light"
          }
        },
        {
          "output_type": "display_data",
          "data": {
            "image/png": "[encoded data removed]",
            "text/plain": [
              "<Figure size 432x288 with 1 Axes>"
            ]
          },
          "metadata": {
            "needs_background": "light"
          }
        },
        {
          "output_type": "display_data",
          "data": {
            "image/png": "[encoded data removed]",
            "text/plain": [
              "<Figure size 432x288 with 1 Axes>"
            ]
          },
          "metadata": {
            "needs_background": "light"
          }
        },
        {
          "output_type": "display_data",
          "data": {
            "image/png": "[encoded data removed]",
            "text/plain": [
              "<Figure size 432x288 with 1 Axes>"
            ]
          },
          "metadata": {
            "needs_background": "light"
          }
        },
        {
          "output_type": "display_data",
          "data": {
            "image/png": "[encoded data removed]",
            "text/plain": [
              "<Figure size 432x288 with 1 Axes>"
            ]
          },
          "metadata": {
            "needs_background": "light"
          }
        },
        {
          "output_type": "display_data",
          "data": {
            "image/png": "[encoded data removed]",
            "text/plain": [
              "<Figure size 432x288 with 1 Axes>"
            ]
          },
          "metadata": {
            "needs_background": "light"
          }
        },
        {
          "output_type": "display_data",
          "data": {
            "image/png": "[encoded data removed]",
            "text/plain": [
              "<Figure size 432x288 with 1 Axes>"
            ]
          },
          "metadata": {
            "needs_background": "light"
          }
        },
        {
          "output_type": "display_data",
          "data": {
            "image/png": "[encoded data removed]",
            "text/plain": [
              "<Figure size 432x288 with 1 Axes>"
            ]
          },
          "metadata": {
            "needs_background": "light"
          }
        }
      ],
      "source": [
        "# Show the images to get a visual understanding of the classes\n",
        "show_image_classes(x_train, y_train, prefix, \"raw\")"
      ]
    },
    {
      "cell_type": "code",
      "execution_count": 19,
      "id": "00025523",
      "metadata": {
        "colab": {
          "base_uri": "https://localhost:8080/",
          "height": 1000
        },
        "id": "00025523",
        "outputId": "42f62b69-dee1-40b7-980c-4b54037a78d3"
      },
      "outputs": [
        {
          "output_type": "display_data",
          "data": {
            "image/png": "[encoded data removed]",
            "text/plain": [
              "<Figure size 432x288 with 1 Axes>"
            ]
          },
          "metadata": {
            "needs_background": "light"
          }
        },
        {
          "output_type": "display_data",
          "data": {
            "image/png": "[encoded data removed]",
            "text/plain": [
              "<Figure size 432x288 with 1 Axes>"
            ]
          },
          "metadata": {
            "needs_background": "light"
          }
        },
        {
          "output_type": "display_data",
          "data": {
            "image/png": "[encoded data removed]",
            "text/plain": [
              "<Figure size 432x288 with 1 Axes>"
            ]
          },
          "metadata": {
            "needs_background": "light"
          }
        },
        {
          "output_type": "display_data",
          "data": {
            "image/png": "[encoded data removed]",
            "text/plain": [
              "<Figure size 432x288 with 1 Axes>"
            ]
          },
          "metadata": {
            "needs_background": "light"
          }
        },
        {
          "output_type": "display_data",
          "data": {
            "image/png": "[encoded data removed]",
            "text/plain": [
              "<Figure size 432x288 with 1 Axes>"
            ]
          },
          "metadata": {
            "needs_background": "light"
          }
        },
        {
          "output_type": "display_data",
          "data": {
            "image/png": "[encoded data removed]",
            "text/plain": [
              "<Figure size 432x288 with 1 Axes>"
            ]
          },
          "metadata": {
            "needs_background": "light"
          }
        }
      ],
      "source": [
        "# Check the first \"n_images\" images of class number \"class_n\"\n",
        "n_images = 6\n",
        "class_n = 0\n",
        "if cifar_version == 'cifar10':\n",
        "    class_n = 1\n",
        "\n",
        "class_n_pos = [ind for ind, el in enumerate(y_train) if el == class_n]\n",
        "\n",
        "for img in class_n_pos[:n_images]:\n",
        "    plt.figure()\n",
        "    plt.imshow(np.uint8(x_train[img]))\n",
        "    plt.axis('off')"
      ]
    },
    {
      "cell_type": "markdown",
      "id": "d17b6c0b",
      "metadata": {
        "id": "d17b6c0b"
      },
      "source": [
        "## 2. Data Transformation"
      ]
    },
    {
      "cell_type": "code",
      "execution_count": 20,
      "id": "325e3b58",
      "metadata": {
        "id": "325e3b58"
      },
      "outputs": [],
      "source": [
        "# Preprocess data through normalization\n",
        "# Normalisation of data according to predefined normalize_data method\n",
        "if treat_data == \"normalize\":\n",
        "    x_train, x_test = normalize_data(x_train, x_test, cifar_version=cifar_version)"
      ]
    },
    {
      "cell_type": "code",
      "execution_count": 21,
      "id": "fc467e0f",
      "metadata": {
        "colab": {
          "base_uri": "https://localhost:8080/",
          "height": 1000
        },
        "id": "fc467e0f",
        "outputId": "afee1679-7b4c-49c3-b42b-4e40b44565e4"
      },
      "outputs": [
        {
          "output_type": "display_data",
          "data": {
            "image/png": "[encoded data removed]",
            "text/plain": [
              "<Figure size 432x288 with 1 Axes>"
            ]
          },
          "metadata": {
            "needs_background": "light"
          }
        },
        {
          "output_type": "display_data",
          "data": {
            "image/png": "[encoded data removed]",
            "text/plain": [
              "<Figure size 432x288 with 1 Axes>"
            ]
          },
          "metadata": {
            "needs_background": "light"
          }
        },
        {
          "output_type": "display_data",
          "data": {
            "image/png": "[encoded data removed]",
            "text/plain": [
              "<Figure size 432x288 with 1 Axes>"
            ]
          },
          "metadata": {
            "needs_background": "light"
          }
        },
        {
          "output_type": "display_data",
          "data": {
            "image/png": "[encoded data removed]",
            "text/plain": [
              "<Figure size 432x288 with 1 Axes>"
            ]
          },
          "metadata": {
            "needs_background": "light"
          }
        },
        {
          "output_type": "display_data",
          "data": {
            "image/png": "[encoded data removed]",
            "text/plain": [
              "<Figure size 432x288 with 1 Axes>"
            ]
          },
          "metadata": {
            "needs_background": "light"
          }
        },
        {
          "output_type": "display_data",
          "data": {
            "image/png": "[encoded data removed]",
            "text/plain": [
              "<Figure size 432x288 with 1 Axes>"
            ]
          },
          "metadata": {
            "needs_background": "light"
          }
        },
        {
          "output_type": "display_data",
          "data": {
            "image/png": "[encoded data removed]",
            "text/plain": [
              "<Figure size 432x288 with 1 Axes>"
            ]
          },
          "metadata": {
            "needs_background": "light"
          }
        },
        {
          "output_type": "display_data",
          "data": {
            "image/png": "[encoded data removed]",
            "text/plain": [
              "<Figure size 432x288 with 1 Axes>"
            ]
          },
          "metadata": {
            "needs_background": "light"
          }
        },
        {
          "output_type": "display_data",
          "data": {
            "image/png": "[encoded data removed]",
            "text/plain": [
              "<Figure size 432x288 with 1 Axes>"
            ]
          },
          "metadata": {
            "needs_background": "light"
          }
        },
        {
          "output_type": "display_data",
          "data": {
            "image/png": "[encoded data removed]",
            "text/plain": [
              "<Figure size 432x288 with 1 Axes>"
            ]
          },
          "metadata": {
            "needs_background": "light"
          }
        }
      ],
      "source": [
        "# Show normalized data\n",
        "if treat_data == \"normalize\": \n",
        "    show_image_classes(x_train, y_train, prefix, \"normalized\")"
      ]
    },
    {
      "cell_type": "code",
      "execution_count": 22,
      "id": "9de3cf89",
      "metadata": {
        "id": "9de3cf89"
      },
      "outputs": [],
      "source": [
        "# One-hot encoding: make target values categorical\n",
        "y_train_categorical = to_categorical(y_train)\n",
        "y_test_categorical = to_categorical(y_test)"
      ]
    },
    {
      "cell_type": "markdown",
      "id": "12f25ac9",
      "metadata": {
        "id": "12f25ac9"
      },
      "source": [
        "## 3. Neural Network Training"
      ]
    },
    {
      "cell_type": "code",
      "execution_count": 23,
      "id": "ab8431a2",
      "metadata": {
        "id": "ab8431a2"
      },
      "outputs": [],
      "source": [
        "datagen = keras.preprocessing.image.ImageDataGenerator(featurewise_center=False, \n",
        "                                                       samplewise_center=False, \n",
        "                                                       featurewise_std_normalization=False, \n",
        "                                                       samplewise_std_normalization=False, \n",
        "                                                       zca_whitening=False, \n",
        "                                                       zca_epsilon=1e-06, \n",
        "                                                       rotation_range=0.0, \n",
        "                                                       width_shift_range=0.0, \n",
        "                                                       height_shift_range=0.0, \n",
        "                                                       brightness_range=None, \n",
        "                                                       shear_range=0.0, \n",
        "                                                       zoom_range=0.0, \n",
        "                                                       channel_shift_range=0.0, \n",
        "                                                       fill_mode='nearest', \n",
        "                                                       cval=0.0, \n",
        "                                                       horizontal_flip=False, \n",
        "                                                       vertical_flip=False, \n",
        "                                                       rescale=None, \n",
        "                                                       preprocessing_function=None, \n",
        "                                                       data_format=None, \n",
        "                                                       validation_split=0.0)"
      ]
    },
    {
      "cell_type": "code",
      "execution_count": 24,
      "id": "665387f4",
      "metadata": {
        "id": "665387f4"
      },
      "outputs": [],
      "source": [
        "# Compute quantities required for featurewise normalization\n",
        "# (std, mean, and principal components if ZCA whitening is applied)\n",
        "datagen.fit(x_train)"
      ]
    },
    {
      "cell_type": "code",
      "execution_count": 25,
      "id": "b145972c",
      "metadata": {
        "id": "b145972c"
      },
      "outputs": [],
      "source": [
        "models = []\n",
        "model_names = []\n",
        "input_shape = x_train[0].shape\n",
        "batch_size = 100\n",
        "epochs = 80"
      ]
    },
    {
      "cell_type": "code",
      "execution_count": 26,
      "id": "1324150d",
      "metadata": {
        "id": "1324150d"
      },
      "outputs": [],
      "source": [
        "# Create neural network models\n",
        "models.append(create_CNN_1(input_shape))\n",
        "model_names.append(\"CNN_Input_1\")"
      ]
    },
    {
      "cell_type": "code",
      "source": [
        "models.append(create_CNN_2(input_shape))\n",
        "model_names.append(\"CNN_Input_2\")"
      ],
      "metadata": {
        "id": "DIrF6V1no_N3"
      },
      "id": "DIrF6V1no_N3",
      "execution_count": 34,
      "outputs": []
    },
    {
      "cell_type": "code",
      "execution_count": 37,
      "id": "0a96da50",
      "metadata": {
        "id": "0a96da50"
      },
      "outputs": [],
      "source": [
        "history = []\n",
        "lr = 0.0001\n",
        "\n",
        "for model in models:\n",
        "    model.compile(loss=keras.losses.categorical_crossentropy,\n",
        "                  optimizer=tf.keras.optimizers.Adam(lr=lr),\n",
        "                  metrics=['accuracy'])"
      ]
    },
    {
      "cell_type": "code",
      "execution_count": 38,
      "id": "90ef67b9",
      "metadata": {
        "scrolled": true,
        "colab": {
          "base_uri": "https://localhost:8080/"
        },
        "id": "90ef67b9",
        "outputId": "9a53074c-7548-4aef-9fba-6ce5dc6cecf4"
      },
      "outputs": [
        {
          "output_type": "stream",
          "name": "stdout",
          "text": [
            "Epoch 1/80\n",
            "500/500 [==============================] - 67s 111ms/step - loss: 1.5084 - accuracy: 0.4584 - val_loss: 1.1864 - val_accuracy: 0.5819\n",
            "Epoch 2/80\n",
            "500/500 [==============================] - 55s 109ms/step - loss: 1.1372 - accuracy: 0.6044 - val_loss: 0.9789 - val_accuracy: 0.6575\n",
            "Epoch 3/80\n",
            "500/500 [==============================] - 55s 110ms/step - loss: 0.9993 - accuracy: 0.6538 - val_loss: 0.9262 - val_accuracy: 0.6785\n",
            "Epoch 4/80\n",
            "500/500 [==============================] - 54s 108ms/step - loss: 0.9178 - accuracy: 0.6810 - val_loss: 0.8299 - val_accuracy: 0.7141\n",
            "Epoch 5/80\n",
            "500/500 [==============================] - 55s 110ms/step - loss: 0.8525 - accuracy: 0.7053 - val_loss: 0.7903 - val_accuracy: 0.7241\n",
            "Epoch 6/80\n",
            "500/500 [==============================] - 54s 108ms/step - loss: 0.7993 - accuracy: 0.7231 - val_loss: 0.7547 - val_accuracy: 0.7390\n",
            "Epoch 7/80\n",
            "500/500 [==============================] - 55s 110ms/step - loss: 0.7494 - accuracy: 0.7399 - val_loss: 0.7452 - val_accuracy: 0.7434\n",
            "Epoch 8/80\n",
            "500/500 [==============================] - 54s 108ms/step - loss: 0.7031 - accuracy: 0.7563 - val_loss: 0.7308 - val_accuracy: 0.7523\n",
            "Epoch 9/80\n",
            "500/500 [==============================] - 55s 110ms/step - loss: 0.6588 - accuracy: 0.7693 - val_loss: 0.6990 - val_accuracy: 0.7638\n",
            "Epoch 10/80\n",
            "500/500 [==============================] - 55s 110ms/step - loss: 0.6147 - accuracy: 0.7865 - val_loss: 0.7144 - val_accuracy: 0.7627\n",
            "Epoch 11/80\n",
            "500/500 [==============================] - 54s 108ms/step - loss: 0.5808 - accuracy: 0.7980 - val_loss: 0.6989 - val_accuracy: 0.7668\n",
            "Epoch 12/80\n",
            "500/500 [==============================] - 54s 108ms/step - loss: 0.5517 - accuracy: 0.8077 - val_loss: 0.6783 - val_accuracy: 0.7758\n",
            "Epoch 13/80\n",
            "500/500 [==============================] - 54s 108ms/step - loss: 0.5148 - accuracy: 0.8189 - val_loss: 0.7010 - val_accuracy: 0.7721\n",
            "Epoch 14/80\n",
            "500/500 [==============================] - 54s 108ms/step - loss: 0.4817 - accuracy: 0.8331 - val_loss: 0.6701 - val_accuracy: 0.7813\n",
            "Epoch 15/80\n",
            "500/500 [==============================] - 55s 110ms/step - loss: 0.4588 - accuracy: 0.8386 - val_loss: 0.7295 - val_accuracy: 0.7778\n",
            "Epoch 16/80\n",
            "500/500 [==============================] - 54s 108ms/step - loss: 0.4276 - accuracy: 0.8476 - val_loss: 0.7125 - val_accuracy: 0.7805\n",
            "Epoch 17/80\n",
            "500/500 [==============================] - 54s 108ms/step - loss: 0.3965 - accuracy: 0.8616 - val_loss: 0.6931 - val_accuracy: 0.7823\n",
            "Epoch 18/80\n",
            "500/500 [==============================] - 55s 110ms/step - loss: 0.3797 - accuracy: 0.8658 - val_loss: 0.6722 - val_accuracy: 0.7949\n",
            "Epoch 19/80\n",
            "500/500 [==============================] - 54s 108ms/step - loss: 0.3558 - accuracy: 0.8729 - val_loss: 0.6962 - val_accuracy: 0.7885\n",
            "Epoch 20/80\n",
            "500/500 [==============================] - 54s 108ms/step - loss: 0.3370 - accuracy: 0.8809 - val_loss: 0.6870 - val_accuracy: 0.7891\n",
            "Epoch 21/80\n",
            "500/500 [==============================] - 55s 110ms/step - loss: 0.3206 - accuracy: 0.8855 - val_loss: 0.7008 - val_accuracy: 0.7915\n",
            "Epoch 22/80\n",
            "500/500 [==============================] - 55s 110ms/step - loss: 0.2990 - accuracy: 0.8941 - val_loss: 0.7255 - val_accuracy: 0.7902\n",
            "Epoch 23/80\n",
            "500/500 [==============================] - 54s 108ms/step - loss: 0.2790 - accuracy: 0.9017 - val_loss: 0.7707 - val_accuracy: 0.7863\n",
            "Epoch 24/80\n",
            "500/500 [==============================] - 54s 108ms/step - loss: 0.2634 - accuracy: 0.9066 - val_loss: 0.7185 - val_accuracy: 0.7957\n",
            "Epoch 25/80\n",
            "500/500 [==============================] - 55s 110ms/step - loss: 0.2543 - accuracy: 0.9093 - val_loss: 0.7387 - val_accuracy: 0.7979\n",
            "Epoch 26/80\n",
            "500/500 [==============================] - 55s 110ms/step - loss: 0.2463 - accuracy: 0.9112 - val_loss: 0.7187 - val_accuracy: 0.8023\n",
            "Epoch 27/80\n",
            "500/500 [==============================] - 55s 110ms/step - loss: 0.2232 - accuracy: 0.9214 - val_loss: 0.7698 - val_accuracy: 0.7950\n",
            "Epoch 28/80\n",
            "500/500 [==============================] - 55s 110ms/step - loss: 0.2141 - accuracy: 0.9246 - val_loss: 0.7873 - val_accuracy: 0.8004\n",
            "Epoch 29/80\n",
            "500/500 [==============================] - 54s 108ms/step - loss: 0.2059 - accuracy: 0.9264 - val_loss: 0.7237 - val_accuracy: 0.8110\n",
            "Epoch 30/80\n",
            "500/500 [==============================] - 55s 110ms/step - loss: 0.1962 - accuracy: 0.9299 - val_loss: 0.7756 - val_accuracy: 0.8113\n",
            "Epoch 31/80\n",
            "500/500 [==============================] - 54s 108ms/step - loss: 0.1875 - accuracy: 0.9344 - val_loss: 0.7886 - val_accuracy: 0.8091\n",
            "Epoch 32/80\n",
            "500/500 [==============================] - 55s 110ms/step - loss: 0.1786 - accuracy: 0.9362 - val_loss: 0.7520 - val_accuracy: 0.8073\n",
            "Epoch 33/80\n",
            "500/500 [==============================] - 55s 110ms/step - loss: 0.1713 - accuracy: 0.9388 - val_loss: 0.7536 - val_accuracy: 0.8120\n",
            "Epoch 34/80\n",
            "500/500 [==============================] - 54s 108ms/step - loss: 0.1653 - accuracy: 0.9426 - val_loss: 0.8040 - val_accuracy: 0.7996\n",
            "Epoch 35/80\n",
            "500/500 [==============================] - 55s 110ms/step - loss: 0.1555 - accuracy: 0.9447 - val_loss: 0.7984 - val_accuracy: 0.8131\n",
            "Epoch 36/80\n",
            "500/500 [==============================] - 55s 110ms/step - loss: 0.1578 - accuracy: 0.9447 - val_loss: 0.7850 - val_accuracy: 0.8120\n",
            "Epoch 37/80\n",
            "500/500 [==============================] - 54s 108ms/step - loss: 0.1443 - accuracy: 0.9495 - val_loss: 0.7771 - val_accuracy: 0.8139\n",
            "Epoch 38/80\n",
            "500/500 [==============================] - 54s 108ms/step - loss: 0.1387 - accuracy: 0.9511 - val_loss: 0.7760 - val_accuracy: 0.8158\n",
            "Epoch 39/80\n",
            "500/500 [==============================] - 55s 110ms/step - loss: 0.1334 - accuracy: 0.9529 - val_loss: 0.7706 - val_accuracy: 0.8181\n",
            "Epoch 40/80\n",
            "500/500 [==============================] - 55s 110ms/step - loss: 0.1325 - accuracy: 0.9530 - val_loss: 0.7569 - val_accuracy: 0.8145\n",
            "Epoch 41/80\n",
            "500/500 [==============================] - 54s 108ms/step - loss: 0.1267 - accuracy: 0.9552 - val_loss: 0.8110 - val_accuracy: 0.8175\n",
            "Epoch 42/80\n",
            "500/500 [==============================] - 55s 110ms/step - loss: 0.1278 - accuracy: 0.9553 - val_loss: 0.8305 - val_accuracy: 0.8187\n",
            "Epoch 43/80\n",
            "500/500 [==============================] - 55s 110ms/step - loss: 0.1152 - accuracy: 0.9593 - val_loss: 0.8091 - val_accuracy: 0.8195\n",
            "Epoch 44/80\n",
            "500/500 [==============================] - 55s 110ms/step - loss: 0.1128 - accuracy: 0.9601 - val_loss: 0.7883 - val_accuracy: 0.8217\n",
            "Epoch 45/80\n",
            "500/500 [==============================] - 55s 110ms/step - loss: 0.1111 - accuracy: 0.9610 - val_loss: 0.8290 - val_accuracy: 0.8166\n",
            "Epoch 46/80\n",
            "500/500 [==============================] - 55s 110ms/step - loss: 0.1139 - accuracy: 0.9596 - val_loss: 0.8136 - val_accuracy: 0.8188\n",
            "Epoch 47/80\n",
            "500/500 [==============================] - 54s 108ms/step - loss: 0.1077 - accuracy: 0.9628 - val_loss: 0.8091 - val_accuracy: 0.8226\n",
            "Epoch 48/80\n",
            "500/500 [==============================] - 55s 110ms/step - loss: 0.1004 - accuracy: 0.9649 - val_loss: 0.8263 - val_accuracy: 0.8220\n",
            "Epoch 49/80\n",
            "500/500 [==============================] - 54s 108ms/step - loss: 0.0976 - accuracy: 0.9662 - val_loss: 0.8117 - val_accuracy: 0.8168\n",
            "Epoch 50/80\n",
            "500/500 [==============================] - 54s 108ms/step - loss: 0.0994 - accuracy: 0.9653 - val_loss: 0.8589 - val_accuracy: 0.8206\n",
            "Epoch 51/80\n",
            "500/500 [==============================] - 55s 110ms/step - loss: 0.0911 - accuracy: 0.9684 - val_loss: 0.8522 - val_accuracy: 0.8223\n",
            "Epoch 52/80\n",
            "500/500 [==============================] - 54s 108ms/step - loss: 0.0953 - accuracy: 0.9670 - val_loss: 0.8429 - val_accuracy: 0.8230\n",
            "Epoch 53/80\n",
            "500/500 [==============================] - 54s 108ms/step - loss: 0.0884 - accuracy: 0.9701 - val_loss: 0.8500 - val_accuracy: 0.8220\n",
            "Epoch 54/80\n",
            "500/500 [==============================] - 55s 110ms/step - loss: 0.0861 - accuracy: 0.9699 - val_loss: 0.8718 - val_accuracy: 0.8228\n",
            "Epoch 55/80\n",
            "500/500 [==============================] - 55s 110ms/step - loss: 0.0833 - accuracy: 0.9711 - val_loss: 0.8726 - val_accuracy: 0.8216\n",
            "Epoch 56/80\n",
            "500/500 [==============================] - 55s 110ms/step - loss: 0.0837 - accuracy: 0.9707 - val_loss: 0.8640 - val_accuracy: 0.8238\n",
            "Epoch 57/80\n",
            "500/500 [==============================] - 54s 108ms/step - loss: 0.0837 - accuracy: 0.9709 - val_loss: 0.8107 - val_accuracy: 0.8264\n",
            "Epoch 58/80\n",
            "500/500 [==============================] - 54s 108ms/step - loss: 0.0762 - accuracy: 0.9736 - val_loss: 0.8517 - val_accuracy: 0.8238\n",
            "Epoch 59/80\n",
            "500/500 [==============================] - 54s 108ms/step - loss: 0.0773 - accuracy: 0.9736 - val_loss: 0.8983 - val_accuracy: 0.8225\n",
            "Epoch 60/80\n",
            "500/500 [==============================] - 55s 110ms/step - loss: 0.0803 - accuracy: 0.9731 - val_loss: 0.7818 - val_accuracy: 0.8290\n",
            "Epoch 61/80\n",
            "500/500 [==============================] - 55s 110ms/step - loss: 0.0723 - accuracy: 0.9748 - val_loss: 0.8923 - val_accuracy: 0.8224\n",
            "Epoch 62/80\n",
            "500/500 [==============================] - 54s 108ms/step - loss: 0.0740 - accuracy: 0.9741 - val_loss: 0.8929 - val_accuracy: 0.8236\n",
            "Epoch 63/80\n",
            "500/500 [==============================] - 54s 108ms/step - loss: 0.0690 - accuracy: 0.9759 - val_loss: 0.9538 - val_accuracy: 0.8245\n",
            "Epoch 64/80\n",
            "500/500 [==============================] - 55s 110ms/step - loss: 0.0725 - accuracy: 0.9746 - val_loss: 0.8361 - val_accuracy: 0.8317\n",
            "Epoch 65/80\n",
            "500/500 [==============================] - 55s 110ms/step - loss: 0.0679 - accuracy: 0.9767 - val_loss: 0.8272 - val_accuracy: 0.8298\n",
            "Epoch 66/80\n",
            "500/500 [==============================] - 54s 108ms/step - loss: 0.0688 - accuracy: 0.9757 - val_loss: 0.8831 - val_accuracy: 0.8244\n",
            "Epoch 67/80\n",
            "500/500 [==============================] - 55s 110ms/step - loss: 0.0698 - accuracy: 0.9762 - val_loss: 0.8437 - val_accuracy: 0.8296\n",
            "Epoch 68/80\n",
            "500/500 [==============================] - 54s 108ms/step - loss: 0.0658 - accuracy: 0.9761 - val_loss: 0.8906 - val_accuracy: 0.8288\n",
            "Epoch 69/80\n",
            "500/500 [==============================] - 54s 108ms/step - loss: 0.0618 - accuracy: 0.9789 - val_loss: 0.8913 - val_accuracy: 0.8287\n",
            "Epoch 70/80\n",
            "500/500 [==============================] - 55s 109ms/step - loss: 0.0640 - accuracy: 0.9788 - val_loss: 0.8846 - val_accuracy: 0.8273\n",
            "Epoch 71/80\n",
            "500/500 [==============================] - 54s 108ms/step - loss: 0.0615 - accuracy: 0.9790 - val_loss: 0.9166 - val_accuracy: 0.8308\n",
            "Epoch 72/80\n",
            "500/500 [==============================] - 54s 108ms/step - loss: 0.0604 - accuracy: 0.9798 - val_loss: 0.9439 - val_accuracy: 0.8357\n",
            "Epoch 73/80\n",
            "500/500 [==============================] - 55s 110ms/step - loss: 0.0575 - accuracy: 0.9807 - val_loss: 0.9074 - val_accuracy: 0.8316\n",
            "Epoch 74/80\n",
            "500/500 [==============================] - 55s 110ms/step - loss: 0.0564 - accuracy: 0.9810 - val_loss: 0.8756 - val_accuracy: 0.8228\n",
            "Epoch 75/80\n",
            "500/500 [==============================] - 55s 110ms/step - loss: 0.0679 - accuracy: 0.9784 - val_loss: 0.8767 - val_accuracy: 0.8278\n",
            "Epoch 76/80\n",
            "500/500 [==============================] - 55s 110ms/step - loss: 0.0564 - accuracy: 0.9808 - val_loss: 0.8988 - val_accuracy: 0.8258\n",
            "Epoch 77/80\n",
            "500/500 [==============================] - 55s 110ms/step - loss: 0.0522 - accuracy: 0.9820 - val_loss: 0.8716 - val_accuracy: 0.8309\n",
            "Epoch 78/80\n",
            "500/500 [==============================] - 55s 110ms/step - loss: 0.0539 - accuracy: 0.9816 - val_loss: 0.9642 - val_accuracy: 0.8301\n",
            "Epoch 79/80\n",
            "500/500 [==============================] - 54s 108ms/step - loss: 0.0557 - accuracy: 0.9806 - val_loss: 0.9528 - val_accuracy: 0.8293\n",
            "Epoch 80/80\n",
            "500/500 [==============================] - 54s 108ms/step - loss: 0.0533 - accuracy: 0.9816 - val_loss: 1.0814 - val_accuracy: 0.8196\n",
            "Model success\n",
            "Epoch 1/80\n",
            "500/500 [==============================] - 14s 26ms/step - loss: 1.8468 - accuracy: 0.3217 - val_loss: 1.5094 - val_accuracy: 0.4567\n",
            "Epoch 2/80\n",
            "500/500 [==============================] - 11s 23ms/step - loss: 1.5052 - accuracy: 0.4543 - val_loss: 1.3508 - val_accuracy: 0.5210\n",
            "Epoch 3/80\n",
            "500/500 [==============================] - 13s 25ms/step - loss: 1.3821 - accuracy: 0.5028 - val_loss: 1.2695 - val_accuracy: 0.5480\n",
            "Epoch 4/80\n",
            "500/500 [==============================] - 11s 23ms/step - loss: 1.2928 - accuracy: 0.5382 - val_loss: 1.2367 - val_accuracy: 0.5583\n",
            "Epoch 5/80\n",
            "500/500 [==============================] - 11s 23ms/step - loss: 1.2253 - accuracy: 0.5651 - val_loss: 1.1485 - val_accuracy: 0.5901\n",
            "Epoch 6/80\n",
            "500/500 [==============================] - 11s 23ms/step - loss: 1.1626 - accuracy: 0.5874 - val_loss: 1.0688 - val_accuracy: 0.6218\n",
            "Epoch 7/80\n",
            "500/500 [==============================] - 13s 25ms/step - loss: 1.1092 - accuracy: 0.6070 - val_loss: 1.0085 - val_accuracy: 0.6470\n",
            "Epoch 8/80\n",
            "500/500 [==============================] - 13s 25ms/step - loss: 1.0627 - accuracy: 0.6267 - val_loss: 0.9837 - val_accuracy: 0.6555\n",
            "Epoch 9/80\n",
            "500/500 [==============================] - 13s 25ms/step - loss: 1.0231 - accuracy: 0.6394 - val_loss: 0.9554 - val_accuracy: 0.6646\n",
            "Epoch 10/80\n",
            "500/500 [==============================] - 11s 23ms/step - loss: 0.9814 - accuracy: 0.6552 - val_loss: 0.9373 - val_accuracy: 0.6684\n",
            "Epoch 11/80\n",
            "500/500 [==============================] - 13s 25ms/step - loss: 0.9607 - accuracy: 0.6628 - val_loss: 0.8980 - val_accuracy: 0.6851\n",
            "Epoch 12/80\n",
            "500/500 [==============================] - 11s 23ms/step - loss: 0.9257 - accuracy: 0.6749 - val_loss: 0.8728 - val_accuracy: 0.6931\n",
            "Epoch 13/80\n",
            "500/500 [==============================] - 13s 25ms/step - loss: 0.8967 - accuracy: 0.6847 - val_loss: 0.8586 - val_accuracy: 0.7010\n",
            "Epoch 14/80\n",
            "500/500 [==============================] - 11s 23ms/step - loss: 0.8646 - accuracy: 0.6980 - val_loss: 0.8305 - val_accuracy: 0.7070\n",
            "Epoch 15/80\n",
            "500/500 [==============================] - 11s 23ms/step - loss: 0.8433 - accuracy: 0.7047 - val_loss: 0.8127 - val_accuracy: 0.7155\n",
            "Epoch 16/80\n",
            "500/500 [==============================] - 13s 25ms/step - loss: 0.8226 - accuracy: 0.7113 - val_loss: 0.7981 - val_accuracy: 0.7214\n",
            "Epoch 17/80\n",
            "500/500 [==============================] - 11s 23ms/step - loss: 0.7992 - accuracy: 0.7190 - val_loss: 0.7816 - val_accuracy: 0.7284\n",
            "Epoch 18/80\n",
            "500/500 [==============================] - 13s 25ms/step - loss: 0.7818 - accuracy: 0.7263 - val_loss: 0.7728 - val_accuracy: 0.7299\n",
            "Epoch 19/80\n",
            "500/500 [==============================] - 13s 25ms/step - loss: 0.7655 - accuracy: 0.7337 - val_loss: 0.7717 - val_accuracy: 0.7311\n",
            "Epoch 20/80\n",
            "500/500 [==============================] - 13s 25ms/step - loss: 0.7443 - accuracy: 0.7385 - val_loss: 0.7589 - val_accuracy: 0.7363\n",
            "Epoch 21/80\n",
            "500/500 [==============================] - 11s 23ms/step - loss: 0.7238 - accuracy: 0.7475 - val_loss: 0.7513 - val_accuracy: 0.7368\n",
            "Epoch 22/80\n",
            "500/500 [==============================] - 13s 25ms/step - loss: 0.7099 - accuracy: 0.7502 - val_loss: 0.7421 - val_accuracy: 0.7406\n",
            "Epoch 23/80\n",
            "500/500 [==============================] - 13s 25ms/step - loss: 0.6919 - accuracy: 0.7567 - val_loss: 0.7229 - val_accuracy: 0.7445\n",
            "Epoch 24/80\n",
            "500/500 [==============================] - 13s 25ms/step - loss: 0.6793 - accuracy: 0.7599 - val_loss: 0.7169 - val_accuracy: 0.7465\n",
            "Epoch 25/80\n",
            "500/500 [==============================] - 11s 23ms/step - loss: 0.6591 - accuracy: 0.7685 - val_loss: 0.7117 - val_accuracy: 0.7484\n",
            "Epoch 26/80\n",
            "500/500 [==============================] - 11s 23ms/step - loss: 0.6439 - accuracy: 0.7734 - val_loss: 0.7036 - val_accuracy: 0.7536\n",
            "Epoch 27/80\n",
            "500/500 [==============================] - 11s 23ms/step - loss: 0.6316 - accuracy: 0.7779 - val_loss: 0.6934 - val_accuracy: 0.7558\n",
            "Epoch 28/80\n",
            "500/500 [==============================] - 13s 25ms/step - loss: 0.6185 - accuracy: 0.7834 - val_loss: 0.6881 - val_accuracy: 0.7588\n",
            "Epoch 29/80\n",
            "500/500 [==============================] - 13s 25ms/step - loss: 0.6094 - accuracy: 0.7847 - val_loss: 0.6885 - val_accuracy: 0.7595\n",
            "Epoch 30/80\n",
            "500/500 [==============================] - 11s 23ms/step - loss: 0.5966 - accuracy: 0.7920 - val_loss: 0.6747 - val_accuracy: 0.7627\n",
            "Epoch 31/80\n",
            "500/500 [==============================] - 13s 25ms/step - loss: 0.5851 - accuracy: 0.7952 - val_loss: 0.6745 - val_accuracy: 0.7633\n",
            "Epoch 32/80\n",
            "500/500 [==============================] - 11s 23ms/step - loss: 0.5698 - accuracy: 0.7986 - val_loss: 0.6824 - val_accuracy: 0.7599\n",
            "Epoch 33/80\n",
            "500/500 [==============================] - 11s 23ms/step - loss: 0.5566 - accuracy: 0.8026 - val_loss: 0.6601 - val_accuracy: 0.7691\n",
            "Epoch 34/80\n",
            "500/500 [==============================] - 11s 23ms/step - loss: 0.5435 - accuracy: 0.8083 - val_loss: 0.6636 - val_accuracy: 0.7695\n",
            "Epoch 35/80\n",
            "500/500 [==============================] - 11s 23ms/step - loss: 0.5315 - accuracy: 0.8130 - val_loss: 0.6529 - val_accuracy: 0.7732\n",
            "Epoch 36/80\n",
            "500/500 [==============================] - 11s 23ms/step - loss: 0.5215 - accuracy: 0.8160 - val_loss: 0.6493 - val_accuracy: 0.7758\n",
            "Epoch 37/80\n",
            "500/500 [==============================] - 11s 23ms/step - loss: 0.5095 - accuracy: 0.8213 - val_loss: 0.6565 - val_accuracy: 0.7723\n",
            "Epoch 38/80\n",
            "500/500 [==============================] - 11s 23ms/step - loss: 0.5052 - accuracy: 0.8208 - val_loss: 0.6495 - val_accuracy: 0.7711\n",
            "Epoch 39/80\n",
            "500/500 [==============================] - 13s 25ms/step - loss: 0.4958 - accuracy: 0.8242 - val_loss: 0.6410 - val_accuracy: 0.7787\n",
            "Epoch 40/80\n",
            "500/500 [==============================] - 11s 23ms/step - loss: 0.4806 - accuracy: 0.8287 - val_loss: 0.6352 - val_accuracy: 0.7782\n",
            "Epoch 41/80\n",
            "500/500 [==============================] - 13s 25ms/step - loss: 0.4722 - accuracy: 0.8321 - val_loss: 0.6590 - val_accuracy: 0.7743\n",
            "Epoch 42/80\n",
            "500/500 [==============================] - 13s 25ms/step - loss: 0.4660 - accuracy: 0.8355 - val_loss: 0.6439 - val_accuracy: 0.7802\n",
            "Epoch 43/80\n",
            "500/500 [==============================] - 11s 23ms/step - loss: 0.4573 - accuracy: 0.8381 - val_loss: 0.6386 - val_accuracy: 0.7791\n",
            "Epoch 44/80\n",
            "500/500 [==============================] - 13s 25ms/step - loss: 0.4453 - accuracy: 0.8400 - val_loss: 0.6418 - val_accuracy: 0.7783\n",
            "Epoch 45/80\n",
            "500/500 [==============================] - 12s 25ms/step - loss: 0.4399 - accuracy: 0.8445 - val_loss: 0.6365 - val_accuracy: 0.7830\n",
            "Epoch 46/80\n",
            "500/500 [==============================] - 11s 23ms/step - loss: 0.4275 - accuracy: 0.8477 - val_loss: 0.6429 - val_accuracy: 0.7835\n",
            "Epoch 47/80\n",
            "500/500 [==============================] - 11s 23ms/step - loss: 0.4261 - accuracy: 0.8490 - val_loss: 0.6417 - val_accuracy: 0.7831\n",
            "Epoch 48/80\n",
            "500/500 [==============================] - 13s 25ms/step - loss: 0.4145 - accuracy: 0.8537 - val_loss: 0.6417 - val_accuracy: 0.7822\n",
            "Epoch 49/80\n",
            "500/500 [==============================] - 11s 23ms/step - loss: 0.4085 - accuracy: 0.8563 - val_loss: 0.6447 - val_accuracy: 0.7832\n",
            "Epoch 50/80\n",
            "500/500 [==============================] - 11s 23ms/step - loss: 0.4019 - accuracy: 0.8563 - val_loss: 0.6405 - val_accuracy: 0.7862\n",
            "Epoch 51/80\n",
            "500/500 [==============================] - 13s 25ms/step - loss: 0.3939 - accuracy: 0.8609 - val_loss: 0.6323 - val_accuracy: 0.7882\n",
            "Epoch 52/80\n",
            "500/500 [==============================] - 13s 25ms/step - loss: 0.3838 - accuracy: 0.8625 - val_loss: 0.6454 - val_accuracy: 0.7835\n",
            "Epoch 53/80\n",
            "500/500 [==============================] - 11s 23ms/step - loss: 0.3782 - accuracy: 0.8658 - val_loss: 0.6363 - val_accuracy: 0.7875\n",
            "Epoch 54/80\n",
            "500/500 [==============================] - 13s 25ms/step - loss: 0.3725 - accuracy: 0.8666 - val_loss: 0.6443 - val_accuracy: 0.7877\n",
            "Epoch 55/80\n",
            "500/500 [==============================] - 13s 25ms/step - loss: 0.3653 - accuracy: 0.8710 - val_loss: 0.6371 - val_accuracy: 0.7887\n",
            "Epoch 56/80\n",
            "500/500 [==============================] - 11s 23ms/step - loss: 0.3564 - accuracy: 0.8730 - val_loss: 0.6503 - val_accuracy: 0.7886\n",
            "Epoch 57/80\n",
            "500/500 [==============================] - 13s 25ms/step - loss: 0.3518 - accuracy: 0.8729 - val_loss: 0.6426 - val_accuracy: 0.7900\n",
            "Epoch 58/80\n",
            "500/500 [==============================] - 13s 25ms/step - loss: 0.3427 - accuracy: 0.8786 - val_loss: 0.6346 - val_accuracy: 0.7905\n",
            "Epoch 59/80\n",
            "500/500 [==============================] - 13s 25ms/step - loss: 0.3415 - accuracy: 0.8781 - val_loss: 0.6404 - val_accuracy: 0.7918\n",
            "Epoch 60/80\n",
            "500/500 [==============================] - 13s 25ms/step - loss: 0.3318 - accuracy: 0.8796 - val_loss: 0.6470 - val_accuracy: 0.7916\n",
            "Epoch 61/80\n",
            "500/500 [==============================] - 11s 23ms/step - loss: 0.3272 - accuracy: 0.8828 - val_loss: 0.6486 - val_accuracy: 0.7887\n",
            "Epoch 62/80\n",
            "500/500 [==============================] - 13s 25ms/step - loss: 0.3211 - accuracy: 0.8853 - val_loss: 0.6376 - val_accuracy: 0.7929\n",
            "Epoch 63/80\n",
            "500/500 [==============================] - 13s 25ms/step - loss: 0.3168 - accuracy: 0.8877 - val_loss: 0.6503 - val_accuracy: 0.7918\n",
            "Epoch 64/80\n",
            "500/500 [==============================] - 13s 25ms/step - loss: 0.3122 - accuracy: 0.8875 - val_loss: 0.6418 - val_accuracy: 0.7951\n",
            "Epoch 65/80\n",
            "500/500 [==============================] - 11s 23ms/step - loss: 0.3052 - accuracy: 0.8912 - val_loss: 0.6694 - val_accuracy: 0.7904\n",
            "Epoch 66/80\n",
            "500/500 [==============================] - 13s 25ms/step - loss: 0.3043 - accuracy: 0.8916 - val_loss: 0.6530 - val_accuracy: 0.7935\n",
            "Epoch 67/80\n",
            "500/500 [==============================] - 13s 25ms/step - loss: 0.2968 - accuracy: 0.8942 - val_loss: 0.6613 - val_accuracy: 0.7918\n",
            "Epoch 68/80\n",
            "500/500 [==============================] - 12s 23ms/step - loss: 0.2976 - accuracy: 0.8937 - val_loss: 0.6459 - val_accuracy: 0.7930\n",
            "Epoch 69/80\n",
            "500/500 [==============================] - 11s 23ms/step - loss: 0.2887 - accuracy: 0.8966 - val_loss: 0.6526 - val_accuracy: 0.7944\n",
            "Epoch 70/80\n",
            "500/500 [==============================] - 13s 25ms/step - loss: 0.2847 - accuracy: 0.8987 - val_loss: 0.6565 - val_accuracy: 0.7953\n",
            "Epoch 71/80\n",
            "500/500 [==============================] - 11s 23ms/step - loss: 0.2751 - accuracy: 0.9014 - val_loss: 0.6733 - val_accuracy: 0.7922\n",
            "Epoch 72/80\n",
            "500/500 [==============================] - 11s 23ms/step - loss: 0.2785 - accuracy: 0.9002 - val_loss: 0.6612 - val_accuracy: 0.7946\n",
            "Epoch 73/80\n",
            "500/500 [==============================] - 11s 23ms/step - loss: 0.2795 - accuracy: 0.8999 - val_loss: 0.6603 - val_accuracy: 0.7946\n",
            "Epoch 74/80\n",
            "500/500 [==============================] - 13s 25ms/step - loss: 0.2637 - accuracy: 0.9057 - val_loss: 0.6704 - val_accuracy: 0.7931\n",
            "Epoch 75/80\n",
            "500/500 [==============================] - 11s 23ms/step - loss: 0.2649 - accuracy: 0.9048 - val_loss: 0.6695 - val_accuracy: 0.7942\n",
            "Epoch 76/80\n",
            "500/500 [==============================] - 11s 23ms/step - loss: 0.2620 - accuracy: 0.9068 - val_loss: 0.6668 - val_accuracy: 0.7961\n",
            "Epoch 77/80\n",
            "500/500 [==============================] - 13s 25ms/step - loss: 0.2591 - accuracy: 0.9080 - val_loss: 0.6690 - val_accuracy: 0.7972\n",
            "Epoch 78/80\n",
            "500/500 [==============================] - 11s 23ms/step - loss: 0.2519 - accuracy: 0.9105 - val_loss: 0.6716 - val_accuracy: 0.7975\n",
            "Epoch 79/80\n",
            "500/500 [==============================] - 12s 23ms/step - loss: 0.2520 - accuracy: 0.9104 - val_loss: 0.6759 - val_accuracy: 0.7998\n",
            "Epoch 80/80\n",
            "500/500 [==============================] - 13s 25ms/step - loss: 0.2503 - accuracy: 0.9109 - val_loss: 0.6651 - val_accuracy: 0.7989\n",
            "Model success\n"
          ]
        }
      ],
      "source": [
        "path = os.getcwd() + '/models/h5files/'\n",
        "\n",
        "if not os.path.exists(path):\n",
        "    os.makedirs(path)\n",
        "\n",
        "# Fit neural network models to training data\n",
        "for model_ind, model in enumerate(models):  \n",
        "    history.append(\n",
        "      model.fit_generator(\n",
        "          datagen.flow(x_train, y_train_categorical, batch_size=batch_size),\n",
        "          steps_per_epoch=len(x_train)/batch_size,\n",
        "          epochs=epochs,\n",
        "          verbose=1,\n",
        "          validation_data = (x_test, y_test_categorical)))\n",
        "    \n",
        "    model.save_weights(path + prefix + '_' + model_names[model_ind] + \".h5\")\n",
        "    \n",
        "    print (\"Model success\")"
      ]
    },
    {
      "cell_type": "code",
      "execution_count": 39,
      "id": "96cb20b2",
      "metadata": {
        "colab": {
          "base_uri": "https://localhost:8080/"
        },
        "id": "96cb20b2",
        "outputId": "71f64b29-7fa3-4d5d-bd68-ce6a4ffb261f"
      },
      "outputs": [
        {
          "output_type": "stream",
          "name": "stdout",
          "text": [
            "CNN_Input_1 # of Parameters: 6684810\n",
            "\n",
            "\n",
            "CNN_Input_2 # of Parameters: 1250858\n",
            "\n",
            "\n"
          ]
        }
      ],
      "source": [
        "# Print the number of model parameters\n",
        "for model in models:\n",
        "    print(f'{model_names[models.index(model)]} # of Parameters:', model.count_params())\n",
        "    print('\\n')"
      ]
    },
    {
      "cell_type": "code",
      "execution_count": 40,
      "id": "e22ddd99",
      "metadata": {
        "colab": {
          "base_uri": "https://localhost:8080/"
        },
        "id": "e22ddd99",
        "outputId": "ae7f688e-d9a5-4553-9088-84e203a94a94"
      },
      "outputs": [
        {
          "output_type": "stream",
          "name": "stdout",
          "text": [
            "CNN_Input_1 Absolute Error: 0.18\n",
            "\n",
            "\n",
            "CNN_Input_2 Absolute Error: 0.201\n",
            "\n",
            "\n"
          ]
        }
      ],
      "source": [
        "# Print the absolute error\n",
        "for model in models:\n",
        "    # The absolute error is X, thus the accuracy is 1-X\n",
        "    predicted_x = model.predict(x_test)\n",
        "    residuals = np.argmax(predicted_x, 1)!=np.argmax(y_test_categorical, 1)\n",
        "\n",
        "    loss = sum(residuals)/len(residuals)\n",
        "    print(f'{model_names[models.index(model)]} Absolute Error:', round(loss, 3))\n",
        "    print('\\n')"
      ]
    },
    {
      "cell_type": "code",
      "source": [
        "# Get metrics for models on unseen data\n",
        "for model in models:\n",
        "    score = model.evaluate(x_test, y_test_categorical, verbose=0)\n",
        "    print(f'{model_names[models.index(model)]} Test loss:', round(score[0], 3))\n",
        "    print(f'{model_names[models.index(model)]} Test accuracy:', round(score[1], 3))\n",
        "    print('\\n')"
      ],
      "metadata": {
        "colab": {
          "base_uri": "https://localhost:8080/"
        },
        "id": "FRC-nrRU0Efm",
        "outputId": "eefb499d-4f45-4ac1-cb13-abc16da7fa9b"
      },
      "id": "FRC-nrRU0Efm",
      "execution_count": 41,
      "outputs": [
        {
          "output_type": "stream",
          "name": "stdout",
          "text": [
            "CNN_Input_1 Test loss: 1.081\n",
            "CNN_Input_1 Test accuracy: 0.82\n",
            "\n",
            "\n",
            "CNN_Input_2 Test loss: 0.665\n",
            "CNN_Input_2 Test accuracy: 0.799\n",
            "\n",
            "\n"
          ]
        }
      ]
    },
    {
      "cell_type": "code",
      "execution_count": 42,
      "id": "e008eeff",
      "metadata": {
        "id": "e008eeff"
      },
      "outputs": [],
      "source": [
        "path = os.getcwd() + '/models/viz/'\n",
        "\n",
        "if not os.path.exists(path):\n",
        "    os.makedirs(path)\n",
        "\n",
        "# Visualize the CNN model architectures\n",
        "for i, model in enumerate(models):\n",
        "    plot_model(model, \n",
        "               path + prefix + '_' + model_names[i] + '.png', \n",
        "               show_shapes=True)\n",
        "    \n",
        "    ann_viz(model, \n",
        "            filename=path + prefix + '_' + model_names[i] + '.gv', \n",
        "            title='Visualisation of ' + model_names[i])"
      ]
    },
    {
      "cell_type": "code",
      "source": [
        "# Summarize models\n",
        "for i, model in enumerate(models):\n",
        "    model.summary()\n",
        "    print('\\n'*2)"
      ],
      "metadata": {
        "colab": {
          "base_uri": "https://localhost:8080/"
        },
        "id": "MZNSh3wce8Wi",
        "outputId": "d3f5fdf0-96d6-4317-acdf-41676bed5dd9"
      },
      "id": "MZNSh3wce8Wi",
      "execution_count": 43,
      "outputs": [
        {
          "output_type": "stream",
          "name": "stdout",
          "text": [
            "Model: \"sequential\"\n",
            "_________________________________________________________________\n",
            " Layer (type)                Output Shape              Param #   \n",
            "=================================================================\n",
            " conv2d (Conv2D)             (None, 32, 32, 128)       3584      \n",
            "                                                                 \n",
            " activation (Activation)     (None, 32, 32, 128)       0         \n",
            "                                                                 \n",
            " conv2d_1 (Conv2D)           (None, 30, 30, 128)       147584    \n",
            "                                                                 \n",
            " activation_1 (Activation)   (None, 30, 30, 128)       0         \n",
            "                                                                 \n",
            " max_pooling2d (MaxPooling2D  (None, 15, 15, 128)      0         \n",
            " )                                                               \n",
            "                                                                 \n",
            " dropout (Dropout)           (None, 15, 15, 128)       0         \n",
            "                                                                 \n",
            " conv2d_2 (Conv2D)           (None, 15, 15, 256)       295168    \n",
            "                                                                 \n",
            " activation_2 (Activation)   (None, 15, 15, 256)       0         \n",
            "                                                                 \n",
            " conv2d_3 (Conv2D)           (None, 13, 13, 256)       590080    \n",
            "                                                                 \n",
            " activation_3 (Activation)   (None, 13, 13, 256)       0         \n",
            "                                                                 \n",
            " max_pooling2d_1 (MaxPooling  (None, 6, 6, 256)        0         \n",
            " 2D)                                                             \n",
            "                                                                 \n",
            " dropout_1 (Dropout)         (None, 6, 6, 256)         0         \n",
            "                                                                 \n",
            " conv2d_4 (Conv2D)           (None, 6, 6, 512)         1180160   \n",
            "                                                                 \n",
            " activation_4 (Activation)   (None, 6, 6, 512)         0         \n",
            "                                                                 \n",
            " conv2d_5 (Conv2D)           (None, 4, 4, 512)         2359808   \n",
            "                                                                 \n",
            " activation_5 (Activation)   (None, 4, 4, 512)         0         \n",
            "                                                                 \n",
            " max_pooling2d_2 (MaxPooling  (None, 2, 2, 512)        0         \n",
            " 2D)                                                             \n",
            "                                                                 \n",
            " dropout_2 (Dropout)         (None, 2, 2, 512)         0         \n",
            "                                                                 \n",
            " flatten (Flatten)           (None, 2048)              0         \n",
            "                                                                 \n",
            " dense (Dense)               (None, 1024)              2098176   \n",
            "                                                                 \n",
            " activation_6 (Activation)   (None, 1024)              0         \n",
            "                                                                 \n",
            " dropout_3 (Dropout)         (None, 1024)              0         \n",
            "                                                                 \n",
            " dense_1 (Dense)             (None, 10)                10250     \n",
            "                                                                 \n",
            " activation_7 (Activation)   (None, 10)                0         \n",
            "                                                                 \n",
            "=================================================================\n",
            "Total params: 6,684,810\n",
            "Trainable params: 6,684,810\n",
            "Non-trainable params: 0\n",
            "_________________________________________________________________\n",
            "\n",
            "\n",
            "\n",
            "Model: \"sequential_4\"\n",
            "_________________________________________________________________\n",
            " Layer (type)                Output Shape              Param #   \n",
            "=================================================================\n",
            " conv2d_14 (Conv2D)          (None, 32, 32, 32)        896       \n",
            "                                                                 \n",
            " activation_15 (Activation)  (None, 32, 32, 32)        0         \n",
            "                                                                 \n",
            " conv2d_15 (Conv2D)          (None, 30, 30, 32)        9248      \n",
            "                                                                 \n",
            " activation_16 (Activation)  (None, 30, 30, 32)        0         \n",
            "                                                                 \n",
            " max_pooling2d_6 (MaxPooling  (None, 15, 15, 32)       0         \n",
            " 2D)                                                             \n",
            "                                                                 \n",
            " dropout_7 (Dropout)         (None, 15, 15, 32)        0         \n",
            "                                                                 \n",
            " conv2d_16 (Conv2D)          (None, 15, 15, 64)        18496     \n",
            "                                                                 \n",
            " activation_17 (Activation)  (None, 15, 15, 64)        0         \n",
            "                                                                 \n",
            " conv2d_17 (Conv2D)          (None, 13, 13, 64)        36928     \n",
            "                                                                 \n",
            " activation_18 (Activation)  (None, 13, 13, 64)        0         \n",
            "                                                                 \n",
            " max_pooling2d_7 (MaxPooling  (None, 6, 6, 64)         0         \n",
            " 2D)                                                             \n",
            "                                                                 \n",
            " dropout_8 (Dropout)         (None, 6, 6, 64)          0         \n",
            "                                                                 \n",
            " flatten_1 (Flatten)         (None, 2304)              0         \n",
            "                                                                 \n",
            " dense_2 (Dense)             (None, 512)               1180160   \n",
            "                                                                 \n",
            " activation_19 (Activation)  (None, 512)               0         \n",
            "                                                                 \n",
            " dropout_9 (Dropout)         (None, 512)               0         \n",
            "                                                                 \n",
            " dense_3 (Dense)             (None, 10)                5130      \n",
            "                                                                 \n",
            " activation_20 (Activation)  (None, 10)                0         \n",
            "                                                                 \n",
            "=================================================================\n",
            "Total params: 1,250,858\n",
            "Trainable params: 1,250,858\n",
            "Non-trainable params: 0\n",
            "_________________________________________________________________\n",
            "\n",
            "\n",
            "\n"
          ]
        }
      ]
    },
    {
      "cell_type": "markdown",
      "source": [
        "### 3.1. VGG-16 Intermediate Dataset"
      ],
      "metadata": {
        "id": "ZQKb53OFI0-7"
      },
      "id": "ZQKb53OFI0-7"
    },
    {
      "cell_type": "code",
      "source": [
        "# Upload h5 files with VGG-16's weights and unzip\n",
        "!unzip model_weights_cifarvgg.zip"
      ],
      "metadata": {
        "colab": {
          "base_uri": "https://localhost:8080/"
        },
        "id": "cfdzTjvN_VI9",
        "outputId": "5a018d73-4d12-4198-d3f6-dc8fbad9f4c1"
      },
      "id": "cfdzTjvN_VI9",
      "execution_count": null,
      "outputs": [
        {
          "output_type": "stream",
          "name": "stdout",
          "text": [
            "Archive:  model_weights_cifarvgg.zip\n",
            "  inflating: model_weights_cifarvgg/cifar100vgg.h5  \n",
            "  inflating: model_weights_cifarvgg/cifar10vgg.h5  \n"
          ]
        }
      ]
    },
    {
      "cell_type": "code",
      "source": [
        "# Remove zip file with the weights\n",
        "!rm model_weights_cifarvgg.zip"
      ],
      "metadata": {
        "id": "T_trPuB_7Xnc"
      },
      "id": "T_trPuB_7Xnc",
      "execution_count": null,
      "outputs": []
    },
    {
      "cell_type": "code",
      "source": [
        "# The weights for VGG-16 trained on CIFAR are available online\n",
        "# Therefore, this model does not need to be retrained\n",
        "# The pretrained weights can be found on https://github.com/geifmany/cifar-vgg\n",
        "vgg_16 = cifar10vgg(train=False)"
      ],
      "metadata": {
        "id": "E1zxGroBABOL"
      },
      "id": "E1zxGroBABOL",
      "execution_count": null,
      "outputs": []
    },
    {
      "cell_type": "code",
      "source": [
        "print('VGG-16 # of Parameters:', vgg_16.model.count_params())"
      ],
      "metadata": {
        "colab": {
          "base_uri": "https://localhost:8080/"
        },
        "id": "WDXXqhjTJCFX",
        "outputId": "9d4d8d41-3adf-46b0-ebf9-ecbc548e0422"
      },
      "id": "WDXXqhjTJCFX",
      "execution_count": null,
      "outputs": [
        {
          "output_type": "stream",
          "name": "stdout",
          "text": [
            "VGG-16 # of Parameters: 15001418\n"
          ]
        }
      ]
    },
    {
      "cell_type": "code",
      "source": [
        "# The absolute error is X, thus the accuracy is 1-X\n",
        "predicted_x = vgg_16.predict(x_test, normalize=False)\n",
        "residuals = np.argmax(predicted_x, 1)!=np.argmax(y_test_categorical, 1)\n",
        "\n",
        "loss = sum(residuals)/len(residuals)\n",
        "print('VGG-16 Absolute Error:', round(loss, 3))\n",
        "# An absolute error of 0.064 represents an accuracy of 0.936"
      ],
      "metadata": {
        "colab": {
          "base_uri": "https://localhost:8080/"
        },
        "id": "EYGycnGFJB-t",
        "outputId": "ad891cff-ea3a-4a7d-b0e4-27468bad6581"
      },
      "id": "EYGycnGFJB-t",
      "execution_count": null,
      "outputs": [
        {
          "output_type": "stream",
          "name": "stdout",
          "text": [
            "VGG-16 Validation 0/1 loss: 0.064\n"
          ]
        }
      ]
    },
    {
      "cell_type": "code",
      "source": [
        "# Add VGG-16 to model list\n",
        "models.append(keras.models.clone_model(vgg_16.model))\n",
        "model_names.append('VGG_16')\n",
        "models[model_names.index('VGG_16')].set_weights(vgg_16.model.get_weights())"
      ],
      "metadata": {
        "id": "uCqeAfRNAsnR"
      },
      "id": "uCqeAfRNAsnR",
      "execution_count": null,
      "outputs": []
    },
    {
      "cell_type": "code",
      "source": [
        "# # Visualize VGG-16 model architectures\n",
        "# ann_viz(vgg_16.model, \n",
        "#         filename=path + prefix + '_VGG_16.gv',\n",
        "#         title='Visualization of VGG-16')"
      ],
      "metadata": {
        "id": "dH3QNUPlDabi"
      },
      "id": "dH3QNUPlDabi",
      "execution_count": null,
      "outputs": []
    },
    {
      "cell_type": "code",
      "source": [
        "# Summarize VGG-16 model\n",
        "vgg_16.model.summary()"
      ],
      "metadata": {
        "colab": {
          "base_uri": "https://localhost:8080/"
        },
        "id": "NInf8Bx-d6EU",
        "outputId": "27b964cc-3ad3-477b-c5ba-f4a0e2234e12"
      },
      "id": "NInf8Bx-d6EU",
      "execution_count": null,
      "outputs": [
        {
          "output_type": "stream",
          "name": "stdout",
          "text": [
            "Model: \"sequential_1\"\n",
            "_________________________________________________________________\n",
            " Layer (type)                Output Shape              Param #   \n",
            "=================================================================\n",
            " conv2d_6 (Conv2D)           (None, 32, 32, 64)        1792      \n",
            "                                                                 \n",
            " activation_8 (Activation)   (None, 32, 32, 64)        0         \n",
            "                                                                 \n",
            " batch_normalization (BatchN  (None, 32, 32, 64)       256       \n",
            " ormalization)                                                   \n",
            "                                                                 \n",
            " dropout_4 (Dropout)         (None, 32, 32, 64)        0         \n",
            "                                                                 \n",
            " conv2d_7 (Conv2D)           (None, 32, 32, 64)        36928     \n",
            "                                                                 \n",
            " activation_9 (Activation)   (None, 32, 32, 64)        0         \n",
            "                                                                 \n",
            " batch_normalization_1 (Batc  (None, 32, 32, 64)       256       \n",
            " hNormalization)                                                 \n",
            "                                                                 \n",
            " max_pooling2d_3 (MaxPooling  (None, 16, 16, 64)       0         \n",
            " 2D)                                                             \n",
            "                                                                 \n",
            " conv2d_8 (Conv2D)           (None, 16, 16, 128)       73856     \n",
            "                                                                 \n",
            " activation_10 (Activation)  (None, 16, 16, 128)       0         \n",
            "                                                                 \n",
            " batch_normalization_2 (Batc  (None, 16, 16, 128)      512       \n",
            " hNormalization)                                                 \n",
            "                                                                 \n",
            " dropout_5 (Dropout)         (None, 16, 16, 128)       0         \n",
            "                                                                 \n",
            " conv2d_9 (Conv2D)           (None, 16, 16, 128)       147584    \n",
            "                                                                 \n",
            " activation_11 (Activation)  (None, 16, 16, 128)       0         \n",
            "                                                                 \n",
            " batch_normalization_3 (Batc  (None, 16, 16, 128)      512       \n",
            " hNormalization)                                                 \n",
            "                                                                 \n",
            " max_pooling2d_4 (MaxPooling  (None, 8, 8, 128)        0         \n",
            " 2D)                                                             \n",
            "                                                                 \n",
            " conv2d_10 (Conv2D)          (None, 8, 8, 256)         295168    \n",
            "                                                                 \n",
            " activation_12 (Activation)  (None, 8, 8, 256)         0         \n",
            "                                                                 \n",
            " batch_normalization_4 (Batc  (None, 8, 8, 256)        1024      \n",
            " hNormalization)                                                 \n",
            "                                                                 \n",
            " dropout_6 (Dropout)         (None, 8, 8, 256)         0         \n",
            "                                                                 \n",
            " conv2d_11 (Conv2D)          (None, 8, 8, 256)         590080    \n",
            "                                                                 \n",
            " activation_13 (Activation)  (None, 8, 8, 256)         0         \n",
            "                                                                 \n",
            " batch_normalization_5 (Batc  (None, 8, 8, 256)        1024      \n",
            " hNormalization)                                                 \n",
            "                                                                 \n",
            " dropout_7 (Dropout)         (None, 8, 8, 256)         0         \n",
            "                                                                 \n",
            " conv2d_12 (Conv2D)          (None, 8, 8, 256)         590080    \n",
            "                                                                 \n",
            " activation_14 (Activation)  (None, 8, 8, 256)         0         \n",
            "                                                                 \n",
            " batch_normalization_6 (Batc  (None, 8, 8, 256)        1024      \n",
            " hNormalization)                                                 \n",
            "                                                                 \n",
            " max_pooling2d_5 (MaxPooling  (None, 4, 4, 256)        0         \n",
            " 2D)                                                             \n",
            "                                                                 \n",
            " conv2d_13 (Conv2D)          (None, 4, 4, 512)         1180160   \n",
            "                                                                 \n",
            " activation_15 (Activation)  (None, 4, 4, 512)         0         \n",
            "                                                                 \n",
            " batch_normalization_7 (Batc  (None, 4, 4, 512)        2048      \n",
            " hNormalization)                                                 \n",
            "                                                                 \n",
            " dropout_8 (Dropout)         (None, 4, 4, 512)         0         \n",
            "                                                                 \n",
            " conv2d_14 (Conv2D)          (None, 4, 4, 512)         2359808   \n",
            "                                                                 \n",
            " activation_16 (Activation)  (None, 4, 4, 512)         0         \n",
            "                                                                 \n",
            " batch_normalization_8 (Batc  (None, 4, 4, 512)        2048      \n",
            " hNormalization)                                                 \n",
            "                                                                 \n",
            " dropout_9 (Dropout)         (None, 4, 4, 512)         0         \n",
            "                                                                 \n",
            " conv2d_15 (Conv2D)          (None, 4, 4, 512)         2359808   \n",
            "                                                                 \n",
            " activation_17 (Activation)  (None, 4, 4, 512)         0         \n",
            "                                                                 \n",
            " batch_normalization_9 (Batc  (None, 4, 4, 512)        2048      \n",
            " hNormalization)                                                 \n",
            "                                                                 \n",
            " max_pooling2d_6 (MaxPooling  (None, 2, 2, 512)        0         \n",
            " 2D)                                                             \n",
            "                                                                 \n",
            " conv2d_16 (Conv2D)          (None, 2, 2, 512)         2359808   \n",
            "                                                                 \n",
            " activation_18 (Activation)  (None, 2, 2, 512)         0         \n",
            "                                                                 \n",
            " batch_normalization_10 (Bat  (None, 2, 2, 512)        2048      \n",
            " chNormalization)                                                \n",
            "                                                                 \n",
            " dropout_10 (Dropout)        (None, 2, 2, 512)         0         \n",
            "                                                                 \n",
            " conv2d_17 (Conv2D)          (None, 2, 2, 512)         2359808   \n",
            "                                                                 \n",
            " activation_19 (Activation)  (None, 2, 2, 512)         0         \n",
            "                                                                 \n",
            " batch_normalization_11 (Bat  (None, 2, 2, 512)        2048      \n",
            " chNormalization)                                                \n",
            "                                                                 \n",
            " dropout_11 (Dropout)        (None, 2, 2, 512)         0         \n",
            "                                                                 \n",
            " conv2d_18 (Conv2D)          (None, 2, 2, 512)         2359808   \n",
            "                                                                 \n",
            " activation_20 (Activation)  (None, 2, 2, 512)         0         \n",
            "                                                                 \n",
            " batch_normalization_12 (Bat  (None, 2, 2, 512)        2048      \n",
            " chNormalization)                                                \n",
            "                                                                 \n",
            " max_pooling2d_7 (MaxPooling  (None, 1, 1, 512)        0         \n",
            " 2D)                                                             \n",
            "                                                                 \n",
            " dropout_12 (Dropout)        (None, 1, 1, 512)         0         \n",
            "                                                                 \n",
            " flatten_1 (Flatten)         (None, 512)               0         \n",
            "                                                                 \n",
            " dense_2 (Dense)             (None, 512)               262656    \n",
            "                                                                 \n",
            " activation_21 (Activation)  (None, 512)               0         \n",
            "                                                                 \n",
            " batch_normalization_13 (Bat  (None, 512)              2048      \n",
            " chNormalization)                                                \n",
            "                                                                 \n",
            " dropout_13 (Dropout)        (None, 512)               0         \n",
            "                                                                 \n",
            " dense_3 (Dense)             (None, 10)                5130      \n",
            "                                                                 \n",
            " activation_22 (Activation)  (None, 10)                0         \n",
            "                                                                 \n",
            "=================================================================\n",
            "Total params: 15,001,418\n",
            "Trainable params: 14,991,946\n",
            "Non-trainable params: 9,472\n",
            "_________________________________________________________________\n"
          ]
        }
      ]
    },
    {
      "cell_type": "markdown",
      "source": [
        "## 4. Remove the Fully-connected layers"
      ],
      "metadata": {
        "id": "PqA28l6ZUW1W"
      },
      "id": "PqA28l6ZUW1W"
    },
    {
      "cell_type": "code",
      "execution_count": 44,
      "id": "421f9786",
      "metadata": {
        "id": "421f9786"
      },
      "outputs": [],
      "source": [
        "# Cut the models to remove everything after the flattening layer (remove fully-connected layers)\n",
        "# output_models = []\n",
        "for model in models:\n",
        "    cut_model(model)\n",
        "    # output_models.append(out)"
      ]
    },
    {
      "cell_type": "code",
      "execution_count": 45,
      "id": "47fe2a1e",
      "metadata": {
        "id": "47fe2a1e"
      },
      "outputs": [],
      "source": [
        "# Create output files\n",
        "now = datetime.datetime.now()\n",
        "prefix = now.strftime(\"%Y%m%d_%H%M\")\n",
        "create_output_files(x_train, \n",
        "                    x_test, \n",
        "                    y_train, \n",
        "                    y_test, \n",
        "                    prefix, \n",
        "                    suffix = \"_\" + treat_data)"
      ]
    },
    {
      "cell_type": "code",
      "execution_count": 46,
      "id": "80855dfe",
      "metadata": {
        "colab": {
          "base_uri": "https://localhost:8080/",
          "height": 590
        },
        "id": "80855dfe",
        "outputId": "26d0e2e0-b1a9-4d6a-da18-9331162a6a53"
      },
      "outputs": [
        {
          "output_type": "stream",
          "name": "stdout",
          "text": [
            "Model: CNN_Input_1\n"
          ]
        },
        {
          "output_type": "display_data",
          "data": {
            "image/png": "[encoded data removed]",
            "text/plain": [
              "<Figure size 432x288 with 1 Axes>"
            ]
          },
          "metadata": {
            "needs_background": "light"
          }
        },
        {
          "output_type": "display_data",
          "data": {
            "image/png": "[encoded data removed]",
            "text/plain": [
              "<Figure size 432x288 with 1 Axes>"
            ]
          },
          "metadata": {
            "needs_background": "light"
          }
        }
      ],
      "source": [
        "# Plot history of model training\n",
        "index = 0\n",
        "print(f'Model: {model_names[index]}')\n",
        "\n",
        "plot_model_stats(history[index])"
      ]
    },
    {
      "cell_type": "code",
      "source": [
        "index = 1\n",
        "print(f'Model: {model_names[index]}')\n",
        "\n",
        "plot_model_stats(history[index])"
      ],
      "metadata": {
        "id": "yB4wq739QJOR",
        "colab": {
          "base_uri": "https://localhost:8080/",
          "height": 590
        },
        "outputId": "43cf6165-dba5-4e1d-db13-f0526bec3ae9"
      },
      "id": "yB4wq739QJOR",
      "execution_count": 47,
      "outputs": [
        {
          "output_type": "stream",
          "name": "stdout",
          "text": [
            "Model: CNN_Input_2\n"
          ]
        },
        {
          "output_type": "display_data",
          "data": {
            "image/png": "[encoded data removed]",
            "text/plain": [
              "<Figure size 432x288 with 1 Axes>"
            ]
          },
          "metadata": {
            "needs_background": "light"
          }
        },
        {
          "output_type": "display_data",
          "data": {
            "image/png": "[encoded data removed]",
            "text/plain": [
              "<Figure size 432x288 with 1 Axes>"
            ]
          },
          "metadata": {
            "needs_background": "light"
          }
        }
      ]
    },
    {
      "cell_type": "code",
      "execution_count": 48,
      "id": "c3880feb",
      "metadata": {
        "id": "c3880feb",
        "colab": {
          "base_uri": "https://localhost:8080/"
        },
        "outputId": "c934bc4a-c4ab-4eb2-dc15-1b278393aa5d"
      },
      "outputs": [
        {
          "output_type": "stream",
          "name": "stdout",
          "text": [
            "  adding: content/ (stored 0%)\n",
            "  adding: content/.config/ (stored 0%)\n",
            "  adding: content/.config/.last_opt_in_prompt.yaml (stored 0%)\n",
            "  adding: content/.config/.last_update_check.json (deflated 24%)\n",
            "  adding: content/.config/.metricsUUID (stored 0%)\n",
            "  adding: content/.config/active_config (stored 0%)\n",
            "  adding: content/.config/configurations/ (stored 0%)\n",
            "  adding: content/.config/configurations/config_default (deflated 15%)\n",
            "  adding: content/.config/logs/ (stored 0%)\n",
            "  adding: content/.config/logs/2022.02.18/ (stored 0%)\n",
            "  adding: content/.config/logs/2022.02.18/14.33.21.113721.log (deflated 54%)\n",
            "  adding: content/.config/logs/2022.02.18/14.33.12.888636.log (deflated 86%)\n",
            "  adding: content/.config/logs/2022.02.18/14.32.54.268036.log (deflated 53%)\n",
            "  adding: content/.config/logs/2022.02.18/14.32.33.591601.log (deflated 90%)\n",
            "  adding: content/.config/logs/2022.02.18/14.33.40.493787.log (deflated 54%)\n",
            "  adding: content/.config/logs/2022.02.18/14.33.41.267515.log (deflated 53%)\n",
            "  adding: content/.config/config_sentinel (stored 0%)\n",
            "  adding: content/.config/.last_survey_prompt.yaml (stored 0%)\n",
            "  adding: content/.config/gce (stored 0%)\n",
            "  adding: content/.config/.feature_flags_config.yaml (deflated 23%)\n",
            "  adding: content/sample_images/ (stored 0%)\n",
            "  adding: content/sample_images/20220224_1654/ (stored 0%)\n",
            "  adding: content/sample_images/20220224_1654/cifar10_1_sample_image_normalized.png (deflated 40%)\n",
            "  adding: content/sample_images/20220224_1654/cifar10_4_sample_image_raw.png (deflated 20%)\n",
            "  adding: content/sample_images/20220224_1654/cifar10_6_sample_image_raw.png (deflated 19%)\n",
            "  adding: content/sample_images/20220224_1654/cifar10_5_sample_image_raw.png (deflated 19%)\n",
            "  adding: content/sample_images/20220224_1654/cifar10_8_sample_image_normalized.png (deflated 40%)\n",
            "  adding: content/sample_images/20220224_1654/cifar10_1_sample_image_raw.png (deflated 20%)\n",
            "  adding: content/sample_images/20220224_1654/cifar10_7_sample_image_raw.png (deflated 19%)\n",
            "  adding: content/sample_images/20220224_1654/cifar10_9_sample_image_normalized.png (deflated 36%)\n",
            "  adding: content/sample_images/20220224_1654/cifar10_9_sample_image_raw.png (deflated 19%)\n",
            "  adding: content/sample_images/20220224_1654/cifar10_3_sample_image_raw.png (deflated 22%)\n",
            "  adding: content/sample_images/20220224_1654/cifar10_7_sample_image_normalized.png (deflated 37%)\n",
            "  adding: content/sample_images/20220224_1654/cifar10_5_sample_image_normalized.png (deflated 37%)\n",
            "  adding: content/sample_images/20220224_1654/cifar10_2_sample_image_raw.png (deflated 20%)\n",
            "  adding: content/sample_images/20220224_1654/cifar10_8_sample_image_raw.png (deflated 21%)\n",
            "  adding: content/sample_images/20220224_1654/cifar10_0_sample_image_raw.png (deflated 19%)\n",
            "  adding: content/sample_images/20220224_1654/cifar10_0_sample_image_normalized.png (deflated 43%)\n",
            "  adding: content/sample_images/20220224_1654/cifar10_2_sample_image_normalized.png (deflated 37%)\n",
            "  adding: content/sample_images/20220224_1654/cifar10_6_sample_image_normalized.png (deflated 37%)\n",
            "  adding: content/sample_images/20220224_1654/cifar10_3_sample_image_normalized.png (deflated 42%)\n",
            "  adding: content/sample_images/20220224_1654/cifar10_4_sample_image_normalized.png (deflated 37%)\n",
            "  adding: content/data/ (stored 0%)\n",
            "  adding: content/data/cifar10_filtered/ (stored 0%)\n",
            "  adding: content/data/cifar10_filtered/intermediate/ (stored 0%)\n",
            "  adding: content/data/cifar10_filtered/intermediate/20220224_1845/ (stored 0%)\n",
            "  adding: content/data/cifar10_filtered/intermediate/20220224_1845/CNN_Input_2/ (stored 0%)\n",
            "  adding: content/data/cifar10_filtered/intermediate/20220224_1845/CNN_Input_2/train_normalize.npy (deflated 50%)\n",
            "  adding: content/data/cifar10_filtered/intermediate/20220224_1845/CNN_Input_2/test_normalize.npy (deflated 50%)\n",
            "  adding: content/data/cifar10_filtered/intermediate/20220224_1845/CNN_Input_1/ (stored 0%)\n",
            "  adding: content/data/cifar10_filtered/intermediate/20220224_1845/CNN_Input_1/train_normalize.npy (deflated 51%)\n",
            "  adding: content/data/cifar10_filtered/intermediate/20220224_1845/CNN_Input_1/test_normalize.npy (deflated 51%)\n",
            "  adding: content/models/ (stored 0%)\n",
            "  adding: content/models/h5files/ (stored 0%)\n",
            "  adding: content/models/h5files/20220224_1654_CNN_Input_2.h5 (deflated 8%)\n",
            "  adding: content/models/h5files/20220224_1654_CNN_Input_1.h5 (deflated 7%)\n",
            "  adding: content/models/viz/ (stored 0%)\n",
            "  adding: content/models/viz/20220224_1654_CNN_Input_1.gv (deflated 83%)\n",
            "  adding: content/models/viz/20220224_1654_CNN_Input_2.gv (deflated 81%)\n",
            "  adding: content/models/viz/20220224_1654_CNN_Input_2.png (deflated 17%)\n",
            "  adding: content/models/viz/20220224_1654_CNN_Input_1.gv.pdf (deflated 6%)\n",
            "  adding: content/models/viz/20220224_1654_CNN_Input_1.png (deflated 14%)\n",
            "  adding: content/models/viz/20220224_1654_CNN_Input_2.gv.pdf (deflated 6%)\n",
            "  adding: content/sample_data/ (stored 0%)\n",
            "  adding: content/sample_data/anscombe.json (deflated 83%)\n",
            "  adding: content/sample_data/README.md (deflated 42%)\n",
            "  adding: content/sample_data/california_housing_train.csv (deflated 79%)\n",
            "  adding: content/sample_data/mnist_test.csv (deflated 88%)\n",
            "  adding: content/sample_data/mnist_train_small.csv (deflated 88%)\n",
            "  adding: content/sample_data/california_housing_test.csv (deflated 76%)\n"
          ]
        }
      ],
      "source": [
        "!zip -r /content/file.zip /content"
      ]
    },
    {
      "cell_type": "code",
      "execution_count": null,
      "id": "f727f112",
      "metadata": {
        "id": "f727f112"
      },
      "outputs": [],
      "source": [
        "# After this is finished: delete this notebook from GitHub -> 1_a_gp_approach_for_cv.ipynb"
      ]
    }
  ],
  "metadata": {
    "kernelspec": {
      "display_name": "Python 3 (ipykernel)",
      "language": "python",
      "name": "python3"
    },
    "language_info": {
      "codemirror_mode": {
        "name": "ipython",
        "version": 3
      },
      "file_extension": ".py",
      "mimetype": "text/x-python",
      "name": "python",
      "nbconvert_exporter": "python",
      "pygments_lexer": "ipython3",
      "version": "3.8.12"
    },
    "colab": {
      "name": "1_cnn_cifar_data.ipynb",
      "provenance": [],
      "collapsed_sections": []
    },
    "accelerator": "GPU"
  },
  "nbformat": 4,
  "nbformat_minor": 5
}