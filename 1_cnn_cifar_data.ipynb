{
  "cells": [
    {
      "cell_type": "markdown",
      "id": "e8aebb21",
      "metadata": {
        "id": "e8aebb21"
      },
      "source": [
        "# Stage 1: Create intermediate datasets (CIFAR-10 and CIFAR-100)\n",
        "\n",
        "**Rui Filipe Martins Monteiro (R20170796) | MSc in Data Science and Advanced Analytics**\n",
        "\n",
        "<br>\n",
        "\n",
        "This notebook creates the intermediate datasets for CIFAR-10 and CIFAR-100. This means training a CNN on a dataset, removing the fully-connected layers and producing the (flattened) output from the last convolutional layers. This output is then referred to as the intermediate dataset and saved for future reuse.\n",
        "\n",
        "The intermediate datasets from this notebook are created imported images. In this case, either CIFAR-10 or CIFAR-100 is used.\n",
        "\n",
        "<br>\n",
        "\n",
        "This code is heavily inspired by: Jonathan Janke (https://github.com/novajon/classy-conv-features)\n",
        "\n",
        "Code changed and improved by: Rui Monteiro"
      ]
    },
    {
      "cell_type": "code",
      "source": [
        "!pip install ann_visualizer"
      ],
      "metadata": {
        "colab": {
          "base_uri": "https://localhost:8080/"
        },
        "id": "Li26TqDfAzKQ",
        "outputId": "e79a42c9-1cde-4e1e-d5c8-792cca332189"
      },
      "id": "Li26TqDfAzKQ",
      "execution_count": 1,
      "outputs": [
        {
          "output_type": "stream",
          "name": "stdout",
          "text": [
            "Looking in indexes: https://pypi.org/simple, https://us-python.pkg.dev/colab-wheels/public/simple/\n",
            "Collecting ann_visualizer\n",
            "  Downloading ann_visualizer-2.5.tar.gz (4.7 kB)\n",
            "Building wheels for collected packages: ann-visualizer\n",
            "  Building wheel for ann-visualizer (setup.py) ... \u001b[?25l\u001b[?25hdone\n",
            "  Created wheel for ann-visualizer: filename=ann_visualizer-2.5-py3-none-any.whl size=4168 sha256=4816e7f6b202a85ba4a15adc3fd5e645f3b6c1a3955932757cebb1b3df7f3373\n",
            "  Stored in directory: /root/.cache/pip/wheels/1b/fc/58/2ab1c3b30350105929308becddda4fb59b1358e54f985e1f4a\n",
            "Successfully built ann-visualizer\n",
            "Installing collected packages: ann-visualizer\n",
            "Successfully installed ann-visualizer-2.5\n"
          ]
        }
      ]
    },
    {
      "cell_type": "code",
      "execution_count": 2,
      "id": "981b77ae",
      "metadata": {
        "id": "981b77ae"
      },
      "outputs": [],
      "source": [
        "# Imports\n",
        "from __future__ import print_function\n",
        "\n",
        "import json\n",
        "import pandas as pd\n",
        "import numpy as np\n",
        "\n",
        "import os\n",
        "import datetime\n",
        "from tensorflow.keras.preprocessing.image import load_img\n",
        "from tensorflow.keras.preprocessing.image import img_to_array\n",
        "from tensorflow.keras.applications.imagenet_utils import decode_predictions\n",
        "import matplotlib.pyplot as plt\n",
        "from PIL import Image\n",
        "\n",
        "from sklearn.model_selection import train_test_split\n",
        "from tensorflow.keras.utils import to_categorical\n",
        "\n",
        "import tensorflow as tf\n",
        "import tensorflow.keras as keras\n",
        "from tensorflow.keras.models import Sequential\n",
        "from tensorflow.keras.layers import Dense, Dropout, Flatten, Activation, InputLayer, Conv2D, MaxPooling2D\n",
        "from tensorflow.keras.layers import BatchNormalization\n",
        "from keras.layers.advanced_activations import LeakyReLU\n",
        "from tensorflow.keras.initializers import glorot_normal, RandomNormal, Zeros\n",
        "\n",
        "from keras.datasets import cifar10\n",
        "from keras.preprocessing.image import ImageDataGenerator\n",
        "\n",
        "from keras.layers import Conv2D, MaxPooling2D, BatchNormalization\n",
        "from keras import optimizers\n",
        "from keras.layers.core import Lambda\n",
        "from keras import backend as K\n",
        "from keras import regularizers\n",
        "\n",
        "import math\n",
        "from tensorflow.keras.datasets import cifar10, cifar100\n",
        "from scipy.cluster.vq import whiten\n",
        "\n",
        "import glob\n",
        "\n",
        "from tensorflow.keras.applications import InceptionV3, Xception, InceptionResNetV2\n",
        "from tensorflow.keras import Model\n",
        "\n",
        "from ann_visualizer.visualize import ann_viz\n",
        "\n",
        "from keras.utils.vis_utils import plot_model\n",
        "\n",
        "import warnings\n",
        "warnings.filterwarnings(\"ignore\")"
      ]
    },
    {
      "cell_type": "code",
      "execution_count": 3,
      "id": "f4347e68",
      "metadata": {
        "id": "f4347e68"
      },
      "outputs": [],
      "source": [
        "def show_image_classes(images, classes, prefix, suffix=\"\"):\n",
        "    \"\"\"Save input images in folder structure and output them\n",
        "\n",
        "    Parameters\n",
        "    ----------\n",
        "    images : array, e.g. numpy array\n",
        "        images to show\n",
        "\n",
        "    classes : list\n",
        "        [not used]\n",
        "\n",
        "    prefix : string\n",
        "        prefix to add to output name\n",
        "\n",
        "    suffix : string\n",
        "        suffix to add to output name\n",
        "    \"\"\"\n",
        "    for cl in np.unique(y_train):\n",
        "        for ind, el in enumerate(y_train):\n",
        "            if el == cl:\n",
        "                class_pos = ind\n",
        "                break\n",
        "        plt.figure()\n",
        "        plt.imshow(np.uint8(x_train[class_pos]))\n",
        "        plt.axis('off')\n",
        "        path = \"sample_images/\" + prefix + \"/\"\n",
        "        if not os.path.exists(path):\n",
        "            os.makedirs(path)\n",
        "        plt.savefig(path + input_path.split(\"/\")[1].split(\"_\")[0] + \"_\" + str(cl) + \"_sample_image_\" + suffix)"
      ]
    },
    {
      "cell_type": "code",
      "execution_count": 4,
      "id": "e832b301",
      "metadata": {
        "id": "e832b301"
      },
      "outputs": [],
      "source": [
        "def normalize_production(x, cifar_version):\n",
        "    \"\"\"This function is used to normalize instances in production according to saved training set statistics\n",
        "    (from https://github.com/geifmany/cifar-vgg)\n",
        "\n",
        "    Parameters\n",
        "    ----------\n",
        "    X_train : array, e.g., numpy array\n",
        "        training data set\n",
        "\n",
        "    X_test : array, e.g., numpy array\n",
        "        test data set\n",
        "    \n",
        "    cifar_version : string\n",
        "        the version of CIFAR that's being used - either 'cifar10' or 'cifar100'\n",
        "\n",
        "    Returns: normalized training set and test set according to preset constants.\n",
        "    \"\"\"\n",
        "    # These values are produced during first training and are general for the standard CIFAR training set normalization\n",
        "    if cifar_version == 'cifar10':\n",
        "        mean = 120.707\n",
        "        std = 64.15\n",
        "        return (x-mean)/(std+1e-7)\n",
        "\n",
        "    if cifar_version == 'cifar100':\n",
        "        mean = 121.936\n",
        "        std = 68.389\n",
        "        return (x-mean)/(std+1e-7)"
      ]
    },
    {
      "cell_type": "code",
      "execution_count": 5,
      "id": "8f86fdf4",
      "metadata": {
        "id": "8f86fdf4"
      },
      "outputs": [],
      "source": [
        "def normalize_data(x_train, x_test, cifar_version):\n",
        "    \"\"\"Format the input data by normalizing it\n",
        "\n",
        "    Parameters\n",
        "    ----------\n",
        "    x_train : array, e.g., numpy array\n",
        "        training data to transform\n",
        "        \n",
        "    x_test : array, e.g., numpy array\n",
        "        test data to transform\n",
        "        \n",
        "    cifar_version : string\n",
        "        the version of CIFAR that's being used - either 'cifar10' or 'cifar100'\n",
        "    \"\"\"\n",
        "    x_train = x_train.astype('float32')\n",
        "    x_test = x_test.astype('float32')\n",
        "    x_train = normalize_production(x_train, cifar_version)\n",
        "    x_test = normalize_production(x_test, cifar_version)\n",
        "    \n",
        "    return x_train, x_test"
      ]
    },
    {
      "cell_type": "code",
      "execution_count": 6,
      "id": "2e3471a2",
      "metadata": {
        "id": "2e3471a2"
      },
      "outputs": [],
      "source": [
        "def create_CNN_1(input_shape):\n",
        "    \"\"\"Create CNN with predefined structure.\n",
        "    This was manually designed by: Jonathan Janke (from https://github.com/novajon/classy-conv-features)\n",
        "\n",
        "    Parameters\n",
        "    ----------\n",
        "    input_shape : tuple\n",
        "        shape of the input data\n",
        "    \"\"\"\n",
        "    model = Sequential()\n",
        "\n",
        "    model.add(Conv2D(128, (3, 3), padding='same',\n",
        "            input_shape=x_train.shape[1:]))\n",
        "    model.add(Activation('elu'))\n",
        "\n",
        "    model.add(Conv2D(128, (3, 3)))\n",
        "    model.add(Activation('elu'))\n",
        "    model.add(MaxPooling2D(pool_size=(2, 2)))\n",
        "    model.add(Dropout(0.1))\n",
        "\n",
        "    model.add(Conv2D(256, (3, 3), padding='same'))\n",
        "    model.add(Activation('elu'))\n",
        "\n",
        "    model.add(Conv2D(256, (3, 3)))\n",
        "    model.add(Activation('elu'))\n",
        "    model.add(MaxPooling2D(pool_size=(2, 2)))\n",
        "    model.add(Dropout(0.25))\n",
        "\n",
        "    model.add(Conv2D(512, (3, 3), padding='same'))\n",
        "    model.add(Activation('elu'))\n",
        "\n",
        "    model.add(Conv2D(512, (3, 3)))\n",
        "    model.add(Activation('elu'))\n",
        "    model.add(MaxPooling2D(pool_size=(2, 2)))\n",
        "    model.add(Dropout(0.5))\n",
        "\n",
        "    model.add(Flatten())\n",
        "\n",
        "    model.add(Dense(1024))\n",
        "    model.add(Activation('elu'))\n",
        "    model.add(Dropout(0.5))\n",
        "    \n",
        "    model.add(Dense(num_classes))\n",
        "    model.add(Activation('softmax'))\n",
        "    \n",
        "    return model"
      ]
    },
    {
      "cell_type": "code",
      "source": [
        "def create_CNN_2(input_shape):\n",
        "    \"\"\"Create CNN with predefined structure.\n",
        "    This was manually designed by: Jonathan Janke (from https://github.com/novajon/classy-conv-features)\n",
        "\n",
        "    Parameters\n",
        "    ----------\n",
        "    input_shape : tuple\n",
        "        shape of the input data\n",
        "    \"\"\"\n",
        "    model = Sequential()\n",
        "\n",
        "    model.add(Conv2D(32, (3, 3), padding='same', input_shape=x_train.shape[1:]))\n",
        "    model.add(Activation('relu'))\n",
        "\n",
        "    model.add(Conv2D(32, (3, 3)))\n",
        "    model.add(Activation('relu'))\n",
        "    model.add(MaxPooling2D(pool_size=(2, 2)))\n",
        "    model.add(Dropout(0.25))\n",
        "\n",
        "    model.add(Conv2D(64, (3, 3), padding='same'))\n",
        "    model.add(Activation('relu'))\n",
        "\n",
        "    model.add(Conv2D(64, (3, 3)))\n",
        "    model.add(Activation('relu'))\n",
        "    model.add(MaxPooling2D(pool_size=(2, 2)))\n",
        "    model.add(Dropout(0.25))\n",
        "\n",
        "    model.add(Flatten())\n",
        "\n",
        "    model.add(Dense(512))\n",
        "    model.add(Activation('relu'))\n",
        "    model.add(Dropout(0.5))\n",
        "\n",
        "    model.add(Dense(num_classes))\n",
        "    model.add(Activation('softmax'))\n",
        "    \n",
        "    return model"
      ],
      "metadata": {
        "id": "HfdNO4xgmr6P"
      },
      "id": "HfdNO4xgmr6P",
      "execution_count": 7,
      "outputs": []
    },
    {
      "cell_type": "code",
      "source": [
        "class cifar10vgg:\n",
        "    \"\"\"Create VGG-16 model (from https://github.com/geifmany/cifar-vgg)\n",
        "\n",
        "    Reference:\n",
        "    - Simonyan, K., & Zisserman, A. (2014). Very Deep Convolutional Networks for Large-Scale Image Recognition.\n",
        "    \"\"\"\n",
        "    def __init__(self,train=True):\n",
        "        \"\"\"Initialize VGG-16\n",
        "\n",
        "        Parameters\n",
        "        ----------\n",
        "        train : boolean\n",
        "            determines if weights should be loaded or retrained\n",
        "        \"\"\"\n",
        "        self.num_classes = 10\n",
        "        self.weight_decay = 0.0005\n",
        "        self.x_shape = [32,32,3]\n",
        "\n",
        "        self.model = self.build_model()\n",
        "        if train:\n",
        "            # Train model\n",
        "            self.model = self.train(self.model)\n",
        "        else:\n",
        "            # Location where saved weights are stored\n",
        "            self.model.load_weights('model_weights_cifarvgg/cifar10vgg.h5')\n",
        "\n",
        "    def build_model(self):\n",
        "        \"\"\"Create CNN with predefined structure\n",
        "        \"\"\"\n",
        "        # Build the network of vgg for 10 classes with massive dropout and weight decay as described in the paper.\n",
        "\n",
        "        model = Sequential()\n",
        "        weight_decay = self.weight_decay\n",
        "\n",
        "        model.add(Conv2D(64, (3, 3), padding='same',\n",
        "                         input_shape=self.x_shape,kernel_regularizer=regularizers.l2(weight_decay)))\n",
        "        model.add(Activation('relu'))\n",
        "        model.add(BatchNormalization())\n",
        "        model.add(Dropout(0.3))\n",
        "\n",
        "        model.add(Conv2D(64, (3, 3), padding='same',kernel_regularizer=regularizers.l2(weight_decay)))\n",
        "        model.add(Activation('relu'))\n",
        "        model.add(BatchNormalization())\n",
        "\n",
        "        model.add(MaxPooling2D(pool_size=(2, 2)))\n",
        "\n",
        "        model.add(Conv2D(128, (3, 3), padding='same',kernel_regularizer=regularizers.l2(weight_decay)))\n",
        "        model.add(Activation('relu'))\n",
        "        model.add(BatchNormalization())\n",
        "        model.add(Dropout(0.4))\n",
        "\n",
        "        model.add(Conv2D(128, (3, 3), padding='same',kernel_regularizer=regularizers.l2(weight_decay)))\n",
        "        model.add(Activation('relu'))\n",
        "        model.add(BatchNormalization())\n",
        "\n",
        "        model.add(MaxPooling2D(pool_size=(2, 2)))\n",
        "\n",
        "        model.add(Conv2D(256, (3, 3), padding='same',kernel_regularizer=regularizers.l2(weight_decay)))\n",
        "        model.add(Activation('relu'))\n",
        "        model.add(BatchNormalization())\n",
        "        model.add(Dropout(0.4))\n",
        "\n",
        "        model.add(Conv2D(256, (3, 3), padding='same',kernel_regularizer=regularizers.l2(weight_decay)))\n",
        "        model.add(Activation('relu'))\n",
        "        model.add(BatchNormalization())\n",
        "        model.add(Dropout(0.4))\n",
        "\n",
        "        model.add(Conv2D(256, (3, 3), padding='same',kernel_regularizer=regularizers.l2(weight_decay)))\n",
        "        model.add(Activation('relu'))\n",
        "        model.add(BatchNormalization())\n",
        "\n",
        "        model.add(MaxPooling2D(pool_size=(2, 2)))\n",
        "\n",
        "        model.add(Conv2D(512, (3, 3), padding='same',kernel_regularizer=regularizers.l2(weight_decay)))\n",
        "        model.add(Activation('relu'))\n",
        "        model.add(BatchNormalization())\n",
        "        model.add(Dropout(0.4))\n",
        "\n",
        "        model.add(Conv2D(512, (3, 3), padding='same',kernel_regularizer=regularizers.l2(weight_decay)))\n",
        "        model.add(Activation('relu'))\n",
        "        model.add(BatchNormalization())\n",
        "        model.add(Dropout(0.4))\n",
        "\n",
        "        model.add(Conv2D(512, (3, 3), padding='same',kernel_regularizer=regularizers.l2(weight_decay)))\n",
        "        model.add(Activation('relu'))\n",
        "        model.add(BatchNormalization())\n",
        "\n",
        "        model.add(MaxPooling2D(pool_size=(2, 2)))\n",
        "\n",
        "        model.add(Conv2D(512, (3, 3), padding='same',kernel_regularizer=regularizers.l2(weight_decay)))\n",
        "        model.add(Activation('relu'))\n",
        "        model.add(BatchNormalization())\n",
        "        model.add(Dropout(0.4))\n",
        "\n",
        "        model.add(Conv2D(512, (3, 3), padding='same',kernel_regularizer=regularizers.l2(weight_decay)))\n",
        "        model.add(Activation('relu'))\n",
        "        model.add(BatchNormalization())\n",
        "        model.add(Dropout(0.4))\n",
        "\n",
        "        model.add(Conv2D(512, (3, 3), padding='same',kernel_regularizer=regularizers.l2(weight_decay)))\n",
        "        model.add(Activation('relu'))\n",
        "        model.add(BatchNormalization())\n",
        "\n",
        "        model.add(MaxPooling2D(pool_size=(2, 2)))\n",
        "        model.add(Dropout(0.5))\n",
        "\n",
        "        model.add(Flatten())\n",
        "        model.add(Dense(512,kernel_regularizer=regularizers.l2(weight_decay)))\n",
        "        model.add(Activation('relu'))\n",
        "        model.add(BatchNormalization())\n",
        "\n",
        "        model.add(Dropout(0.5))\n",
        "        model.add(Dense(self.num_classes))\n",
        "        model.add(Activation('softmax'))\n",
        "        return model\n",
        "\n",
        "    def normalize(self,X_train,X_test):\n",
        "        \"\"\"This function normalizes inputs for zero mean and unit variance.\n",
        "        It is used when training a model.\n",
        "\n",
        "        Parameters\n",
        "        ----------\n",
        "        X_train : array, e.g., numpy array\n",
        "            training data set\n",
        "        X_test : array, e.g., numpy array\n",
        "            test data set\n",
        "\n",
        "        Returns: normalized training set and test set according to the training set statistics.\n",
        "        \"\"\"\n",
        "        mean = np.mean(X_train,axis=(0,1,2,3))\n",
        "        std = np.std(X_train, axis=(0,1,2,3))\n",
        "        X_train = (X_train-mean)/(std+1e-7)\n",
        "        X_test = (X_test-mean)/(std+1e-7)\n",
        "        return X_train, X_test\n",
        "    \n",
        "    def normalize_production(self,x):\n",
        "        \"\"\"This function is used to normalize instances in production according to saved training set statistics\n",
        "\n",
        "        Parameters\n",
        "        ----------\n",
        "        X_train : array, e.g., numpy array\n",
        "            training data set\n",
        "        X_test : array, e.g., numpy array\n",
        "            test data set\n",
        "\n",
        "        Returns: normalized training set and test set according to preset constants.\n",
        "        \"\"\"\n",
        "        # These values produced during first training and are general for the standard CIFAR-10 training set normalization\n",
        "        mean = 120.707\n",
        "        std = 64.15\n",
        "        return (x-mean)/(std+1e-7)\n",
        "\n",
        "    def predict(self,x,normalize=True,batch_size=50):\n",
        "        \"\"\"Makes a prediction using the trained model\n",
        "\n",
        "        Parameters\n",
        "        ----------\n",
        "        X : array, e.g., numpy array\n",
        "            data to make prediction on\n",
        "        normalize : boolean\n",
        "            determines if dataset should be normalized before making a prediction\n",
        "        batch_size : int\n",
        "            determines the batch size per prediction batch\n",
        "\n",
        "        Returns : predictions\n",
        "        \"\"\"\n",
        "        if normalize:\n",
        "            x = self.normalize_production(x)\n",
        "        return self.model.predict(x,batch_size)\n",
        "\n",
        "    def train(self,model):\n",
        "        \"\"\"Trains the model\n",
        "\n",
        "        Parameters\n",
        "        ----------\n",
        "        model : Model\n",
        "            model to be trained\n",
        "        \"\"\"\n",
        "        # Training parameters\n",
        "        batch_size = 128\n",
        "        maxepoches = 250\n",
        "        learning_rate = 0.1\n",
        "        lr_decay = 1e-6\n",
        "        lr_drop = 20\n",
        "\n",
        "        # The data, shuffled and split between train and test sets:\n",
        "        (x_train, y_train), (x_test, y_test) = cifar10.load_data()\n",
        "        x_train = x_train.astype('float32')\n",
        "        x_test = x_test.astype('float32')\n",
        "        x_train, x_test = self.normalize(x_train, x_test)\n",
        "\n",
        "        y_train = keras.utils.to_categorical(y_train, self.num_classes)\n",
        "        y_test = keras.utils.to_categorical(y_test, self.num_classes)\n",
        "\n",
        "        def lr_scheduler(epoch):\n",
        "            return learning_rate * (0.5 ** (epoch // lr_drop))\n",
        "        reduce_lr = keras.callbacks.LearningRateScheduler(lr_scheduler)\n",
        "\n",
        "        # Data augmentation\n",
        "        datagen = ImageDataGenerator(\n",
        "            featurewise_center=False,  # set input mean to 0 over the dataset\n",
        "            samplewise_center=False,  # set each sample mean to 0\n",
        "            featurewise_std_normalization=False,  # divide inputs by std of the dataset\n",
        "            samplewise_std_normalization=False,  # divide each input by its std\n",
        "            zca_whitening=False,  # apply ZCA whitening\n",
        "            rotation_range=15,  # randomly rotate images in the range (degrees, 0 to 180)\n",
        "            width_shift_range=0.1,  # randomly shift images horizontally (fraction of total width)\n",
        "            height_shift_range=0.1,  # randomly shift images vertically (fraction of total height)\n",
        "            horizontal_flip=True,  # randomly flip images\n",
        "            vertical_flip=False)  # randomly flip images\n",
        "\n",
        "        # (std, mean, and principal components if ZCA whitening is applied).\n",
        "        datagen.fit(x_train)\n",
        "\n",
        "        # Optimization details\n",
        "        sgd = optimizers.SGD(lr=learning_rate, decay=lr_decay, momentum=0.9, nesterov=True)\n",
        "        model.compile(loss='categorical_crossentropy', optimizer=sgd,metrics=['accuracy'])\n",
        "\n",
        "        # Training process in a for loop with learning rate drop every 25 epoches.\n",
        "        historytemp = model.fit_generator(datagen.flow(x_train, y_train,\n",
        "                                         batch_size=batch_size),\n",
        "                            steps_per_epoch=x_train.shape[0] // batch_size,\n",
        "                            epochs=maxepoches,\n",
        "                            validation_data=(x_test, y_test),callbacks=[reduce_lr],verbose=2)\n",
        "        model.save_weights('cifar10vgg.h5')\n",
        "        return model"
      ],
      "metadata": {
        "id": "rueV8y-IujK5"
      },
      "id": "rueV8y-IujK5",
      "execution_count": 8,
      "outputs": []
    },
    {
      "cell_type": "code",
      "source": [
        "def cut_model(input_model):\n",
        "    \"\"\"Removes fully-connected layer from the end of a CNN model\n",
        "\n",
        "    Parameters\n",
        "    ----------\n",
        "    input_model : Model\n",
        "        model to cut\n",
        "    \"\"\"\n",
        "    dense_layer_count = 0\n",
        "    count = False\n",
        "    model_length = len(input_model.layers)\n",
        "    output_model = Sequential()\n",
        "    output_config = []\n",
        "\n",
        "    for index in range(model_length):\n",
        "        if count == True:\n",
        "            output_config.append(layer.get_config())\n",
        "            input_model.pop()\n",
        "        else:\n",
        "            layer = input_model.layers[index]\n",
        "        if layer.name.startswith('flatten'):\n",
        "            count = True\n",
        "            output_model.add(InputLayer(input_shape=layer.output_shape))          \n",
        "    # return output_model"
      ],
      "metadata": {
        "id": "SiZ_at8_M1yT"
      },
      "id": "SiZ_at8_M1yT",
      "execution_count": 9,
      "outputs": []
    },
    {
      "cell_type": "code",
      "source": [
        "def create_output_files(x_train, x_test, y_train, y_test, prefix, suffix = \"\"):\n",
        "    \"\"\"Create the output files to save intermediate datasets for further use\n",
        "\n",
        "    Parameters\n",
        "    ----------\n",
        "    x_train : array, e.g., numpy array\n",
        "        training input data\n",
        "\n",
        "    x_test : array, e.g., numpy array\n",
        "        testing input data\n",
        "\n",
        "    y_train : list\n",
        "        training target data\n",
        "\n",
        "    y_test : list\n",
        "        test target data\n",
        "\n",
        "    prefix : string\n",
        "        prefix to add to output file name\n",
        "\n",
        "    suffix : string\n",
        "        suffix to add to output file name\n",
        "    \"\"\"\n",
        "    for i, model in enumerate(models):\n",
        "        pred_train = model.predict(x_train)\n",
        "        pred_test = model.predict(x_test)\n",
        "        pred_train_with_target = np.array([np.array([preds, y_train[i]]) for i, preds in enumerate(pred_train)])\n",
        "        pred_test_with_target = np.array([np.array([preds, y_test[i]]) for i, preds in enumerate(pred_test)])\n",
        "        path = input_path + \"intermediate/\" + prefix + \"/\" + model_names[i]\n",
        "        \n",
        "        if not os.path.exists(path):\n",
        "            os.makedirs(path)\n",
        "            \n",
        "        np.save(path + \"/train\" + suffix, pred_train_with_target)\n",
        "        np.save(path + \"/test\" + suffix, pred_test_with_target)"
      ],
      "metadata": {
        "id": "bbuVeAN6PLzo"
      },
      "id": "bbuVeAN6PLzo",
      "execution_count": 10,
      "outputs": []
    },
    {
      "cell_type": "code",
      "source": [
        "def plot_model_stats(hist):\n",
        "    \"\"\"Plot model statistics after the learning procedure, e.g. accuracy development over time (epochs)\n",
        "\n",
        "    Parameters\n",
        "    ----------\n",
        "    hist : Histogram\n",
        "        model statistics to plot\n",
        "    \"\"\"\n",
        "    # Summarize history for accuracy\n",
        "    plt.plot(hist.history['accuracy'])\n",
        "    plt.plot(hist.history['val_accuracy'])\n",
        "    plt.title('Model Accuracy')\n",
        "    plt.ylabel('accuracy')\n",
        "    plt.xlabel('epoch')\n",
        "    plt.legend(['train', 'test'], loc='upper left')\n",
        "    plt.show()\n",
        "    \n",
        "    # Summarize history for loss\n",
        "    plt.plot(hist.history['loss'])\n",
        "    plt.plot(hist.history['val_loss'])\n",
        "    plt.title('Model Loss')\n",
        "    plt.ylabel('loss')\n",
        "    plt.xlabel('epoch')\n",
        "    plt.legend(['train', 'test'], loc='upper left')\n",
        "    plt.show()"
      ],
      "metadata": {
        "id": "D0AxQUAnQLpE"
      },
      "id": "D0AxQUAnQLpE",
      "execution_count": 11,
      "outputs": []
    },
    {
      "cell_type": "markdown",
      "id": "71d704da",
      "metadata": {
        "id": "71d704da"
      },
      "source": [
        "## 1. Data Exploration"
      ]
    },
    {
      "cell_type": "code",
      "execution_count": 12,
      "id": "3830c382",
      "metadata": {
        "id": "3830c382",
        "colab": {
          "base_uri": "https://localhost:8080/"
        },
        "outputId": "6b55ed42-795b-4e35-e03c-0fa262acb1a8"
      },
      "outputs": [
        {
          "output_type": "stream",
          "name": "stdout",
          "text": [
            "Downloading data from https://www.cs.toronto.edu/~kriz/cifar-10-python.tar.gz\n",
            "170500096/170498071 [==============================] - 2s 0us/step\n",
            "170508288/170498071 [==============================] - 2s 0us/step\n"
          ]
        }
      ],
      "source": [
        "# Load dataset\n",
        "cifar_version = 'cifar10'\n",
        "input_path = \"data/cifar10_filtered/\"\n",
        "(x_train, y_train), (x_test, y_test) = cifar10.load_data()"
      ]
    },
    {
      "cell_type": "code",
      "execution_count": 13,
      "id": "1d09e5cd",
      "metadata": {
        "id": "1d09e5cd"
      },
      "outputs": [],
      "source": [
        "# cifar_version = 'cifar100'\n",
        "# input_path = \"data/cifar100_filtered/\"\n",
        "# (x_train, y_train), (x_test, y_test) = cifar100.load_data()"
      ]
    },
    {
      "cell_type": "code",
      "execution_count": 14,
      "id": "ad5a0d4d",
      "metadata": {
        "colab": {
          "base_uri": "https://localhost:8080/"
        },
        "id": "ad5a0d4d",
        "outputId": "c9033165-ecbc-4b7b-f669-6fad64d53237"
      },
      "outputs": [
        {
          "output_type": "execute_result",
          "data": {
            "text/plain": [
              "10"
            ]
          },
          "metadata": {},
          "execution_count": 14
        }
      ],
      "source": [
        "num_classes = len(np.unique(y_train))\n",
        "num_classes"
      ]
    },
    {
      "cell_type": "code",
      "source": [
        "print('Shape of x_train is', x_train.shape)\n",
        "print('Shape of y_train is', y_train.shape)\n",
        "print()\n",
        "print('Shape of x_test  is', x_test.shape)\n",
        "print('Shape of y_test  is', y_test.shape)"
      ],
      "metadata": {
        "colab": {
          "base_uri": "https://localhost:8080/"
        },
        "id": "SEZHUniydR64",
        "outputId": "9b2e5e09-c6a6-4fad-dd9b-65cd03a70e01"
      },
      "id": "SEZHUniydR64",
      "execution_count": 15,
      "outputs": [
        {
          "output_type": "stream",
          "name": "stdout",
          "text": [
            "Shape of x_train is (50000, 32, 32, 3)\n",
            "Shape of y_train is (50000, 1)\n",
            "\n",
            "Shape of x_test  is (10000, 32, 32, 3)\n",
            "Shape of y_test  is (10000, 1)\n"
          ]
        }
      ]
    },
    {
      "cell_type": "code",
      "execution_count": 16,
      "id": "14abb956",
      "metadata": {
        "id": "14abb956"
      },
      "outputs": [],
      "source": [
        "treat_data = \"normalize\""
      ]
    },
    {
      "cell_type": "code",
      "execution_count": 17,
      "id": "9fb9e85c",
      "metadata": {
        "id": "9fb9e85c"
      },
      "outputs": [],
      "source": [
        "# Produce a timestamp to attach to future outputs\n",
        "now = datetime.datetime.now()\n",
        "prefix = now.strftime(\"%Y%m%d_%H%M\")"
      ]
    },
    {
      "cell_type": "code",
      "execution_count": 18,
      "id": "f4ff1fd5",
      "metadata": {
        "colab": {
          "base_uri": "https://localhost:8080/",
          "height": 1000
        },
        "id": "f4ff1fd5",
        "outputId": "f031770d-e2f3-429a-bc80-a97e279c7c6a"
      },
      "outputs": [
        {
          "output_type": "display_data",
          "data": {
            "text/plain": [
              "<Figure size 432x288 with 1 Axes>"
            ],
            "image/png": "[encoded data removed]"
          },
          "metadata": {
            "needs_background": "light"
          }
        },
        {
          "output_type": "display_data",
          "data": {
            "text/plain": [
              "<Figure size 432x288 with 1 Axes>"
            ],
            "image/png": "[encoded data removed]"
          },
          "metadata": {
            "needs_background": "light"
          }
        },
        {
          "output_type": "display_data",
          "data": {
            "text/plain": [
              "<Figure size 432x288 with 1 Axes>"
            ],
            "image/png": "[encoded data removed]"
          },
          "metadata": {
            "needs_background": "light"
          }
        },
        {
          "output_type": "display_data",
          "data": {
            "text/plain": [
              "<Figure size 432x288 with 1 Axes>"
            ],
            "image/png": "[encoded data removed]"
          },
          "metadata": {
            "needs_background": "light"
          }
        },
        {
          "output_type": "display_data",
          "data": {
            "text/plain": [
              "<Figure size 432x288 with 1 Axes>"
            ],
            "image/png": "[encoded data removed]"
          },
          "metadata": {
            "needs_background": "light"
          }
        },
        {
          "output_type": "display_data",
          "data": {
            "text/plain": [
              "<Figure size 432x288 with 1 Axes>"
            ],
            "image/png": "[encoded data removed]"
          },
          "metadata": {
            "needs_background": "light"
          }
        },
        {
          "output_type": "display_data",
          "data": {
            "text/plain": [
              "<Figure size 432x288 with 1 Axes>"
            ],
            "image/png": "[encoded data removed]"
          },
          "metadata": {
            "needs_background": "light"
          }
        },
        {
          "output_type": "display_data",
          "data": {
            "text/plain": [
              "<Figure size 432x288 with 1 Axes>"
            ],
            "image/png": "[encoded data removed]"
          },
          "metadata": {
            "needs_background": "light"
          }
        },
        {
          "output_type": "display_data",
          "data": {
            "text/plain": [
              "<Figure size 432x288 with 1 Axes>"
            ],
            "image/png": "[encoded data removed]"
          },
          "metadata": {
            "needs_background": "light"
          }
        },
        {
          "output_type": "display_data",
          "data": {
            "text/plain": [
              "<Figure size 432x288 with 1 Axes>"
            ],
            "image/png": "[encoded data removed]"
          },
          "metadata": {
            "needs_background": "light"
          }
        }
      ],
      "source": [
        "# Show the images to get a visual understanding of the classes\n",
        "show_image_classes(x_train, y_train, prefix, \"raw\")"
      ]
    },
    {
      "cell_type": "code",
      "execution_count": 19,
      "id": "00025523",
      "metadata": {
        "colab": {
          "base_uri": "https://localhost:8080/",
          "height": 1000
        },
        "id": "00025523",
        "outputId": "85e7570d-2701-4570-d752-a8d1fee8003d"
      },
      "outputs": [
        {
          "output_type": "display_data",
          "data": {
            "text/plain": [
              "<Figure size 432x288 with 1 Axes>"
            ],
            "image/png": "[encoded data removed]"
          },
          "metadata": {
            "needs_background": "light"
          }
        },
        {
          "output_type": "display_data",
          "data": {
            "text/plain": [
              "<Figure size 432x288 with 1 Axes>"
            ],
            "image/png": "[encoded data removed]"
          },
          "metadata": {
            "needs_background": "light"
          }
        },
        {
          "output_type": "display_data",
          "data": {
            "text/plain": [
              "<Figure size 432x288 with 1 Axes>"
            ],
            "image/png": "[encoded data removed]"
          },
          "metadata": {
            "needs_background": "light"
          }
        },
        {
          "output_type": "display_data",
          "data": {
            "text/plain": [
              "<Figure size 432x288 with 1 Axes>"
            ],
            "image/png": "[encoded data removed]"
          },
          "metadata": {
            "needs_background": "light"
          }
        },
        {
          "output_type": "display_data",
          "data": {
            "text/plain": [
              "<Figure size 432x288 with 1 Axes>"
            ],
            "image/png": "[encoded data removed]"
          },
          "metadata": {
            "needs_background": "light"
          }
        },
        {
          "output_type": "display_data",
          "data": {
            "text/plain": [
              "<Figure size 432x288 with 1 Axes>"
            ],
            "image/png": "[encoded data removed]"
          },
          "metadata": {
            "needs_background": "light"
          }
        }
      ],
      "source": [
        "# Check the first \"n_images\" images of class number \"class_n\"\n",
        "n_images = 6\n",
        "class_n = 0\n",
        "if cifar_version == 'cifar10':\n",
        "    class_n = 1\n",
        "\n",
        "class_n_pos = [ind for ind, el in enumerate(y_train) if el == class_n]\n",
        "\n",
        "for img in class_n_pos[:n_images]:\n",
        "    plt.figure()\n",
        "    plt.imshow(np.uint8(x_train[img]))\n",
        "    plt.axis('off')"
      ]
    },
    {
      "cell_type": "markdown",
      "id": "d17b6c0b",
      "metadata": {
        "id": "d17b6c0b"
      },
      "source": [
        "## 2. Data Transformation"
      ]
    },
    {
      "cell_type": "code",
      "execution_count": 20,
      "id": "325e3b58",
      "metadata": {
        "id": "325e3b58"
      },
      "outputs": [],
      "source": [
        "# Preprocess data through normalization\n",
        "# Normalisation of data according to predefined normalize_data method\n",
        "if treat_data == \"normalize\":\n",
        "    x_train, x_test = normalize_data(x_train, x_test, cifar_version=cifar_version)"
      ]
    },
    {
      "cell_type": "code",
      "execution_count": 21,
      "id": "fc467e0f",
      "metadata": {
        "colab": {
          "base_uri": "https://localhost:8080/",
          "height": 1000
        },
        "id": "fc467e0f",
        "outputId": "6dd57dbe-4a2f-44b7-9b2c-b868c79f053b"
      },
      "outputs": [
        {
          "output_type": "display_data",
          "data": {
            "text/plain": [
              "<Figure size 432x288 with 1 Axes>"
            ],
            "image/png": "[encoded data removed]"
          },
          "metadata": {
            "needs_background": "light"
          }
        },
        {
          "output_type": "display_data",
          "data": {
            "text/plain": [
              "<Figure size 432x288 with 1 Axes>"
            ],
            "image/png": "[encoded data removed]"
          },
          "metadata": {
            "needs_background": "light"
          }
        },
        {
          "output_type": "display_data",
          "data": {
            "text/plain": [
              "<Figure size 432x288 with 1 Axes>"
            ],
            "image/png": "[encoded data removed]"
          },
          "metadata": {
            "needs_background": "light"
          }
        },
        {
          "output_type": "display_data",
          "data": {
            "text/plain": [
              "<Figure size 432x288 with 1 Axes>"
            ],
            "image/png": "[encoded data removed]"
          },
          "metadata": {
            "needs_background": "light"
          }
        },
        {
          "output_type": "display_data",
          "data": {
            "text/plain": [
              "<Figure size 432x288 with 1 Axes>"
            ],
            "image/png": "[encoded data removed]"
          },
          "metadata": {
            "needs_background": "light"
          }
        },
        {
          "output_type": "display_data",
          "data": {
            "text/plain": [
              "<Figure size 432x288 with 1 Axes>"
            ],
            "image/png": "[encoded data removed]"
          },
          "metadata": {
            "needs_background": "light"
          }
        },
        {
          "output_type": "display_data",
          "data": {
            "text/plain": [
              "<Figure size 432x288 with 1 Axes>"
            ],
            "image/png": "[encoded data removed]"
          },
          "metadata": {
            "needs_background": "light"
          }
        },
        {
          "output_type": "display_data",
          "data": {
            "text/plain": [
              "<Figure size 432x288 with 1 Axes>"
            ],
            "image/png": "[encoded data removed]"
          },
          "metadata": {
            "needs_background": "light"
          }
        },
        {
          "output_type": "display_data",
          "data": {
            "text/plain": [
              "<Figure size 432x288 with 1 Axes>"
            ],
            "image/png": "[encoded data removed]"
          },
          "metadata": {
            "needs_background": "light"
          }
        },
        {
          "output_type": "display_data",
          "data": {
            "text/plain": [
              "<Figure size 432x288 with 1 Axes>"
            ],
            "image/png": "[encoded data removed]"
          },
          "metadata": {
            "needs_background": "light"
          }
        }
      ],
      "source": [
        "# Show normalized data\n",
        "if treat_data == \"normalize\": \n",
        "    show_image_classes(x_train, y_train, prefix, \"normalized\")"
      ]
    },
    {
      "cell_type": "code",
      "execution_count": 22,
      "id": "9de3cf89",
      "metadata": {
        "id": "9de3cf89"
      },
      "outputs": [],
      "source": [
        "# One-hot encoding: make target values categorical\n",
        "y_train_categorical = to_categorical(y_train)\n",
        "y_test_categorical = to_categorical(y_test)"
      ]
    },
    {
      "cell_type": "markdown",
      "id": "12f25ac9",
      "metadata": {
        "id": "12f25ac9"
      },
      "source": [
        "## 3. Neural Network Training"
      ]
    },
    {
      "cell_type": "code",
      "execution_count": 23,
      "id": "ab8431a2",
      "metadata": {
        "id": "ab8431a2"
      },
      "outputs": [],
      "source": [
        "datagen = keras.preprocessing.image.ImageDataGenerator(featurewise_center=False, \n",
        "                                                       samplewise_center=False, \n",
        "                                                       featurewise_std_normalization=False, \n",
        "                                                       samplewise_std_normalization=False, \n",
        "                                                       zca_whitening=False, \n",
        "                                                       zca_epsilon=1e-06, \n",
        "                                                       rotation_range=0.0, \n",
        "                                                       width_shift_range=0.0, \n",
        "                                                       height_shift_range=0.0, \n",
        "                                                       brightness_range=None, \n",
        "                                                       shear_range=0.0, \n",
        "                                                       zoom_range=0.0, \n",
        "                                                       channel_shift_range=0.0, \n",
        "                                                       fill_mode='nearest', \n",
        "                                                       cval=0.0, \n",
        "                                                       horizontal_flip=False, \n",
        "                                                       vertical_flip=False, \n",
        "                                                       rescale=None, \n",
        "                                                       preprocessing_function=None, \n",
        "                                                       data_format=None, \n",
        "                                                       validation_split=0.0)"
      ]
    },
    {
      "cell_type": "code",
      "execution_count": 24,
      "id": "665387f4",
      "metadata": {
        "id": "665387f4"
      },
      "outputs": [],
      "source": [
        "# Compute quantities required for featurewise normalization\n",
        "# (std, mean, and principal components if ZCA whitening is applied)\n",
        "datagen.fit(x_train)"
      ]
    },
    {
      "cell_type": "code",
      "execution_count": 25,
      "id": "b145972c",
      "metadata": {
        "id": "b145972c"
      },
      "outputs": [],
      "source": [
        "models = []\n",
        "model_names = []\n",
        "input_shape = x_train[0].shape\n",
        "batch_size = 100\n",
        "epochs = 80"
      ]
    },
    {
      "cell_type": "code",
      "execution_count": 26,
      "id": "1324150d",
      "metadata": {
        "id": "1324150d"
      },
      "outputs": [],
      "source": [
        "# Create neural network models\n",
        "models.append(create_CNN_1(input_shape))\n",
        "model_names.append(\"CNN_Input_1\")"
      ]
    },
    {
      "cell_type": "code",
      "source": [
        "models.append(create_CNN_2(input_shape))\n",
        "model_names.append(\"CNN_Input_2\")"
      ],
      "metadata": {
        "id": "DIrF6V1no_N3"
      },
      "id": "DIrF6V1no_N3",
      "execution_count": 27,
      "outputs": []
    },
    {
      "cell_type": "code",
      "execution_count": 28,
      "id": "0a96da50",
      "metadata": {
        "id": "0a96da50"
      },
      "outputs": [],
      "source": [
        "history = []\n",
        "lr = 0.0001\n",
        "\n",
        "for model in models:\n",
        "    model.compile(loss=keras.losses.categorical_crossentropy,\n",
        "                  optimizer=tf.keras.optimizers.Adam(lr=lr),\n",
        "                  metrics=['accuracy'])"
      ]
    },
    {
      "cell_type": "code",
      "execution_count": 29,
      "id": "90ef67b9",
      "metadata": {
        "scrolled": true,
        "colab": {
          "base_uri": "https://localhost:8080/"
        },
        "id": "90ef67b9",
        "outputId": "2ef0aff0-7955-4450-f474-6dfbca9a3aef"
      },
      "outputs": [
        {
          "output_type": "stream",
          "name": "stdout",
          "text": [
            "Epoch 1/80\n",
            "500/500 [==============================] - 40s 54ms/step - loss: 1.5235 - accuracy: 0.4530 - val_loss: 1.1471 - val_accuracy: 0.5961\n",
            "Epoch 2/80\n",
            "500/500 [==============================] - 27s 53ms/step - loss: 1.1318 - accuracy: 0.6023 - val_loss: 1.0253 - val_accuracy: 0.6435\n",
            "Epoch 3/80\n",
            "500/500 [==============================] - 27s 55ms/step - loss: 0.9998 - accuracy: 0.6540 - val_loss: 0.8907 - val_accuracy: 0.6943\n",
            "Epoch 4/80\n",
            "500/500 [==============================] - 28s 56ms/step - loss: 0.9131 - accuracy: 0.6851 - val_loss: 0.8558 - val_accuracy: 0.7073\n",
            "Epoch 5/80\n",
            "500/500 [==============================] - 28s 56ms/step - loss: 0.8458 - accuracy: 0.7088 - val_loss: 0.8171 - val_accuracy: 0.7179\n",
            "Epoch 6/80\n",
            "500/500 [==============================] - 28s 56ms/step - loss: 0.7906 - accuracy: 0.7255 - val_loss: 0.8093 - val_accuracy: 0.7211\n",
            "Epoch 7/80\n",
            "500/500 [==============================] - 28s 56ms/step - loss: 0.7404 - accuracy: 0.7421 - val_loss: 0.7270 - val_accuracy: 0.7486\n",
            "Epoch 8/80\n",
            "500/500 [==============================] - 28s 56ms/step - loss: 0.6843 - accuracy: 0.7646 - val_loss: 0.7156 - val_accuracy: 0.7596\n",
            "Epoch 9/80\n",
            "500/500 [==============================] - 28s 56ms/step - loss: 0.6471 - accuracy: 0.7756 - val_loss: 0.7052 - val_accuracy: 0.7626\n",
            "Epoch 10/80\n",
            "500/500 [==============================] - 28s 56ms/step - loss: 0.6110 - accuracy: 0.7880 - val_loss: 0.6883 - val_accuracy: 0.7684\n",
            "Epoch 11/80\n",
            "500/500 [==============================] - 28s 57ms/step - loss: 0.5658 - accuracy: 0.8036 - val_loss: 0.7186 - val_accuracy: 0.7599\n",
            "Epoch 12/80\n",
            "500/500 [==============================] - 28s 56ms/step - loss: 0.5351 - accuracy: 0.8120 - val_loss: 0.6791 - val_accuracy: 0.7772\n",
            "Epoch 13/80\n",
            "500/500 [==============================] - 28s 56ms/step - loss: 0.5028 - accuracy: 0.8227 - val_loss: 0.6503 - val_accuracy: 0.7860\n",
            "Epoch 14/80\n",
            "500/500 [==============================] - 28s 56ms/step - loss: 0.4689 - accuracy: 0.8365 - val_loss: 0.6979 - val_accuracy: 0.7820\n",
            "Epoch 15/80\n",
            "500/500 [==============================] - 28s 56ms/step - loss: 0.4420 - accuracy: 0.8449 - val_loss: 0.6765 - val_accuracy: 0.7847\n",
            "Epoch 16/80\n",
            "500/500 [==============================] - 28s 56ms/step - loss: 0.4189 - accuracy: 0.8520 - val_loss: 0.6868 - val_accuracy: 0.7897\n",
            "Epoch 17/80\n",
            "500/500 [==============================] - 28s 56ms/step - loss: 0.4020 - accuracy: 0.8591 - val_loss: 0.6825 - val_accuracy: 0.7885\n",
            "Epoch 18/80\n",
            "500/500 [==============================] - 28s 56ms/step - loss: 0.3684 - accuracy: 0.8694 - val_loss: 0.6765 - val_accuracy: 0.7923\n",
            "Epoch 19/80\n",
            "500/500 [==============================] - 28s 56ms/step - loss: 0.3461 - accuracy: 0.8769 - val_loss: 0.7097 - val_accuracy: 0.7948\n",
            "Epoch 20/80\n",
            "500/500 [==============================] - 28s 56ms/step - loss: 0.3270 - accuracy: 0.8835 - val_loss: 0.6878 - val_accuracy: 0.8024\n",
            "Epoch 21/80\n",
            "500/500 [==============================] - 28s 55ms/step - loss: 0.3090 - accuracy: 0.8900 - val_loss: 0.7003 - val_accuracy: 0.7982\n",
            "Epoch 22/80\n",
            "500/500 [==============================] - 28s 56ms/step - loss: 0.2941 - accuracy: 0.8961 - val_loss: 0.7028 - val_accuracy: 0.7999\n",
            "Epoch 23/80\n",
            "500/500 [==============================] - 28s 56ms/step - loss: 0.2780 - accuracy: 0.9021 - val_loss: 0.7780 - val_accuracy: 0.7903\n",
            "Epoch 24/80\n",
            "500/500 [==============================] - 28s 56ms/step - loss: 0.2616 - accuracy: 0.9066 - val_loss: 0.7583 - val_accuracy: 0.7939\n",
            "Epoch 25/80\n",
            "500/500 [==============================] - 28s 55ms/step - loss: 0.2446 - accuracy: 0.9130 - val_loss: 0.7255 - val_accuracy: 0.8062\n",
            "Epoch 26/80\n",
            "500/500 [==============================] - 28s 56ms/step - loss: 0.2371 - accuracy: 0.9170 - val_loss: 0.7436 - val_accuracy: 0.8016\n",
            "Epoch 27/80\n",
            "500/500 [==============================] - 28s 56ms/step - loss: 0.2252 - accuracy: 0.9189 - val_loss: 0.7498 - val_accuracy: 0.8058\n",
            "Epoch 28/80\n",
            "500/500 [==============================] - 28s 56ms/step - loss: 0.2116 - accuracy: 0.9252 - val_loss: 0.7449 - val_accuracy: 0.8063\n",
            "Epoch 29/80\n",
            "500/500 [==============================] - 28s 56ms/step - loss: 0.2048 - accuracy: 0.9276 - val_loss: 0.7277 - val_accuracy: 0.8050\n",
            "Epoch 30/80\n",
            "500/500 [==============================] - 28s 56ms/step - loss: 0.1909 - accuracy: 0.9329 - val_loss: 0.7615 - val_accuracy: 0.8061\n",
            "Epoch 31/80\n",
            "500/500 [==============================] - 28s 57ms/step - loss: 0.1862 - accuracy: 0.9333 - val_loss: 0.7511 - val_accuracy: 0.8098\n",
            "Epoch 32/80\n",
            "500/500 [==============================] - 28s 56ms/step - loss: 0.1772 - accuracy: 0.9385 - val_loss: 0.7609 - val_accuracy: 0.8107\n",
            "Epoch 33/80\n",
            "500/500 [==============================] - 28s 55ms/step - loss: 0.1707 - accuracy: 0.9389 - val_loss: 0.7519 - val_accuracy: 0.8106\n",
            "Epoch 34/80\n",
            "500/500 [==============================] - 28s 56ms/step - loss: 0.1596 - accuracy: 0.9443 - val_loss: 0.7244 - val_accuracy: 0.8066\n",
            "Epoch 35/80\n",
            "500/500 [==============================] - 28s 56ms/step - loss: 0.1548 - accuracy: 0.9454 - val_loss: 0.7383 - val_accuracy: 0.8175\n",
            "Epoch 36/80\n",
            "500/500 [==============================] - 28s 57ms/step - loss: 0.1519 - accuracy: 0.9472 - val_loss: 0.8079 - val_accuracy: 0.8137\n",
            "Epoch 37/80\n",
            "500/500 [==============================] - 28s 57ms/step - loss: 0.1436 - accuracy: 0.9490 - val_loss: 0.7722 - val_accuracy: 0.8121\n",
            "Epoch 38/80\n",
            "500/500 [==============================] - 28s 55ms/step - loss: 0.1423 - accuracy: 0.9507 - val_loss: 0.8497 - val_accuracy: 0.8141\n",
            "Epoch 39/80\n",
            "500/500 [==============================] - 28s 56ms/step - loss: 0.1321 - accuracy: 0.9538 - val_loss: 0.7703 - val_accuracy: 0.8160\n",
            "Epoch 40/80\n",
            "500/500 [==============================] - 28s 56ms/step - loss: 0.1296 - accuracy: 0.9544 - val_loss: 0.8572 - val_accuracy: 0.8121\n",
            "Epoch 41/80\n",
            "500/500 [==============================] - 28s 55ms/step - loss: 0.1263 - accuracy: 0.9552 - val_loss: 0.8064 - val_accuracy: 0.8109\n",
            "Epoch 42/80\n",
            "500/500 [==============================] - 28s 56ms/step - loss: 0.1212 - accuracy: 0.9575 - val_loss: 0.8497 - val_accuracy: 0.8146\n",
            "Epoch 43/80\n",
            "500/500 [==============================] - 28s 56ms/step - loss: 0.1158 - accuracy: 0.9590 - val_loss: 0.8883 - val_accuracy: 0.8094\n",
            "Epoch 44/80\n",
            "500/500 [==============================] - 28s 56ms/step - loss: 0.1130 - accuracy: 0.9596 - val_loss: 0.8209 - val_accuracy: 0.8164\n",
            "Epoch 45/80\n",
            "500/500 [==============================] - 28s 56ms/step - loss: 0.1079 - accuracy: 0.9620 - val_loss: 0.8689 - val_accuracy: 0.8132\n",
            "Epoch 46/80\n",
            "500/500 [==============================] - 28s 56ms/step - loss: 0.1099 - accuracy: 0.9603 - val_loss: 0.9247 - val_accuracy: 0.8165\n",
            "Epoch 47/80\n",
            "500/500 [==============================] - 28s 57ms/step - loss: 0.1088 - accuracy: 0.9612 - val_loss: 0.9000 - val_accuracy: 0.8132\n",
            "Epoch 48/80\n",
            "500/500 [==============================] - 28s 57ms/step - loss: 0.0980 - accuracy: 0.9662 - val_loss: 0.8193 - val_accuracy: 0.8209\n",
            "Epoch 49/80\n",
            "500/500 [==============================] - 28s 56ms/step - loss: 0.1028 - accuracy: 0.9646 - val_loss: 0.8427 - val_accuracy: 0.8222\n",
            "Epoch 50/80\n",
            "500/500 [==============================] - 28s 56ms/step - loss: 0.0991 - accuracy: 0.9648 - val_loss: 0.8088 - val_accuracy: 0.8167\n",
            "Epoch 51/80\n",
            "500/500 [==============================] - 28s 56ms/step - loss: 0.0940 - accuracy: 0.9671 - val_loss: 0.8295 - val_accuracy: 0.8226\n",
            "Epoch 52/80\n",
            "500/500 [==============================] - 28s 57ms/step - loss: 0.0923 - accuracy: 0.9684 - val_loss: 0.8224 - val_accuracy: 0.8208\n",
            "Epoch 53/80\n",
            "500/500 [==============================] - 28s 56ms/step - loss: 0.0950 - accuracy: 0.9682 - val_loss: 0.8664 - val_accuracy: 0.8208\n",
            "Epoch 54/80\n",
            "500/500 [==============================] - 28s 56ms/step - loss: 0.0858 - accuracy: 0.9702 - val_loss: 0.8782 - val_accuracy: 0.8205\n",
            "Epoch 55/80\n",
            "500/500 [==============================] - 28s 57ms/step - loss: 0.0911 - accuracy: 0.9679 - val_loss: 0.8551 - val_accuracy: 0.8205\n",
            "Epoch 56/80\n",
            "500/500 [==============================] - 28s 56ms/step - loss: 0.0810 - accuracy: 0.9722 - val_loss: 0.8919 - val_accuracy: 0.8169\n",
            "Epoch 57/80\n",
            "500/500 [==============================] - 28s 56ms/step - loss: 0.0812 - accuracy: 0.9721 - val_loss: 0.9160 - val_accuracy: 0.8239\n",
            "Epoch 58/80\n",
            "500/500 [==============================] - 28s 56ms/step - loss: 0.0802 - accuracy: 0.9721 - val_loss: 0.8706 - val_accuracy: 0.8222\n",
            "Epoch 59/80\n",
            "500/500 [==============================] - 28s 57ms/step - loss: 0.0785 - accuracy: 0.9728 - val_loss: 0.9518 - val_accuracy: 0.8186\n",
            "Epoch 60/80\n",
            "500/500 [==============================] - 28s 57ms/step - loss: 0.0765 - accuracy: 0.9738 - val_loss: 0.8585 - val_accuracy: 0.8258\n",
            "Epoch 61/80\n",
            "500/500 [==============================] - 28s 57ms/step - loss: 0.0759 - accuracy: 0.9741 - val_loss: 0.9010 - val_accuracy: 0.8225\n",
            "Epoch 62/80\n",
            "500/500 [==============================] - 28s 57ms/step - loss: 0.0738 - accuracy: 0.9736 - val_loss: 0.8801 - val_accuracy: 0.8249\n",
            "Epoch 63/80\n",
            "500/500 [==============================] - 28s 57ms/step - loss: 0.0675 - accuracy: 0.9761 - val_loss: 0.8953 - val_accuracy: 0.8265\n",
            "Epoch 64/80\n",
            "500/500 [==============================] - 28s 56ms/step - loss: 0.0700 - accuracy: 0.9756 - val_loss: 0.9742 - val_accuracy: 0.8249\n",
            "Epoch 65/80\n",
            "500/500 [==============================] - 28s 57ms/step - loss: 0.0673 - accuracy: 0.9764 - val_loss: 0.8872 - val_accuracy: 0.8246\n",
            "Epoch 66/80\n",
            "500/500 [==============================] - 28s 57ms/step - loss: 0.0664 - accuracy: 0.9772 - val_loss: 0.9159 - val_accuracy: 0.8303\n",
            "Epoch 67/80\n",
            "500/500 [==============================] - 28s 56ms/step - loss: 0.0662 - accuracy: 0.9782 - val_loss: 0.9284 - val_accuracy: 0.8297\n",
            "Epoch 68/80\n",
            "500/500 [==============================] - 28s 57ms/step - loss: 0.0672 - accuracy: 0.9775 - val_loss: 0.8584 - val_accuracy: 0.8246\n",
            "Epoch 69/80\n",
            "500/500 [==============================] - 28s 56ms/step - loss: 0.0653 - accuracy: 0.9777 - val_loss: 0.8656 - val_accuracy: 0.8328\n",
            "Epoch 70/80\n",
            "500/500 [==============================] - 28s 57ms/step - loss: 0.0651 - accuracy: 0.9775 - val_loss: 0.8820 - val_accuracy: 0.8259\n",
            "Epoch 71/80\n",
            "500/500 [==============================] - 28s 56ms/step - loss: 0.0598 - accuracy: 0.9798 - val_loss: 0.9158 - val_accuracy: 0.8230\n",
            "Epoch 72/80\n",
            "500/500 [==============================] - 28s 56ms/step - loss: 0.0613 - accuracy: 0.9787 - val_loss: 0.8856 - val_accuracy: 0.8289\n",
            "Epoch 73/80\n",
            "500/500 [==============================] - 28s 57ms/step - loss: 0.0606 - accuracy: 0.9791 - val_loss: 0.9285 - val_accuracy: 0.8258\n",
            "Epoch 74/80\n",
            "500/500 [==============================] - 28s 57ms/step - loss: 0.0601 - accuracy: 0.9799 - val_loss: 0.9053 - val_accuracy: 0.8297\n",
            "Epoch 75/80\n",
            "500/500 [==============================] - 28s 57ms/step - loss: 0.0588 - accuracy: 0.9803 - val_loss: 0.9390 - val_accuracy: 0.8269\n",
            "Epoch 76/80\n",
            "500/500 [==============================] - 28s 56ms/step - loss: 0.0563 - accuracy: 0.9809 - val_loss: 0.9273 - val_accuracy: 0.8247\n",
            "Epoch 77/80\n",
            "500/500 [==============================] - 28s 56ms/step - loss: 0.0588 - accuracy: 0.9808 - val_loss: 0.9604 - val_accuracy: 0.8306\n",
            "Epoch 78/80\n",
            "500/500 [==============================] - 28s 56ms/step - loss: 0.0597 - accuracy: 0.9793 - val_loss: 0.9904 - val_accuracy: 0.8276\n",
            "Epoch 79/80\n",
            "500/500 [==============================] - 29s 57ms/step - loss: 0.0538 - accuracy: 0.9821 - val_loss: 0.9164 - val_accuracy: 0.8285\n",
            "Epoch 80/80\n",
            "500/500 [==============================] - 28s 57ms/step - loss: 0.0522 - accuracy: 0.9817 - val_loss: 0.9235 - val_accuracy: 0.8334\n",
            "Model success\n",
            "Epoch 1/80\n",
            "500/500 [==============================] - 7s 12ms/step - loss: 1.8432 - accuracy: 0.3276 - val_loss: 1.5218 - val_accuracy: 0.4603\n",
            "Epoch 2/80\n",
            "500/500 [==============================] - 5s 11ms/step - loss: 1.5034 - accuracy: 0.4552 - val_loss: 1.3566 - val_accuracy: 0.5156\n",
            "Epoch 3/80\n",
            "500/500 [==============================] - 5s 11ms/step - loss: 1.3779 - accuracy: 0.5028 - val_loss: 1.2532 - val_accuracy: 0.5553\n",
            "Epoch 4/80\n",
            "500/500 [==============================] - 6s 12ms/step - loss: 1.2957 - accuracy: 0.5362 - val_loss: 1.1858 - val_accuracy: 0.5852\n",
            "Epoch 5/80\n",
            "500/500 [==============================] - 6s 11ms/step - loss: 1.2337 - accuracy: 0.5615 - val_loss: 1.1314 - val_accuracy: 0.6019\n",
            "Epoch 6/80\n",
            "500/500 [==============================] - 5s 11ms/step - loss: 1.1724 - accuracy: 0.5819 - val_loss: 1.0759 - val_accuracy: 0.6212\n",
            "Epoch 7/80\n",
            "500/500 [==============================] - 6s 12ms/step - loss: 1.1245 - accuracy: 0.6011 - val_loss: 1.0296 - val_accuracy: 0.6390\n",
            "Epoch 8/80\n",
            "500/500 [==============================] - 6s 12ms/step - loss: 1.0789 - accuracy: 0.6187 - val_loss: 0.9983 - val_accuracy: 0.6504\n",
            "Epoch 9/80\n",
            "500/500 [==============================] - 6s 12ms/step - loss: 1.0322 - accuracy: 0.6365 - val_loss: 0.9612 - val_accuracy: 0.6639\n",
            "Epoch 10/80\n",
            "500/500 [==============================] - 5s 11ms/step - loss: 0.9992 - accuracy: 0.6478 - val_loss: 0.9377 - val_accuracy: 0.6762\n",
            "Epoch 11/80\n",
            "500/500 [==============================] - 5s 11ms/step - loss: 0.9596 - accuracy: 0.6619 - val_loss: 0.8952 - val_accuracy: 0.6898\n",
            "Epoch 12/80\n",
            "500/500 [==============================] - 5s 11ms/step - loss: 0.9357 - accuracy: 0.6699 - val_loss: 0.8787 - val_accuracy: 0.6931\n",
            "Epoch 13/80\n",
            "500/500 [==============================] - 6s 12ms/step - loss: 0.9079 - accuracy: 0.6815 - val_loss: 0.8592 - val_accuracy: 0.7017\n",
            "Epoch 14/80\n",
            "500/500 [==============================] - 6s 12ms/step - loss: 0.8785 - accuracy: 0.6919 - val_loss: 0.8274 - val_accuracy: 0.7152\n",
            "Epoch 15/80\n",
            "500/500 [==============================] - 6s 12ms/step - loss: 0.8535 - accuracy: 0.7003 - val_loss: 0.8134 - val_accuracy: 0.7167\n",
            "Epoch 16/80\n",
            "500/500 [==============================] - 5s 11ms/step - loss: 0.8303 - accuracy: 0.7079 - val_loss: 0.7985 - val_accuracy: 0.7211\n",
            "Epoch 17/80\n",
            "500/500 [==============================] - 5s 11ms/step - loss: 0.8028 - accuracy: 0.7201 - val_loss: 0.7771 - val_accuracy: 0.7298\n",
            "Epoch 18/80\n",
            "500/500 [==============================] - 6s 12ms/step - loss: 0.7865 - accuracy: 0.7243 - val_loss: 0.7888 - val_accuracy: 0.7273\n",
            "Epoch 19/80\n",
            "500/500 [==============================] - 5s 11ms/step - loss: 0.7587 - accuracy: 0.7355 - val_loss: 0.7534 - val_accuracy: 0.7398\n",
            "Epoch 20/80\n",
            "500/500 [==============================] - 5s 11ms/step - loss: 0.7440 - accuracy: 0.7380 - val_loss: 0.7501 - val_accuracy: 0.7430\n",
            "Epoch 21/80\n",
            "500/500 [==============================] - 6s 12ms/step - loss: 0.7267 - accuracy: 0.7439 - val_loss: 0.7327 - val_accuracy: 0.7484\n",
            "Epoch 22/80\n",
            "500/500 [==============================] - 5s 11ms/step - loss: 0.7101 - accuracy: 0.7513 - val_loss: 0.7236 - val_accuracy: 0.7510\n",
            "Epoch 23/80\n",
            "500/500 [==============================] - 6s 12ms/step - loss: 0.6912 - accuracy: 0.7570 - val_loss: 0.7175 - val_accuracy: 0.7527\n",
            "Epoch 24/80\n",
            "500/500 [==============================] - 6s 12ms/step - loss: 0.6766 - accuracy: 0.7641 - val_loss: 0.7029 - val_accuracy: 0.7564\n",
            "Epoch 25/80\n",
            "500/500 [==============================] - 5s 11ms/step - loss: 0.6618 - accuracy: 0.7699 - val_loss: 0.6976 - val_accuracy: 0.7566\n",
            "Epoch 26/80\n",
            "500/500 [==============================] - 6s 12ms/step - loss: 0.6459 - accuracy: 0.7737 - val_loss: 0.6981 - val_accuracy: 0.7593\n",
            "Epoch 27/80\n",
            "500/500 [==============================] - 5s 11ms/step - loss: 0.6296 - accuracy: 0.7791 - val_loss: 0.6791 - val_accuracy: 0.7661\n",
            "Epoch 28/80\n",
            "500/500 [==============================] - 5s 11ms/step - loss: 0.6201 - accuracy: 0.7830 - val_loss: 0.6714 - val_accuracy: 0.7691\n",
            "Epoch 29/80\n",
            "500/500 [==============================] - 5s 11ms/step - loss: 0.6026 - accuracy: 0.7886 - val_loss: 0.6756 - val_accuracy: 0.7658\n",
            "Epoch 30/80\n",
            "500/500 [==============================] - 5s 11ms/step - loss: 0.5905 - accuracy: 0.7921 - val_loss: 0.6678 - val_accuracy: 0.7727\n",
            "Epoch 31/80\n",
            "500/500 [==============================] - 6s 12ms/step - loss: 0.5791 - accuracy: 0.7965 - val_loss: 0.6759 - val_accuracy: 0.7705\n",
            "Epoch 32/80\n",
            "500/500 [==============================] - 5s 11ms/step - loss: 0.5681 - accuracy: 0.8011 - val_loss: 0.6500 - val_accuracy: 0.7770\n",
            "Epoch 33/80\n",
            "500/500 [==============================] - 6s 12ms/step - loss: 0.5582 - accuracy: 0.8034 - val_loss: 0.6508 - val_accuracy: 0.7767\n",
            "Epoch 34/80\n",
            "500/500 [==============================] - 5s 11ms/step - loss: 0.5475 - accuracy: 0.8078 - val_loss: 0.6514 - val_accuracy: 0.7766\n",
            "Epoch 35/80\n",
            "500/500 [==============================] - 5s 11ms/step - loss: 0.5320 - accuracy: 0.8131 - val_loss: 0.6544 - val_accuracy: 0.7770\n",
            "Epoch 36/80\n",
            "500/500 [==============================] - 6s 12ms/step - loss: 0.5208 - accuracy: 0.8167 - val_loss: 0.6439 - val_accuracy: 0.7799\n",
            "Epoch 37/80\n",
            "500/500 [==============================] - 6s 12ms/step - loss: 0.5087 - accuracy: 0.8204 - val_loss: 0.6384 - val_accuracy: 0.7849\n",
            "Epoch 38/80\n",
            "500/500 [==============================] - 6s 12ms/step - loss: 0.5034 - accuracy: 0.8235 - val_loss: 0.6444 - val_accuracy: 0.7794\n",
            "Epoch 39/80\n",
            "500/500 [==============================] - 6s 12ms/step - loss: 0.4902 - accuracy: 0.8275 - val_loss: 0.6306 - val_accuracy: 0.7837\n",
            "Epoch 40/80\n",
            "500/500 [==============================] - 6s 12ms/step - loss: 0.4761 - accuracy: 0.8320 - val_loss: 0.6277 - val_accuracy: 0.7860\n",
            "Epoch 41/80\n",
            "500/500 [==============================] - 6s 12ms/step - loss: 0.4704 - accuracy: 0.8326 - val_loss: 0.6245 - val_accuracy: 0.7874\n",
            "Epoch 42/80\n",
            "500/500 [==============================] - 6s 12ms/step - loss: 0.4590 - accuracy: 0.8383 - val_loss: 0.6316 - val_accuracy: 0.7871\n",
            "Epoch 43/80\n",
            "500/500 [==============================] - 5s 11ms/step - loss: 0.4510 - accuracy: 0.8409 - val_loss: 0.6402 - val_accuracy: 0.7847\n",
            "Epoch 44/80\n",
            "500/500 [==============================] - 5s 11ms/step - loss: 0.4453 - accuracy: 0.8420 - val_loss: 0.6229 - val_accuracy: 0.7862\n",
            "Epoch 45/80\n",
            "500/500 [==============================] - 5s 11ms/step - loss: 0.4328 - accuracy: 0.8486 - val_loss: 0.6282 - val_accuracy: 0.7856\n",
            "Epoch 46/80\n",
            "500/500 [==============================] - 6s 12ms/step - loss: 0.4283 - accuracy: 0.8498 - val_loss: 0.6229 - val_accuracy: 0.7884\n",
            "Epoch 47/80\n",
            "500/500 [==============================] - 6s 12ms/step - loss: 0.4171 - accuracy: 0.8514 - val_loss: 0.6272 - val_accuracy: 0.7853\n",
            "Epoch 48/80\n",
            "500/500 [==============================] - 6s 12ms/step - loss: 0.4127 - accuracy: 0.8535 - val_loss: 0.6253 - val_accuracy: 0.7897\n",
            "Epoch 49/80\n",
            "500/500 [==============================] - 5s 11ms/step - loss: 0.4016 - accuracy: 0.8586 - val_loss: 0.6308 - val_accuracy: 0.7874\n",
            "Epoch 50/80\n",
            "500/500 [==============================] - 5s 11ms/step - loss: 0.3952 - accuracy: 0.8585 - val_loss: 0.6285 - val_accuracy: 0.7899\n",
            "Epoch 51/80\n",
            "500/500 [==============================] - 6s 12ms/step - loss: 0.3887 - accuracy: 0.8628 - val_loss: 0.6218 - val_accuracy: 0.7849\n",
            "Epoch 52/80\n",
            "500/500 [==============================] - 5s 11ms/step - loss: 0.3819 - accuracy: 0.8632 - val_loss: 0.6266 - val_accuracy: 0.7868\n",
            "Epoch 53/80\n",
            "500/500 [==============================] - 6s 12ms/step - loss: 0.3743 - accuracy: 0.8672 - val_loss: 0.6195 - val_accuracy: 0.7939\n",
            "Epoch 54/80\n",
            "500/500 [==============================] - 6s 12ms/step - loss: 0.3691 - accuracy: 0.8668 - val_loss: 0.6245 - val_accuracy: 0.7907\n",
            "Epoch 55/80\n",
            "500/500 [==============================] - 5s 11ms/step - loss: 0.3646 - accuracy: 0.8702 - val_loss: 0.6265 - val_accuracy: 0.7925\n",
            "Epoch 56/80\n",
            "500/500 [==============================] - 6s 12ms/step - loss: 0.3523 - accuracy: 0.8740 - val_loss: 0.6272 - val_accuracy: 0.7907\n",
            "Epoch 57/80\n",
            "500/500 [==============================] - 5s 11ms/step - loss: 0.3490 - accuracy: 0.8762 - val_loss: 0.6178 - val_accuracy: 0.7956\n",
            "Epoch 58/80\n",
            "500/500 [==============================] - 5s 11ms/step - loss: 0.3428 - accuracy: 0.8756 - val_loss: 0.6291 - val_accuracy: 0.7930\n",
            "Epoch 59/80\n",
            "500/500 [==============================] - 5s 11ms/step - loss: 0.3373 - accuracy: 0.8791 - val_loss: 0.6309 - val_accuracy: 0.7925\n",
            "Epoch 60/80\n",
            "500/500 [==============================] - 5s 11ms/step - loss: 0.3348 - accuracy: 0.8803 - val_loss: 0.6333 - val_accuracy: 0.7968\n",
            "Epoch 61/80\n",
            "500/500 [==============================] - 6s 12ms/step - loss: 0.3283 - accuracy: 0.8837 - val_loss: 0.6304 - val_accuracy: 0.7949\n",
            "Epoch 62/80\n",
            "500/500 [==============================] - 5s 11ms/step - loss: 0.3201 - accuracy: 0.8860 - val_loss: 0.6370 - val_accuracy: 0.7948\n",
            "Epoch 63/80\n",
            "500/500 [==============================] - 6s 12ms/step - loss: 0.3166 - accuracy: 0.8854 - val_loss: 0.6268 - val_accuracy: 0.7948\n",
            "Epoch 64/80\n",
            "500/500 [==============================] - 5s 11ms/step - loss: 0.3056 - accuracy: 0.8900 - val_loss: 0.6427 - val_accuracy: 0.7941\n",
            "Epoch 65/80\n",
            "500/500 [==============================] - 6s 12ms/step - loss: 0.3051 - accuracy: 0.8909 - val_loss: 0.6382 - val_accuracy: 0.7964\n",
            "Epoch 66/80\n",
            "500/500 [==============================] - 6s 12ms/step - loss: 0.2979 - accuracy: 0.8943 - val_loss: 0.6485 - val_accuracy: 0.7980\n",
            "Epoch 67/80\n",
            "500/500 [==============================] - 6s 13ms/step - loss: 0.2952 - accuracy: 0.8954 - val_loss: 0.6489 - val_accuracy: 0.7936\n",
            "Epoch 68/80\n",
            "500/500 [==============================] - 6s 12ms/step - loss: 0.2922 - accuracy: 0.8951 - val_loss: 0.6366 - val_accuracy: 0.7966\n",
            "Epoch 69/80\n",
            "500/500 [==============================] - 6s 12ms/step - loss: 0.2849 - accuracy: 0.8975 - val_loss: 0.6498 - val_accuracy: 0.7960\n",
            "Epoch 70/80\n",
            "500/500 [==============================] - 6s 12ms/step - loss: 0.2799 - accuracy: 0.8998 - val_loss: 0.6461 - val_accuracy: 0.7930\n",
            "Epoch 71/80\n",
            "500/500 [==============================] - 6s 12ms/step - loss: 0.2761 - accuracy: 0.9010 - val_loss: 0.6355 - val_accuracy: 0.7958\n",
            "Epoch 72/80\n",
            "500/500 [==============================] - 5s 11ms/step - loss: 0.2774 - accuracy: 0.9007 - val_loss: 0.6355 - val_accuracy: 0.7990\n",
            "Epoch 73/80\n",
            "500/500 [==============================] - 6s 12ms/step - loss: 0.2634 - accuracy: 0.9059 - val_loss: 0.6443 - val_accuracy: 0.7985\n",
            "Epoch 74/80\n",
            "500/500 [==============================] - 6s 12ms/step - loss: 0.2652 - accuracy: 0.9058 - val_loss: 0.6479 - val_accuracy: 0.7979\n",
            "Epoch 75/80\n",
            "500/500 [==============================] - 6s 12ms/step - loss: 0.2591 - accuracy: 0.9066 - val_loss: 0.6410 - val_accuracy: 0.7988\n",
            "Epoch 76/80\n",
            "500/500 [==============================] - 6s 12ms/step - loss: 0.2579 - accuracy: 0.9080 - val_loss: 0.6421 - val_accuracy: 0.7996\n",
            "Epoch 77/80\n",
            "500/500 [==============================] - 6s 12ms/step - loss: 0.2522 - accuracy: 0.9105 - val_loss: 0.6430 - val_accuracy: 0.7995\n",
            "Epoch 78/80\n",
            "500/500 [==============================] - 6s 12ms/step - loss: 0.2519 - accuracy: 0.9090 - val_loss: 0.6565 - val_accuracy: 0.7961\n",
            "Epoch 79/80\n",
            "500/500 [==============================] - 6s 12ms/step - loss: 0.2458 - accuracy: 0.9121 - val_loss: 0.6486 - val_accuracy: 0.8001\n",
            "Epoch 80/80\n",
            "500/500 [==============================] - 6s 12ms/step - loss: 0.2454 - accuracy: 0.9121 - val_loss: 0.6615 - val_accuracy: 0.7976\n",
            "Model success\n"
          ]
        }
      ],
      "source": [
        "path = os.getcwd() + '/models/h5files/'\n",
        "\n",
        "if not os.path.exists(path):\n",
        "    os.makedirs(path)\n",
        "\n",
        "# Fit neural network models to training data\n",
        "for model_ind, model in enumerate(models):  \n",
        "    history.append(\n",
        "      model.fit_generator(\n",
        "          datagen.flow(x_train, y_train_categorical, batch_size=batch_size),\n",
        "          steps_per_epoch=len(x_train)/batch_size,\n",
        "          epochs=epochs,\n",
        "          verbose=1,\n",
        "          validation_data = (x_test, y_test_categorical)))\n",
        "    \n",
        "    model.save_weights(path + prefix + '_' + model_names[model_ind] + \".h5\")\n",
        "    \n",
        "    print (\"Model success\")"
      ]
    },
    {
      "cell_type": "code",
      "execution_count": 30,
      "id": "96cb20b2",
      "metadata": {
        "colab": {
          "base_uri": "https://localhost:8080/"
        },
        "id": "96cb20b2",
        "outputId": "9858305d-d761-4de3-9659-501c66d777e8"
      },
      "outputs": [
        {
          "output_type": "stream",
          "name": "stdout",
          "text": [
            "CNN_Input_1 # of Parameters: 6684810\n",
            "\n",
            "\n",
            "CNN_Input_2 # of Parameters: 1250858\n",
            "\n",
            "\n"
          ]
        }
      ],
      "source": [
        "# Print the number of model parameters\n",
        "for model in models:\n",
        "    print(f'{model_names[models.index(model)]} # of Parameters:', model.count_params())\n",
        "    print('\\n')"
      ]
    },
    {
      "cell_type": "code",
      "execution_count": 31,
      "id": "e22ddd99",
      "metadata": {
        "colab": {
          "base_uri": "https://localhost:8080/"
        },
        "id": "e22ddd99",
        "outputId": "3f9a0149-3612-4c14-edd9-f9febb67b02c"
      },
      "outputs": [
        {
          "output_type": "stream",
          "name": "stdout",
          "text": [
            "CNN_Input_1 Absolute Error: 0.167\n",
            "\n",
            "\n",
            "CNN_Input_2 Absolute Error: 0.202\n",
            "\n",
            "\n"
          ]
        }
      ],
      "source": [
        "# Print the absolute error\n",
        "for model in models:\n",
        "    # The absolute error is X, thus the accuracy is 1-X\n",
        "    predicted_x = model.predict(x_test)\n",
        "    residuals = np.argmax(predicted_x, 1)!=np.argmax(y_test_categorical, 1)\n",
        "\n",
        "    loss = sum(residuals)/len(residuals)\n",
        "    print(f'{model_names[models.index(model)]} Absolute Error:', round(loss, 3))\n",
        "    print('\\n')"
      ]
    },
    {
      "cell_type": "code",
      "source": [
        "# Get metrics for models on unseen data\n",
        "for model in models:\n",
        "    score = model.evaluate(x_test, y_test_categorical, verbose=0)\n",
        "    print(f'{model_names[models.index(model)]} Test loss:', round(score[0], 3))\n",
        "    print(f'{model_names[models.index(model)]} Test accuracy:', round(score[1], 3))\n",
        "    print('\\n')"
      ],
      "metadata": {
        "colab": {
          "base_uri": "https://localhost:8080/"
        },
        "id": "FRC-nrRU0Efm",
        "outputId": "a5f38f59-183b-4ed3-91fb-2f3fa225bcc6"
      },
      "id": "FRC-nrRU0Efm",
      "execution_count": 32,
      "outputs": [
        {
          "output_type": "stream",
          "name": "stdout",
          "text": [
            "CNN_Input_1 Test loss: 0.923\n",
            "CNN_Input_1 Test accuracy: 0.833\n",
            "\n",
            "\n",
            "CNN_Input_2 Test loss: 0.662\n",
            "CNN_Input_2 Test accuracy: 0.798\n",
            "\n",
            "\n"
          ]
        }
      ]
    },
    {
      "cell_type": "code",
      "execution_count": 33,
      "id": "e008eeff",
      "metadata": {
        "id": "e008eeff"
      },
      "outputs": [],
      "source": [
        "path = os.getcwd() + '/models/viz/'\n",
        "\n",
        "if not os.path.exists(path):\n",
        "    os.makedirs(path)\n",
        "\n",
        "# Visualize the CNN model architectures\n",
        "for i, model in enumerate(models):\n",
        "    plot_model(model, \n",
        "               path + prefix + '_' + model_names[i] + '.png', \n",
        "               show_shapes=True)\n",
        "    \n",
        "    ann_viz(model, \n",
        "            filename=path + prefix + '_' + model_names[i] + '.gv', \n",
        "            title='Visualisation of ' + model_names[i])"
      ]
    },
    {
      "cell_type": "code",
      "source": [
        "# Summarize models\n",
        "for i, model in enumerate(models):\n",
        "    model.summary()\n",
        "    print('\\n'*2)"
      ],
      "metadata": {
        "colab": {
          "base_uri": "https://localhost:8080/"
        },
        "id": "MZNSh3wce8Wi",
        "outputId": "11e813dc-545a-4286-f16c-51ff2a2b9989"
      },
      "id": "MZNSh3wce8Wi",
      "execution_count": 34,
      "outputs": [
        {
          "output_type": "stream",
          "name": "stdout",
          "text": [
            "Model: \"sequential\"\n",
            "_________________________________________________________________\n",
            " Layer (type)                Output Shape              Param #   \n",
            "=================================================================\n",
            " conv2d (Conv2D)             (None, 32, 32, 128)       3584      \n",
            "                                                                 \n",
            " activation (Activation)     (None, 32, 32, 128)       0         \n",
            "                                                                 \n",
            " conv2d_1 (Conv2D)           (None, 30, 30, 128)       147584    \n",
            "                                                                 \n",
            " activation_1 (Activation)   (None, 30, 30, 128)       0         \n",
            "                                                                 \n",
            " max_pooling2d (MaxPooling2D  (None, 15, 15, 128)      0         \n",
            " )                                                               \n",
            "                                                                 \n",
            " dropout (Dropout)           (None, 15, 15, 128)       0         \n",
            "                                                                 \n",
            " conv2d_2 (Conv2D)           (None, 15, 15, 256)       295168    \n",
            "                                                                 \n",
            " activation_2 (Activation)   (None, 15, 15, 256)       0         \n",
            "                                                                 \n",
            " conv2d_3 (Conv2D)           (None, 13, 13, 256)       590080    \n",
            "                                                                 \n",
            " activation_3 (Activation)   (None, 13, 13, 256)       0         \n",
            "                                                                 \n",
            " max_pooling2d_1 (MaxPooling  (None, 6, 6, 256)        0         \n",
            " 2D)                                                             \n",
            "                                                                 \n",
            " dropout_1 (Dropout)         (None, 6, 6, 256)         0         \n",
            "                                                                 \n",
            " conv2d_4 (Conv2D)           (None, 6, 6, 512)         1180160   \n",
            "                                                                 \n",
            " activation_4 (Activation)   (None, 6, 6, 512)         0         \n",
            "                                                                 \n",
            " conv2d_5 (Conv2D)           (None, 4, 4, 512)         2359808   \n",
            "                                                                 \n",
            " activation_5 (Activation)   (None, 4, 4, 512)         0         \n",
            "                                                                 \n",
            " max_pooling2d_2 (MaxPooling  (None, 2, 2, 512)        0         \n",
            " 2D)                                                             \n",
            "                                                                 \n",
            " dropout_2 (Dropout)         (None, 2, 2, 512)         0         \n",
            "                                                                 \n",
            " flatten (Flatten)           (None, 2048)              0         \n",
            "                                                                 \n",
            " dense (Dense)               (None, 1024)              2098176   \n",
            "                                                                 \n",
            " activation_6 (Activation)   (None, 1024)              0         \n",
            "                                                                 \n",
            " dropout_3 (Dropout)         (None, 1024)              0         \n",
            "                                                                 \n",
            " dense_1 (Dense)             (None, 10)                10250     \n",
            "                                                                 \n",
            " activation_7 (Activation)   (None, 10)                0         \n",
            "                                                                 \n",
            "=================================================================\n",
            "Total params: 6,684,810\n",
            "Trainable params: 6,684,810\n",
            "Non-trainable params: 0\n",
            "_________________________________________________________________\n",
            "\n",
            "\n",
            "\n",
            "Model: \"sequential_1\"\n",
            "_________________________________________________________________\n",
            " Layer (type)                Output Shape              Param #   \n",
            "=================================================================\n",
            " conv2d_6 (Conv2D)           (None, 32, 32, 32)        896       \n",
            "                                                                 \n",
            " activation_8 (Activation)   (None, 32, 32, 32)        0         \n",
            "                                                                 \n",
            " conv2d_7 (Conv2D)           (None, 30, 30, 32)        9248      \n",
            "                                                                 \n",
            " activation_9 (Activation)   (None, 30, 30, 32)        0         \n",
            "                                                                 \n",
            " max_pooling2d_3 (MaxPooling  (None, 15, 15, 32)       0         \n",
            " 2D)                                                             \n",
            "                                                                 \n",
            " dropout_4 (Dropout)         (None, 15, 15, 32)        0         \n",
            "                                                                 \n",
            " conv2d_8 (Conv2D)           (None, 15, 15, 64)        18496     \n",
            "                                                                 \n",
            " activation_10 (Activation)  (None, 15, 15, 64)        0         \n",
            "                                                                 \n",
            " conv2d_9 (Conv2D)           (None, 13, 13, 64)        36928     \n",
            "                                                                 \n",
            " activation_11 (Activation)  (None, 13, 13, 64)        0         \n",
            "                                                                 \n",
            " max_pooling2d_4 (MaxPooling  (None, 6, 6, 64)         0         \n",
            " 2D)                                                             \n",
            "                                                                 \n",
            " dropout_5 (Dropout)         (None, 6, 6, 64)          0         \n",
            "                                                                 \n",
            " flatten_1 (Flatten)         (None, 2304)              0         \n",
            "                                                                 \n",
            " dense_2 (Dense)             (None, 512)               1180160   \n",
            "                                                                 \n",
            " activation_12 (Activation)  (None, 512)               0         \n",
            "                                                                 \n",
            " dropout_6 (Dropout)         (None, 512)               0         \n",
            "                                                                 \n",
            " dense_3 (Dense)             (None, 10)                5130      \n",
            "                                                                 \n",
            " activation_13 (Activation)  (None, 10)                0         \n",
            "                                                                 \n",
            "=================================================================\n",
            "Total params: 1,250,858\n",
            "Trainable params: 1,250,858\n",
            "Non-trainable params: 0\n",
            "_________________________________________________________________\n",
            "\n",
            "\n",
            "\n"
          ]
        }
      ]
    },
    {
      "cell_type": "markdown",
      "source": [
        "### 3.1. VGG-16 Intermediate Dataset"
      ],
      "metadata": {
        "id": "ZQKb53OFI0-7"
      },
      "id": "ZQKb53OFI0-7"
    },
    {
      "cell_type": "code",
      "source": [
        "# Upload h5 files with VGG-16's weights and unzip\n",
        "!unzip model_weights_cifarvgg.zip"
      ],
      "metadata": {
        "colab": {
          "base_uri": "https://localhost:8080/"
        },
        "id": "cfdzTjvN_VI9",
        "outputId": "13a73203-aef3-424e-e38a-fc3ff2737545"
      },
      "id": "cfdzTjvN_VI9",
      "execution_count": 35,
      "outputs": [
        {
          "output_type": "stream",
          "name": "stdout",
          "text": [
            "Archive:  model_weights_cifarvgg.zip\n",
            "  inflating: model_weights_cifarvgg/cifar100vgg.h5  \n",
            "  inflating: model_weights_cifarvgg/cifar10vgg.h5  \n"
          ]
        }
      ]
    },
    {
      "cell_type": "code",
      "source": [
        "# Remove zip file with the weights\n",
        "!rm model_weights_cifarvgg.zip"
      ],
      "metadata": {
        "id": "T_trPuB_7Xnc"
      },
      "id": "T_trPuB_7Xnc",
      "execution_count": 36,
      "outputs": []
    },
    {
      "cell_type": "code",
      "source": [
        "# The weights for VGG-16 trained on CIFAR are available online\n",
        "# Therefore, this model does not need to be retrained\n",
        "# The pretrained weights can be found on https://github.com/geifmany/cifar-vgg\n",
        "vgg_16 = cifar10vgg(train=False)"
      ],
      "metadata": {
        "id": "E1zxGroBABOL"
      },
      "id": "E1zxGroBABOL",
      "execution_count": 37,
      "outputs": []
    },
    {
      "cell_type": "code",
      "source": [
        "print('VGG-16 # of Parameters:', vgg_16.model.count_params())"
      ],
      "metadata": {
        "colab": {
          "base_uri": "https://localhost:8080/"
        },
        "id": "WDXXqhjTJCFX",
        "outputId": "02b0d4fd-3005-4f89-f00b-eb6598bf4aa7"
      },
      "id": "WDXXqhjTJCFX",
      "execution_count": 38,
      "outputs": [
        {
          "output_type": "stream",
          "name": "stdout",
          "text": [
            "VGG-16 # of Parameters: 15001418\n"
          ]
        }
      ]
    },
    {
      "cell_type": "code",
      "source": [
        "# The absolute error is X, thus the accuracy is 1-X\n",
        "predicted_x = vgg_16.predict(x_test, normalize=False)\n",
        "residuals = np.argmax(predicted_x, 1)!=np.argmax(y_test_categorical, 1)\n",
        "\n",
        "loss = sum(residuals)/len(residuals)\n",
        "print('VGG-16 Absolute Error:', round(loss, 3))\n",
        "# An absolute error of 0.064 represents an accuracy of 0.936"
      ],
      "metadata": {
        "colab": {
          "base_uri": "https://localhost:8080/"
        },
        "id": "EYGycnGFJB-t",
        "outputId": "2aa50ab7-25d3-404a-9d80-ce3608412f88"
      },
      "id": "EYGycnGFJB-t",
      "execution_count": 39,
      "outputs": [
        {
          "output_type": "stream",
          "name": "stdout",
          "text": [
            "VGG-16 Absolute Error: 0.064\n"
          ]
        }
      ]
    },
    {
      "cell_type": "code",
      "source": [
        "# Add VGG-16 to model list\n",
        "models.append(keras.models.clone_model(vgg_16.model))\n",
        "model_names.append('VGG_16')\n",
        "models[model_names.index('VGG_16')].set_weights(vgg_16.model.get_weights())"
      ],
      "metadata": {
        "id": "uCqeAfRNAsnR"
      },
      "id": "uCqeAfRNAsnR",
      "execution_count": 40,
      "outputs": []
    },
    {
      "cell_type": "code",
      "source": [
        "# # Visualize VGG-16 model architectures\n",
        "# ann_viz(vgg_16.model, \n",
        "#         filename=path + prefix + '_VGG_16.gv',\n",
        "#         title='Visualization of VGG-16')"
      ],
      "metadata": {
        "id": "dH3QNUPlDabi"
      },
      "id": "dH3QNUPlDabi",
      "execution_count": 41,
      "outputs": []
    },
    {
      "cell_type": "code",
      "source": [
        "# Summarize VGG-16 model\n",
        "vgg_16.model.summary()"
      ],
      "metadata": {
        "colab": {
          "base_uri": "https://localhost:8080/"
        },
        "id": "NInf8Bx-d6EU",
        "outputId": "5bb3ebf8-1f21-4017-d17f-d46950b00c70"
      },
      "id": "NInf8Bx-d6EU",
      "execution_count": 42,
      "outputs": [
        {
          "output_type": "stream",
          "name": "stdout",
          "text": [
            "Model: \"sequential_2\"\n",
            "_________________________________________________________________\n",
            " Layer (type)                Output Shape              Param #   \n",
            "=================================================================\n",
            " conv2d_10 (Conv2D)          (None, 32, 32, 64)        1792      \n",
            "                                                                 \n",
            " activation_14 (Activation)  (None, 32, 32, 64)        0         \n",
            "                                                                 \n",
            " batch_normalization (BatchN  (None, 32, 32, 64)       256       \n",
            " ormalization)                                                   \n",
            "                                                                 \n",
            " dropout_7 (Dropout)         (None, 32, 32, 64)        0         \n",
            "                                                                 \n",
            " conv2d_11 (Conv2D)          (None, 32, 32, 64)        36928     \n",
            "                                                                 \n",
            " activation_15 (Activation)  (None, 32, 32, 64)        0         \n",
            "                                                                 \n",
            " batch_normalization_1 (Batc  (None, 32, 32, 64)       256       \n",
            " hNormalization)                                                 \n",
            "                                                                 \n",
            " max_pooling2d_5 (MaxPooling  (None, 16, 16, 64)       0         \n",
            " 2D)                                                             \n",
            "                                                                 \n",
            " conv2d_12 (Conv2D)          (None, 16, 16, 128)       73856     \n",
            "                                                                 \n",
            " activation_16 (Activation)  (None, 16, 16, 128)       0         \n",
            "                                                                 \n",
            " batch_normalization_2 (Batc  (None, 16, 16, 128)      512       \n",
            " hNormalization)                                                 \n",
            "                                                                 \n",
            " dropout_8 (Dropout)         (None, 16, 16, 128)       0         \n",
            "                                                                 \n",
            " conv2d_13 (Conv2D)          (None, 16, 16, 128)       147584    \n",
            "                                                                 \n",
            " activation_17 (Activation)  (None, 16, 16, 128)       0         \n",
            "                                                                 \n",
            " batch_normalization_3 (Batc  (None, 16, 16, 128)      512       \n",
            " hNormalization)                                                 \n",
            "                                                                 \n",
            " max_pooling2d_6 (MaxPooling  (None, 8, 8, 128)        0         \n",
            " 2D)                                                             \n",
            "                                                                 \n",
            " conv2d_14 (Conv2D)          (None, 8, 8, 256)         295168    \n",
            "                                                                 \n",
            " activation_18 (Activation)  (None, 8, 8, 256)         0         \n",
            "                                                                 \n",
            " batch_normalization_4 (Batc  (None, 8, 8, 256)        1024      \n",
            " hNormalization)                                                 \n",
            "                                                                 \n",
            " dropout_9 (Dropout)         (None, 8, 8, 256)         0         \n",
            "                                                                 \n",
            " conv2d_15 (Conv2D)          (None, 8, 8, 256)         590080    \n",
            "                                                                 \n",
            " activation_19 (Activation)  (None, 8, 8, 256)         0         \n",
            "                                                                 \n",
            " batch_normalization_5 (Batc  (None, 8, 8, 256)        1024      \n",
            " hNormalization)                                                 \n",
            "                                                                 \n",
            " dropout_10 (Dropout)        (None, 8, 8, 256)         0         \n",
            "                                                                 \n",
            " conv2d_16 (Conv2D)          (None, 8, 8, 256)         590080    \n",
            "                                                                 \n",
            " activation_20 (Activation)  (None, 8, 8, 256)         0         \n",
            "                                                                 \n",
            " batch_normalization_6 (Batc  (None, 8, 8, 256)        1024      \n",
            " hNormalization)                                                 \n",
            "                                                                 \n",
            " max_pooling2d_7 (MaxPooling  (None, 4, 4, 256)        0         \n",
            " 2D)                                                             \n",
            "                                                                 \n",
            " conv2d_17 (Conv2D)          (None, 4, 4, 512)         1180160   \n",
            "                                                                 \n",
            " activation_21 (Activation)  (None, 4, 4, 512)         0         \n",
            "                                                                 \n",
            " batch_normalization_7 (Batc  (None, 4, 4, 512)        2048      \n",
            " hNormalization)                                                 \n",
            "                                                                 \n",
            " dropout_11 (Dropout)        (None, 4, 4, 512)         0         \n",
            "                                                                 \n",
            " conv2d_18 (Conv2D)          (None, 4, 4, 512)         2359808   \n",
            "                                                                 \n",
            " activation_22 (Activation)  (None, 4, 4, 512)         0         \n",
            "                                                                 \n",
            " batch_normalization_8 (Batc  (None, 4, 4, 512)        2048      \n",
            " hNormalization)                                                 \n",
            "                                                                 \n",
            " dropout_12 (Dropout)        (None, 4, 4, 512)         0         \n",
            "                                                                 \n",
            " conv2d_19 (Conv2D)          (None, 4, 4, 512)         2359808   \n",
            "                                                                 \n",
            " activation_23 (Activation)  (None, 4, 4, 512)         0         \n",
            "                                                                 \n",
            " batch_normalization_9 (Batc  (None, 4, 4, 512)        2048      \n",
            " hNormalization)                                                 \n",
            "                                                                 \n",
            " max_pooling2d_8 (MaxPooling  (None, 2, 2, 512)        0         \n",
            " 2D)                                                             \n",
            "                                                                 \n",
            " conv2d_20 (Conv2D)          (None, 2, 2, 512)         2359808   \n",
            "                                                                 \n",
            " activation_24 (Activation)  (None, 2, 2, 512)         0         \n",
            "                                                                 \n",
            " batch_normalization_10 (Bat  (None, 2, 2, 512)        2048      \n",
            " chNormalization)                                                \n",
            "                                                                 \n",
            " dropout_13 (Dropout)        (None, 2, 2, 512)         0         \n",
            "                                                                 \n",
            " conv2d_21 (Conv2D)          (None, 2, 2, 512)         2359808   \n",
            "                                                                 \n",
            " activation_25 (Activation)  (None, 2, 2, 512)         0         \n",
            "                                                                 \n",
            " batch_normalization_11 (Bat  (None, 2, 2, 512)        2048      \n",
            " chNormalization)                                                \n",
            "                                                                 \n",
            " dropout_14 (Dropout)        (None, 2, 2, 512)         0         \n",
            "                                                                 \n",
            " conv2d_22 (Conv2D)          (None, 2, 2, 512)         2359808   \n",
            "                                                                 \n",
            " activation_26 (Activation)  (None, 2, 2, 512)         0         \n",
            "                                                                 \n",
            " batch_normalization_12 (Bat  (None, 2, 2, 512)        2048      \n",
            " chNormalization)                                                \n",
            "                                                                 \n",
            " max_pooling2d_9 (MaxPooling  (None, 1, 1, 512)        0         \n",
            " 2D)                                                             \n",
            "                                                                 \n",
            " dropout_15 (Dropout)        (None, 1, 1, 512)         0         \n",
            "                                                                 \n",
            " flatten_2 (Flatten)         (None, 512)               0         \n",
            "                                                                 \n",
            " dense_4 (Dense)             (None, 512)               262656    \n",
            "                                                                 \n",
            " activation_27 (Activation)  (None, 512)               0         \n",
            "                                                                 \n",
            " batch_normalization_13 (Bat  (None, 512)              2048      \n",
            " chNormalization)                                                \n",
            "                                                                 \n",
            " dropout_16 (Dropout)        (None, 512)               0         \n",
            "                                                                 \n",
            " dense_5 (Dense)             (None, 10)                5130      \n",
            "                                                                 \n",
            " activation_28 (Activation)  (None, 10)                0         \n",
            "                                                                 \n",
            "=================================================================\n",
            "Total params: 15,001,418\n",
            "Trainable params: 14,991,946\n",
            "Non-trainable params: 9,472\n",
            "_________________________________________________________________\n"
          ]
        }
      ]
    },
    {
      "cell_type": "markdown",
      "source": [
        "## 4. Remove the Fully-connected layers"
      ],
      "metadata": {
        "id": "PqA28l6ZUW1W"
      },
      "id": "PqA28l6ZUW1W"
    },
    {
      "cell_type": "code",
      "execution_count": 43,
      "id": "421f9786",
      "metadata": {
        "id": "421f9786"
      },
      "outputs": [],
      "source": [
        "# Cut the models to remove everything after the flattening layer (remove fully-connected layers)\n",
        "# output_models = []\n",
        "for model in models:\n",
        "    cut_model(model)\n",
        "    # output_models.append(out)"
      ]
    },
    {
      "cell_type": "code",
      "execution_count": 44,
      "id": "47fe2a1e",
      "metadata": {
        "id": "47fe2a1e"
      },
      "outputs": [],
      "source": [
        "# Create output files\n",
        "now = datetime.datetime.now()\n",
        "prefix = now.strftime(\"%Y%m%d_%H%M\")\n",
        "create_output_files(x_train, \n",
        "                    x_test, \n",
        "                    y_train, \n",
        "                    y_test, \n",
        "                    prefix, \n",
        "                    suffix = \"_\" + treat_data)"
      ]
    },
    {
      "cell_type": "code",
      "execution_count": 45,
      "id": "80855dfe",
      "metadata": {
        "colab": {
          "base_uri": "https://localhost:8080/",
          "height": 590
        },
        "id": "80855dfe",
        "outputId": "40e02ed0-08d4-4a9d-ae39-ef354da614a7"
      },
      "outputs": [
        {
          "output_type": "stream",
          "name": "stdout",
          "text": [
            "Model: CNN_Input_1\n"
          ]
        },
        {
          "output_type": "display_data",
          "data": {
            "text/plain": [
              "<Figure size 432x288 with 1 Axes>"
            ],
            "image/png": "[encoded data removed]"
          },
          "metadata": {
            "needs_background": "light"
          }
        },
        {
          "output_type": "display_data",
          "data": {
            "text/plain": [
              "<Figure size 432x288 with 1 Axes>"
            ],
            "image/png": "[encoded data removed]"
          },
          "metadata": {
            "needs_background": "light"
          }
        }
      ],
      "source": [
        "# Plot history of model training\n",
        "index = 0\n",
        "print(f'Model: {model_names[index]}')\n",
        "\n",
        "plot_model_stats(history[index])"
      ]
    },
    {
      "cell_type": "code",
      "source": [
        "index = 1\n",
        "print(f'Model: {model_names[index]}')\n",
        "\n",
        "plot_model_stats(history[index])"
      ],
      "metadata": {
        "id": "yB4wq739QJOR",
        "colab": {
          "base_uri": "https://localhost:8080/",
          "height": 590
        },
        "outputId": "f939e18c-8867-4964-e601-e0ca6a489398"
      },
      "id": "yB4wq739QJOR",
      "execution_count": 46,
      "outputs": [
        {
          "output_type": "stream",
          "name": "stdout",
          "text": [
            "Model: CNN_Input_2\n"
          ]
        },
        {
          "output_type": "display_data",
          "data": {
            "text/plain": [
              "<Figure size 432x288 with 1 Axes>"
            ],
            "image/png": "[encoded data removed]"
          },
          "metadata": {
            "needs_background": "light"
          }
        },
        {
          "output_type": "display_data",
          "data": {
            "text/plain": [
              "<Figure size 432x288 with 1 Axes>"
            ],
            "image/png": "[encoded data removed]"
          },
          "metadata": {
            "needs_background": "light"
          }
        }
      ]
    },
    {
      "cell_type": "code",
      "execution_count": 47,
      "id": "c3880feb",
      "metadata": {
        "id": "c3880feb",
        "colab": {
          "base_uri": "https://localhost:8080/"
        },
        "outputId": "5b6d316a-f588-444f-a1c6-d2f71db4192a"
      },
      "outputs": [
        {
          "output_type": "stream",
          "name": "stdout",
          "text": [
            "  adding: content/ (stored 0%)\n",
            "  adding: content/.config/ (stored 0%)\n",
            "  adding: content/.config/.last_survey_prompt.yaml (stored 0%)\n",
            "  adding: content/.config/.last_opt_in_prompt.yaml (stored 0%)\n",
            "  adding: content/.config/configurations/ (stored 0%)\n",
            "  adding: content/.config/configurations/config_default (deflated 15%)\n",
            "  adding: content/.config/active_config (stored 0%)\n",
            "  adding: content/.config/.last_update_check.json (deflated 22%)\n",
            "  adding: content/.config/config_sentinel (stored 0%)\n",
            "  adding: content/.config/logs/ (stored 0%)\n",
            "  adding: content/.config/logs/2022.08.15/ (stored 0%)\n",
            "  adding: content/.config/logs/2022.08.15/13.44.12.999341.log (deflated 86%)\n",
            "  adding: content/.config/logs/2022.08.15/13.43.32.260465.log (deflated 91%)\n",
            "  adding: content/.config/logs/2022.08.15/13.44.40.370262.log (deflated 55%)\n",
            "  adding: content/.config/logs/2022.08.15/13.43.53.840714.log (deflated 53%)\n",
            "  adding: content/.config/logs/2022.08.15/13.44.20.441098.log (deflated 54%)\n",
            "  adding: content/.config/logs/2022.08.15/13.44.41.125604.log (deflated 54%)\n",
            "  adding: content/.config/gce (stored 0%)\n",
            "  adding: content/data/ (stored 0%)\n",
            "  adding: content/data/cifar10_filtered/ (stored 0%)\n",
            "  adding: content/data/cifar10_filtered/intermediate/ (stored 0%)\n",
            "  adding: content/data/cifar10_filtered/intermediate/20220816_2014/ (stored 0%)\n",
            "  adding: content/data/cifar10_filtered/intermediate/20220816_2014/VGG_16/ (stored 0%)\n",
            "  adding: content/data/cifar10_filtered/intermediate/20220816_2014/VGG_16/train_normalize.npy (deflated 16%)\n",
            "  adding: content/data/cifar10_filtered/intermediate/20220816_2014/VGG_16/test_normalize.npy (deflated 16%)\n",
            "  adding: content/data/cifar10_filtered/intermediate/20220816_2014/CNN_Input_1/ (stored 0%)\n",
            "  adding: content/data/cifar10_filtered/intermediate/20220816_2014/CNN_Input_1/train_normalize.npy (deflated 51%)\n",
            "  adding: content/data/cifar10_filtered/intermediate/20220816_2014/CNN_Input_1/test_normalize.npy (deflated 51%)\n",
            "  adding: content/data/cifar10_filtered/intermediate/20220816_2014/CNN_Input_2/ (stored 0%)\n",
            "  adding: content/data/cifar10_filtered/intermediate/20220816_2014/CNN_Input_2/train_normalize.npy (deflated 50%)\n",
            "  adding: content/data/cifar10_filtered/intermediate/20220816_2014/CNN_Input_2/test_normalize.npy (deflated 50%)\n",
            "  adding: content/models/ (stored 0%)\n",
            "  adding: content/models/viz/ (stored 0%)\n",
            "  adding: content/models/viz/20220816_1854_CNN_Input_1.gv.pdf (deflated 6%)\n",
            "  adding: content/models/viz/20220816_1854_CNN_Input_2.gv.pdf (deflated 6%)\n",
            "  adding: content/models/viz/20220816_1854_CNN_Input_1.gv (deflated 83%)\n",
            "  adding: content/models/viz/20220816_1854_CNN_Input_1.png (deflated 14%)\n",
            "  adding: content/models/viz/20220816_1854_CNN_Input_2.gv (deflated 81%)\n",
            "  adding: content/models/viz/20220816_1854_CNN_Input_2.png (deflated 18%)\n",
            "  adding: content/models/h5files/ (stored 0%)\n",
            "  adding: content/models/h5files/20220816_1854_CNN_Input_1.h5 (deflated 7%)\n",
            "  adding: content/models/h5files/20220816_1854_CNN_Input_2.h5 (deflated 8%)\n",
            "  adding: content/sample_images/ (stored 0%)\n",
            "  adding: content/sample_images/20220816_1854/ (stored 0%)\n",
            "  adding: content/sample_images/20220816_1854/cifar10_1_sample_image_raw.png (deflated 20%)\n",
            "  adding: content/sample_images/20220816_1854/cifar10_5_sample_image_normalized.png (deflated 37%)\n",
            "  adding: content/sample_images/20220816_1854/cifar10_3_sample_image_normalized.png (deflated 42%)\n",
            "  adding: content/sample_images/20220816_1854/cifar10_9_sample_image_normalized.png (deflated 36%)\n",
            "  adding: content/sample_images/20220816_1854/cifar10_9_sample_image_raw.png (deflated 19%)\n",
            "  adding: content/sample_images/20220816_1854/cifar10_2_sample_image_normalized.png (deflated 37%)\n",
            "  adding: content/sample_images/20220816_1854/cifar10_6_sample_image_raw.png (deflated 19%)\n",
            "  adding: content/sample_images/20220816_1854/cifar10_8_sample_image_raw.png (deflated 21%)\n",
            "  adding: content/sample_images/20220816_1854/cifar10_7_sample_image_raw.png (deflated 19%)\n",
            "  adding: content/sample_images/20220816_1854/cifar10_2_sample_image_raw.png (deflated 20%)\n",
            "  adding: content/sample_images/20220816_1854/cifar10_1_sample_image_normalized.png (deflated 40%)\n",
            "  adding: content/sample_images/20220816_1854/cifar10_0_sample_image_normalized.png (deflated 43%)\n",
            "  adding: content/sample_images/20220816_1854/cifar10_7_sample_image_normalized.png (deflated 37%)\n",
            "  adding: content/sample_images/20220816_1854/cifar10_5_sample_image_raw.png (deflated 19%)\n",
            "  adding: content/sample_images/20220816_1854/cifar10_6_sample_image_normalized.png (deflated 37%)\n",
            "  adding: content/sample_images/20220816_1854/cifar10_3_sample_image_raw.png (deflated 22%)\n",
            "  adding: content/sample_images/20220816_1854/cifar10_0_sample_image_raw.png (deflated 19%)\n",
            "  adding: content/sample_images/20220816_1854/cifar10_4_sample_image_normalized.png (deflated 37%)\n",
            "  adding: content/sample_images/20220816_1854/cifar10_8_sample_image_normalized.png (deflated 40%)\n",
            "  adding: content/sample_images/20220816_1854/cifar10_4_sample_image_raw.png (deflated 20%)\n",
            "  adding: content/model_weights_cifarvgg/ (stored 0%)\n",
            "  adding: content/model_weights_cifarvgg/cifar10vgg.h5 (deflated 7%)\n",
            "  adding: content/model_weights_cifarvgg/cifar100vgg.h5 (deflated 7%)\n",
            "  adding: content/sample_data/ (stored 0%)\n",
            "  adding: content/sample_data/anscombe.json (deflated 83%)\n",
            "  adding: content/sample_data/README.md (deflated 42%)\n",
            "  adding: content/sample_data/california_housing_test.csv (deflated 76%)\n",
            "  adding: content/sample_data/california_housing_train.csv (deflated 79%)\n",
            "  adding: content/sample_data/mnist_test.csv (deflated 88%)\n",
            "  adding: content/sample_data/mnist_train_small.csv (deflated 88%)\n"
          ]
        }
      ],
      "source": [
        "!zip -r /content/file.zip /content"
      ]
    },
    {
      "cell_type": "code",
      "source": [
        ""
      ],
      "metadata": {
        "id": "Vv7Gihzx8bvw"
      },
      "id": "Vv7Gihzx8bvw",
      "execution_count": null,
      "outputs": []
    }
  ],
  "metadata": {
    "kernelspec": {
      "display_name": "Python 3 (ipykernel)",
      "language": "python",
      "name": "python3"
    },
    "language_info": {
      "codemirror_mode": {
        "name": "ipython",
        "version": 3
      },
      "file_extension": ".py",
      "mimetype": "text/x-python",
      "name": "python",
      "nbconvert_exporter": "python",
      "pygments_lexer": "ipython3",
      "version": "3.8.12"
    },
    "colab": {
      "name": "1_cnn_cifar_data.ipynb",
      "provenance": [],
      "collapsed_sections": []
    },
    "accelerator": "GPU",
    "gpuClass": "standard"
  },
  "nbformat": 4,
  "nbformat_minor": 5
}