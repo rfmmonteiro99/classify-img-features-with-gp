{
 "cells": [
  {
   "cell_type": "code",
   "execution_count": 2,
   "metadata": {
    "executionInfo": {
     "elapsed": 857,
     "status": "ok",
     "timestamp": 1640878921971,
     "user": {
      "displayName": "Rui Monteiro",
      "photoUrl": "https://lh3.googleusercontent.com/a-/AOh14GgKVIMKvRgwrqqsLaRLnXC3KSBD2PtlnDhb5MmDCw=s64",
      "userId": "08639295591475412373"
     },
     "user_tz": 0
    },
    "id": "D9YtflEb9UNd"
   },
   "outputs": [],
   "source": [
    "from sklearn.datasets import load_wine"
   ]
  },
  {
   "cell_type": "code",
   "execution_count": 3,
   "metadata": {
    "executionInfo": {
     "elapsed": 286,
     "status": "ok",
     "timestamp": 1640878936109,
     "user": {
      "displayName": "Rui Monteiro",
      "photoUrl": "https://lh3.googleusercontent.com/a-/AOh14GgKVIMKvRgwrqqsLaRLnXC3KSBD2PtlnDhb5MmDCw=s64",
      "userId": "08639295591475412373"
     },
     "user_tz": 0
    },
    "id": "lmca4A4aAU5a"
   },
   "outputs": [],
   "source": [
    "data = load_wine()"
   ]
  },
  {
   "cell_type": "code",
   "execution_count": 4,
   "metadata": {
    "executionInfo": {
     "elapsed": 12,
     "status": "ok",
     "timestamp": 1640878970372,
     "user": {
      "displayName": "Rui Monteiro",
      "photoUrl": "https://lh3.googleusercontent.com/a-/AOh14GgKVIMKvRgwrqqsLaRLnXC3KSBD2PtlnDhb5MmDCw=s64",
      "userId": "08639295591475412373"
     },
     "user_tz": 0
    },
    "id": "YCxlZVDnAWo8"
   },
   "outputs": [],
   "source": [
    "X = data.data"
   ]
  },
  {
   "cell_type": "code",
   "execution_count": 5,
   "metadata": {
    "executionInfo": {
     "elapsed": 11,
     "status": "ok",
     "timestamp": 1640879000507,
     "user": {
      "displayName": "Rui Monteiro",
      "photoUrl": "https://lh3.googleusercontent.com/a-/AOh14GgKVIMKvRgwrqqsLaRLnXC3KSBD2PtlnDhb5MmDCw=s64",
      "userId": "08639295591475412373"
     },
     "user_tz": 0
    },
    "id": "hvdqAlndAWm6"
   },
   "outputs": [],
   "source": [
    "Y = data.target"
   ]
  },
  {
   "cell_type": "markdown",
   "metadata": {
    "id": "-i8BEC1dAWZT"
   },
   "source": [
    "<font color='red'>**From now on the code is not tested.**</font>"
   ]
  },
  {
   "cell_type": "code",
   "execution_count": 9,
   "metadata": {},
   "outputs": [],
   "source": [
    "from sklearn.model_selection import train_test_split\n",
    "from sklearn.metrics import accuracy_score"
   ]
  },
  {
   "cell_type": "code",
   "execution_count": null,
   "metadata": {},
   "outputs": [],
   "source": [
    "from ellyn import ellyn"
   ]
  },
  {
   "cell_type": "code",
   "execution_count": 10,
   "metadata": {},
   "outputs": [],
   "source": [
    "X_train, X_test, y_train, y_test = train_test_split(X, Y,\n",
    "                                                    test_size=0.2, random_state=42)"
   ]
  },
  {
   "cell_type": "code",
   "execution_count": null,
   "metadata": {},
   "outputs": [],
   "source": [
    "e = ellyn(g=200, \n",
    "          popsize=500, \n",
    "          classification=True, \n",
    "          verbosity=0,\n",
    "          selection='afp',\n",
    "          fit_type='F1')"
   ]
  },
  {
   "cell_type": "code",
   "execution_count": null,
   "metadata": {},
   "outputs": [],
   "source": [
    "e.fit(X_train, y_train)"
   ]
  },
  {
   "cell_type": "code",
   "execution_count": null,
   "metadata": {},
   "outputs": [],
   "source": [
    "print(e.predict(X_test))"
   ]
  },
  {
   "cell_type": "code",
   "execution_count": null,
   "metadata": {},
   "outputs": [],
   "source": [
    "print('M4GP:', accuracy_score(y_test, e.predict(X_test)))"
   ]
  },
  {
   "cell_type": "code",
   "execution_count": null,
   "metadata": {},
   "outputs": [],
   "source": []
  }
 ],
 "metadata": {
  "colab": {
   "authorship_tag": "ABX9TyP4N2+IWzob4kUjUlrlLsZu",
   "name": "m4gp_tests.ipynb",
   "provenance": []
  },
  "kernelspec": {
   "display_name": "Python 3 (ipykernel)",
   "language": "python",
   "name": "python3"
  },
  "language_info": {
   "codemirror_mode": {
    "name": "ipython",
    "version": 3
   },
   "file_extension": ".py",
   "mimetype": "text/x-python",
   "name": "python",
   "nbconvert_exporter": "python",
   "pygments_lexer": "ipython3",
   "version": "3.8.12"
  }
 },
 "nbformat": 4,
 "nbformat_minor": 1
}
