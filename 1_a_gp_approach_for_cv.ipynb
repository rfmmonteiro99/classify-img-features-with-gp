{
 "cells": [
  {
   "cell_type": "markdown",
   "id": "15ea4edd",
   "metadata": {},
   "source": [
    "# A Genetic Programming Approach for Computer Vision\n",
    "\n",
    "### Classifying High-level Image Features from Convolutional Layers with an Evolutionary Algorithm\n",
    "\n",
    "Rui Filipe Martins Monteiro (R20170796) | MSc in Data Science and Advanced Analytics"
   ]
  },
  {
   "cell_type": "code",
   "execution_count": 1,
   "id": "974cbaa2",
   "metadata": {},
   "outputs": [],
   "source": [
    "# Imports\n",
    "from keras.datasets import cifar10"
   ]
  },
  {
   "cell_type": "code",
   "execution_count": null,
   "id": "3bf43bc9",
   "metadata": {},
   "outputs": [],
   "source": []
  }
 ],
 "metadata": {
  "kernelspec": {
   "display_name": "Python 3 (ipykernel)",
   "language": "python",
   "name": "python3"
  },
  "language_info": {
   "codemirror_mode": {
    "name": "ipython",
    "version": 3
   },
   "file_extension": ".py",
   "mimetype": "text/x-python",
   "name": "python",
   "nbconvert_exporter": "python",
   "pygments_lexer": "ipython3",
   "version": "3.8.12"
  }
 },
 "nbformat": 4,
 "nbformat_minor": 5
}
